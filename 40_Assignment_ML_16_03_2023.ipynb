{
 "cells": [
  {
   "cell_type": "markdown",
   "id": "4b79326f-3227-4ca2-8554-1d378e6f8fdb",
   "metadata": {},
   "source": [
    "Q1: Define overfitting and underfitting in machine learning. What are the consequences of each, and how\n",
    "can they be mitigated?"
   ]
  },
  {
   "cell_type": "markdown",
   "id": "06e19837-b2c3-4cd7-859e-6837e56b4c69",
   "metadata": {},
   "source": [
    "A statistical model is said to be overfitted when the model does not make accurate predictions on testing data. When a model gets trained with so much data, it starts learning from the noise and inaccurate data entries in our data set. \n",
    "\n",
    "A statistical model or a machine learning algorithm is said to have underfitting when it cannot capture the underlying trend of the data, i.e., it only performs well on training data but performs poorly on testing data.\n",
    "\n",
    "Both underfitting and overfitting results in wrong prediction of output and they can be mitigated by using good quality input data sets and reduce complexitiy in input data to have good output."
   ]
  },
  {
   "cell_type": "raw",
   "id": "b3b12f2f-2302-40b1-8d06-36fa0e932c35",
   "metadata": {},
   "source": [
    "Q2: How can we reduce overfitting? Explain in brief."
   ]
  },
  {
   "cell_type": "markdown",
   "id": "dce7ad11-037a-41e3-8163-031d0b54658d",
   "metadata": {},
   "source": [
    "Overfitting can bu reduced by training the model in quality input datasets.\n",
    "That can be done by\n",
    "1.Increasing the training data.\n",
    "2.Reducing the model complexity.\n",
    "3.Early stopping during the training phase \n",
    "4.Regularization\n",
    "5.Use dropout for neural networks to tackle overfitting."
   ]
  },
  {
   "cell_type": "markdown",
   "id": "113631be-e350-43d6-bd63-d8480842b3c4",
   "metadata": {},
   "source": [
    "Q3: Explain underfitting. List scenarios where underfitting can occur in ML."
   ]
  },
  {
   "cell_type": "markdown",
   "id": "c4ee873f-a69c-4ffb-a222-0d6eafb3cb4f",
   "metadata": {},
   "source": [
    "A statistical model or a machine learning algorithm is said to have underfitting when it cannot capture the underlying trend of the data, i.e., it only performs well on training data but performs poorly on testing data.\n",
    "\n",
    "It usually happens when we have fewer data to build an accurate model and also when we try to build a linear model with fewer non-linear data. "
   ]
  },
  {
   "cell_type": "markdown",
   "id": "a1e255c8-c546-48be-bebd-551c34620fab",
   "metadata": {},
   "source": [
    "Q4: Explain the bias-variance tradeoff in machine learning. What is the relationship between bias and\n",
    "variance, and how do they affect model performance?"
   ]
  },
  {
   "cell_type": "markdown",
   "id": "382f0785-5d72-40e2-bcc5-bd6c9384344c",
   "metadata": {},
   "source": [
    "The bias-variance tradeoff in machine learning refers to the tradeoff between bias and variance of a model to accurately capture the underlying patterns in the data and its ability to generalize well to new, unseen data. \n",
    "\n",
    "The bias is known as the difference between the prediction of the values by the ML model and the correct value. If Highly bias it means output is not correct.\n",
    "\n",
    "The variability of model prediction for a given data point which tells us spread of our data is called the variance of the model. The model with high variance has a very complex fit to the training data and thus is not able to fit accurately on the data which it hasn’t seen before. \n",
    "\n",
    "VThe tradeoff is the tension between the error introduced by the bias and the variance"
   ]
  },
  {
   "cell_type": "markdown",
   "id": "ac0076e5-8d2e-4866-adfd-a020ff8c05ee",
   "metadata": {},
   "source": [
    "Q5: Discuss some common methods for detecting overfitting and underfitting in machine learning models.\n",
    "How can you determine whether your model is overfitting or underfitting?"
   ]
  },
  {
   "cell_type": "markdown",
   "id": "393266f6-70ee-473c-b2e5-b4ff954d54f7",
   "metadata": {},
   "source": [
    "To determine if a model is overfitting or underfitting, you can compare the accuracy of the model on training data and test data. \n",
    "\n",
    "If the model performs poorly on the training data, it is underfitting.\n",
    "\n",
    "If the model fits the training data perfectly but does poorly on new test datasets, it is overfitting. "
   ]
  },
  {
   "cell_type": "markdown",
   "id": "6b9a8b05-8233-4dec-8d0f-1411f3a89b66",
   "metadata": {},
   "source": [
    "Q6: Compare and contrast bias and variance in machine learning. What are some examples of high bias\n",
    "and high variance models, and how do they differ in terms of their performance?"
   ]
  },
  {
   "cell_type": "markdown",
   "id": "454a7a51-c9e9-48be-ba57-0b6f416d6bd7",
   "metadata": {},
   "source": [
    "Bias is considered a systematic error that occurs in the machine learning model itself due to incorrect assumptions in the ML process.\n",
    "Variance refers to the changes in the model when using different portions of the training data set.\n",
    "\n",
    "Linear regression  - High bias and low variance\n",
    "Bagging  - Low bias and high variance."
   ]
  },
  {
   "cell_type": "markdown",
   "id": "d899c145-38e1-4b03-b7ec-a997afbbf8cb",
   "metadata": {},
   "source": [
    "Q7: What is regularization in machine learning, and how can it be used to prevent overfitting? Describe\n",
    "some common regularization techniques and how they work."
   ]
  },
  {
   "cell_type": "markdown",
   "id": "72b29355-721e-42be-b118-1e7e28a67ab2",
   "metadata": {},
   "source": [
    "Regularization is a technique used to reduce errors by fitting the function appropriately on the given training set and avoiding overfitting. \n",
    "\n",
    "By adjusting and neglecting the input data set correctly we are pretaining to train the model with good set of input data, so overfitting is avoided.\n",
    "\n",
    "The commonly used regularization techniques are Lasso Regularization, Ridge Regularization, and Elastic Net Regularization."
   ]
  }
 ],
 "metadata": {
  "kernelspec": {
   "display_name": "Python 3 (ipykernel)",
   "language": "python",
   "name": "python3"
  },
  "language_info": {
   "codemirror_mode": {
    "name": "ipython",
    "version": 3
   },
   "file_extension": ".py",
   "mimetype": "text/x-python",
   "name": "python",
   "nbconvert_exporter": "python",
   "pygments_lexer": "ipython3",
   "version": "3.10.8"
  }
 },
 "nbformat": 4,
 "nbformat_minor": 5
}
