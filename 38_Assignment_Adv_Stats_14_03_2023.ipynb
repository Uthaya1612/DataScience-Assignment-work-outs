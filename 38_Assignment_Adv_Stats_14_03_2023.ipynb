{
 "cells": [
  {
   "cell_type": "markdown",
   "id": "f4315485-e1d4-4962-9d86-9f3aba11ec31",
   "metadata": {},
   "source": [
    "Q1. Write a Python function that takes in two arrays of data and calculates the F-value for a variance ratio \n",
    "test. The function should return the F-value and the corresponding p-value for the test."
   ]
  },
  {
   "cell_type": "code",
   "execution_count": 10,
   "id": "9053be9c-fc89-4ac1-b856-6c4504e8ef66",
   "metadata": {},
   "outputs": [
    {
     "name": "stdout",
     "output_type": "stream",
     "text": [
      "F-value.. 13.63429571303587\n",
      "P-value.. 3.7870435399280677\n"
     ]
    }
   ],
   "source": [
    "array1= [10,15,12,25,35,45,48,50]\n",
    "array2= [14, 15, 15, 17, 18, 22, 25, 25]\n",
    "import numpy as np\n",
    "f_test=np.var(array1)/np.var(array2)\n",
    "print(\"F-value..\",f_test)\n",
    "df1=len(array1)-1\n",
    "df2=len(array2)-1\n",
    "significane_value=0.05\n",
    "import scipy.stats as stat\n",
    "critical_value=stat.f.ppf(q=1-significane_value,dfn=df1,dfd=df2)\n",
    "print(\"P-value..\",critical_value)"
   ]
  },
  {
   "cell_type": "markdown",
   "id": "eb115c60-d0f3-4d31-bf31-24bee5eb5b4b",
   "metadata": {},
   "source": [
    "Q2. Given a significance level of 0.05 and the degrees of freedom for the numerator and denominator of an \n",
    "F-distribution, write a Python function that returns the critical F-value for a two-tailed test.import scipy.stats as stat"
   ]
  },
  {
   "cell_type": "code",
   "execution_count": 1,
   "id": "44463ceb-b76d-43d4-af2b-b09d94dafbb5",
   "metadata": {},
   "outputs": [
    {
     "data": {
      "text/plain": [
       "3.373753647039214"
      ]
     },
     "execution_count": 1,
     "metadata": {},
     "output_type": "execute_result"
    }
   ],
   "source": [
    "import scipy.stats as stat\n",
    "df1 = 10\n",
    "df2 = 4\n",
    "alpha = 0.05\n",
    "stat.f.ppf(0.95, 6, 9)\n"
   ]
  },
  {
   "cell_type": "markdown",
   "id": "bbe4a6ef-138a-4c28-93ba-5a9e72804945",
   "metadata": {},
   "source": [
    "Q3. Write a Python program that generates random samples from two normal distributions with known \n",
    "variances and uses an F-test to determine if the variances are equal. The program should output the F-value, degrees of freedom, and p-value for the test."
   ]
  },
  {
   "cell_type": "code",
   "execution_count": 17,
   "id": "2fee4097-b884-44cc-a54a-d6f09ee135ee",
   "metadata": {},
   "outputs": [
    {
     "name": "stdout",
     "output_type": "stream",
     "text": [
      "F-value.. 0.7285858068663755\n",
      "Degree of freedom of numerator ... 14\n",
      "Degree of freedom of denomenator ... 19\n",
      "P-value.. 2.255613901763996\n"
     ]
    }
   ],
   "source": [
    "import numpy as np\n",
    "array1= np.random.normal(10,5,15)\n",
    "array2=np.random.normal(15,5,20)\n",
    "\n",
    "f_test=np.var(array1)/np.var(array2)\n",
    "print(\"F-value..\",f_test)\n",
    "df1=len(array1)-1\n",
    "df2=len(array2)-1\n",
    "print(\"Degree of freedom of numerator ...\",df1)\n",
    "print(\"Degree of freedom of denomenator ...\",df2)\n",
    "significane_value=0.05\n",
    "import scipy.stats as stat\n",
    "critical_value=stat.f.ppf(q=1-significane_value,dfn=df1,dfd=df2)\n",
    "print(\"P-value..\",critical_value)"
   ]
  },
  {
   "cell_type": "markdown",
   "id": "ee067d8b-a7ef-436d-a989-7a71c55655fb",
   "metadata": {},
   "source": [
    "Q4.The variances of two populations are known to be 10 and 15. A sample of 12 observations is taken from each population. Conduct an F-test at the 5% significance level to determine if the variances are significantly different."
   ]
  },
  {
   "cell_type": "code",
   "execution_count": 12,
   "id": "70059c93-0bd4-46d6-b3ba-10e8e44fd4d6",
   "metadata": {},
   "outputs": [
    {
     "data": {
      "text/plain": [
       "2.543718549692808"
      ]
     },
     "execution_count": 12,
     "metadata": {},
     "output_type": "execute_result"
    }
   ],
   "source": [
    "import scipy.stats as stat\n",
    "S1 = 10\n",
    "S2 = 15\n",
    "alpha = 0.05\n",
    "stat.f.ppf(0.95, 10, 15)"
   ]
  },
  {
   "cell_type": "markdown",
   "id": "6ec7842f-3812-449e-bfad-0254996c74ff",
   "metadata": {},
   "source": [
    "Q5. A manufacturer claims that the variance of the diameter of a certain product is 0.005. A sample of 25 products is taken, and the sample variance is found to be 0.006. Conduct an F-test at the 1% significance level to determine if the claim is justified."
   ]
  },
  {
   "cell_type": "code",
   "execution_count": 9,
   "id": "c8a44fe5-0e36-49a5-b4be-a292e516aa1b",
   "metadata": {},
   "outputs": [
    {
     "name": "stdout",
     "output_type": "stream",
     "text": [
      "F-value.. 0.8333333333333334\n",
      "P-value.. 2.604113368416922\n"
     ]
    }
   ],
   "source": [
    "import numpy as np\n",
    "S1 = 0.005\n",
    "S2= 0.006\n",
    "n =25\n",
    "f_test=S1/S2\n",
    "print(\"F-value..\",f_test)\n",
    "\n",
    "significane_value=0.01\n",
    "import scipy.stats as stat\n",
    "critical_value=stat.f.ppf(q=1-significane_value,dfn=n,dfd=n)\n",
    "print(\"P-value..\",critical_value)"
   ]
  },
  {
   "cell_type": "markdown",
   "id": "199fedfc-818b-44ae-b649-dbbb4df83fc2",
   "metadata": {},
   "source": [
    "Q6. Write a Python function that takes in the degrees of freedom for the numerator and denominator of an F-distribution and calculates the mean and variance of the distribution. The function should return the mean and variance as a tuple."
   ]
  },
  {
   "cell_type": "code",
   "execution_count": null,
   "id": "53245b87-9368-4263-b96f-51e540a6a7e7",
   "metadata": {},
   "outputs": [],
   "source": [
    "df1=10\n",
    "df2=15\n",
    "significane_value=0.05\n",
    "import scipy.stats as stat\n",
    "critical_value=stat.f.ppf(q=1-significane_value,dfn=df1,dfd=df2)\n",
    "print(\"P-value..\",critical_value)"
   ]
  },
  {
   "cell_type": "markdown",
   "id": "13d6e8ba-047c-4e03-bada-a288258824c8",
   "metadata": {},
   "source": [
    "Q7. A random sample of 10 measurements is taken from a normal population with unknown variance. The sample variance is found to be 25. Another random sample of 15 measurements is taken from another normal population with unknown variance, and the sample variance is found to be 20. Conduct an F-test at the 10% significance level to determine if the variances are significantly different."
   ]
  },
  {
   "cell_type": "code",
   "execution_count": 4,
   "id": "26702675-5ae9-48ff-8f74-d0acad9f9197",
   "metadata": {},
   "outputs": [
    {
     "name": "stdout",
     "output_type": "stream",
     "text": [
      "F-value.. 1.25\n",
      "P-value.. 2.121954566976902\n"
     ]
    }
   ],
   "source": [
    "import scipy.stats as stat\n",
    "S1 = 25\n",
    "n1 = 10\n",
    "S2 = 20\n",
    "n2= 15\n",
    "df1 = n1-1\n",
    "df2 = n2-1\n",
    "alpha = 0.1\n",
    "f_test=S1/S2\n",
    "print(\"F-value..\",f_test)\n",
    "critical_value=stat.f.ppf(q=1-alpha,dfn=df1,dfd=df2)\n",
    "print(\"P-value..\",critical_value)"
   ]
  },
  {
   "cell_type": "markdown",
   "id": "cf252863-0627-480e-a0e2-026902347089",
   "metadata": {},
   "source": [
    "Since this p-value is not less than .05, we fail to reject the null hypothesis. In other words, we can assume the sample variances are equal."
   ]
  },
  {
   "cell_type": "markdown",
   "id": "e8bcd91e-3be7-4b45-9184-f2dbf6c8e54a",
   "metadata": {},
   "source": [
    "Q8. The following data represent the waiting times in minutes at two different restaurants on a Saturday night: Restaurant A: 24, 25, 28, 23, 22, 20, 27; Restaurant B: 31, 33, 35, 30, 32, 36. Conduct an F-test at the 5% significance level to determine if the variances are significantly different."
   ]
  },
  {
   "cell_type": "code",
   "execution_count": 5,
   "id": "ddff14a5-b461-48c9-ac5a-d008c3d15ab1",
   "metadata": {},
   "outputs": [
    {
     "name": "stdout",
     "output_type": "stream",
     "text": [
      "F-value.. 1.496767651159843\n",
      "P-value.. 4.950288068694318\n"
     ]
    }
   ],
   "source": [
    "array1= [24, 25, 28, 23, 22, 20, 27]\n",
    "array2= [31, 33, 35, 30, 32, 36]\n",
    "import numpy as np\n",
    "f_test=np.var(array1)/np.var(array2)\n",
    "print(\"F-value..\",f_test)\n",
    "df1=len(array1)-1\n",
    "df2=len(array2)-1\n",
    "significane_value=0.05\n",
    "import scipy.stats as stat\n",
    "critical_value=stat.f.ppf(q=1-significane_value,dfn=df1,dfd=df2)\n",
    "print(\"P-value..\",critical_value)"
   ]
  },
  {
   "cell_type": "markdown",
   "id": "838d3544-8055-457c-bffe-053b5ff313f8",
   "metadata": {},
   "source": [
    "Since this p-value is not less than .05, we fail to reject the null hypothesis. In other words, we can assume the sample variances are equal."
   ]
  },
  {
   "cell_type": "markdown",
   "id": "279d0c3f-7f7f-4d2e-a13d-c98c857190c3",
   "metadata": {},
   "source": [
    "Q9. The following data represent the test scores of two groups of students: Group A: 80, 85, 90, 92, 87, 83; Group B: 75, 78, 82, 79, 81, 84. Conduct an F-test at the 1% significance level to determine if the variances are significantly different"
   ]
  },
  {
   "cell_type": "code",
   "execution_count": 7,
   "id": "0c24c9fc-9c3f-4eb8-a3cc-3b9402258a31",
   "metadata": {},
   "outputs": [
    {
     "name": "stdout",
     "output_type": "stream",
     "text": [
      "F-value.. 1.9442622950819677\n",
      "P-value.. 10.967020650907992\n"
     ]
    }
   ],
   "source": [
    "array1= [80, 85, 90, 92, 87, 83]\n",
    "array2= [75, 78, 82, 79, 81, 84]\n",
    "import numpy as np\n",
    "f_test=np.var(array1)/np.var(array2)\n",
    "print(\"F-value..\",f_test)\n",
    "df1=len(array1)-1\n",
    "df2=len(array2)-1\n",
    "significane_value=0.01\n",
    "import scipy.stats as stat\n",
    "critical_value=stat.f.ppf(q=1-significane_value,dfn=df1,dfd=df2)\n",
    "print(\"P-value..\",critical_value)"
   ]
  },
  {
   "cell_type": "markdown",
   "id": "2b822d1e-296e-43d2-92e9-e12ed17a9d17",
   "metadata": {},
   "source": [
    "Since this p-value is not less than .05, we fail to reject the null hypothesis. In other words, we can assume the sample variances are equal."
   ]
  }
 ],
 "metadata": {
  "kernelspec": {
   "display_name": "Python 3 (ipykernel)",
   "language": "python",
   "name": "python3"
  },
  "language_info": {
   "codemirror_mode": {
    "name": "ipython",
    "version": 3
   },
   "file_extension": ".py",
   "mimetype": "text/x-python",
   "name": "python",
   "nbconvert_exporter": "python",
   "pygments_lexer": "ipython3",
   "version": "3.10.8"
  }
 },
 "nbformat": 4,
 "nbformat_minor": 5
}
