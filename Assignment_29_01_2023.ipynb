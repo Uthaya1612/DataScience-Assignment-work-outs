{
 "cells": [
  {
   "cell_type": "markdown",
   "id": "b4f97326-a111-495c-9f17-d93ccbb653d5",
   "metadata": {},
   "source": [
    "1. Python was first developed in Guido Von Rossum in 1991."
   ]
  },
  {
   "cell_type": "markdown",
   "id": "8968845f-6146-4ad7-99f0-681b1f42a8b6",
   "metadata": {},
   "source": [
    "2. Python supports Object Oriented programming,Structured  and functional programming"
   ]
  },
  {
   "cell_type": "markdown",
   "id": "8b4bfe87-e01d-4c5e-a3e3-3bef258e1b7c",
   "metadata": {},
   "source": [
    "3. Yes, python is case sensitive when dealing with identifiers"
   ]
  },
  {
   "cell_type": "markdown",
   "id": "b7169524-891f-4a38-8885-f19bf4d93af3",
   "metadata": {},
   "source": [
    "4. Correct extension of Python is .ipynb - Interactive python note book"
   ]
  },
  {
   "cell_type": "markdown",
   "id": "ab879d7e-36ce-41c9-9646-1757e741e3c7",
   "metadata": {},
   "source": [
    "5. Python is mainly a interperted programming it will execute line by line and shows error on that line."
   ]
  },
  {
   "cell_type": "raw",
   "id": "37bfc7ef-0d2e-4239-8618-a2ba713b674c",
   "metadata": {},
   "source": [
    "6. In python we will use if else case, loops such as for loop,while loop,do loop , print statement to get output.."
   ]
  },
  {
   "cell_type": "markdown",
   "id": "47c6c7e9-fd9b-4722-b668-37a8f76d4481",
   "metadata": {},
   "source": [
    "7.# are used to define single line comments"
   ]
  },
  {
   "cell_type": "markdown",
   "id": "fb6ecda8-f9f9-41a6-907c-36e5de0f68f3",
   "metadata": {},
   "source": [
    "8.To find the version of the currently used python use Sys.version"
   ]
  },
  {
   "cell_type": "markdown",
   "id": "0c04c6e5-d2d0-4354-b5dd-203436d12486",
   "metadata": {},
   "source": [
    "9. Lambda function is used to create anonymous function in runtime"
   ]
  },
  {
   "cell_type": "markdown",
   "id": "f5b2a109-3ed3-4fff-adaf-3cc05f8872ea",
   "metadata": {},
   "source": [
    "10. PIP - Python Package index"
   ]
  },
  {
   "cell_type": "markdown",
   "id": "cd85d481-a1b1-45c3-8d01-30ce59d44175",
   "metadata": {},
   "source": [
    "11. Few built in functions in python are len(),index(),str(),print()... etc"
   ]
  },
  {
   "cell_type": "markdown",
   "id": "0917d137-5e53-4709-aab4-e13a6bb792cf",
   "metadata": {},
   "source": [
    "12. Identifiers can be of any length but as per the python style guide it should be within 79 characters for better readability."
   ]
  },
  {
   "cell_type": "markdown",
   "id": "92ac521f-ef14-4234-90d5-1dccce373bc3",
   "metadata": {},
   "source": [
    "13. Python is a multipurpose programming language. Few applications includes \n",
    "Web applications\n",
    "Game development\n",
    "Data analysis\n",
    "Machine learning and artificial intelligence\n",
    "GUI based desktop applications\n",
    "Enterprise and business applications"
   ]
  },
  {
   "cell_type": "markdown",
   "id": "abeeca8c-aa76-4ad0-9cd3-babd11ba9218",
   "metadata": {},
   "source": [
    "14.There are two parts of memory in python:\n",
    "\n",
    "stack memory\n",
    "heap memory\n",
    "The methods/method calls and the references are stored in stack memory and all the values objects are stored in a private heap."
   ]
  },
  {
   "cell_type": "markdown",
   "id": "f65678bd-e383-4eb2-8841-0bb72c787761",
   "metadata": {},
   "source": [
    "15. First download the python latest version from website and while installing in local PC specify the suitable user path for variables."
   ]
  },
  {
   "cell_type": "markdown",
   "id": "2f13b242-440b-49eb-beda-d0d101ad477e",
   "metadata": {},
   "source": [
    "16. Yes, indentation is important in python programming language."
   ]
  },
  {
   "cell_type": "code",
   "execution_count": null,
   "id": "fb6e2005-2b8a-42ba-91f5-9657d3ce1349",
   "metadata": {},
   "outputs": [],
   "source": []
  }
 ],
 "metadata": {
  "kernelspec": {
   "display_name": "Python 3 (ipykernel)",
   "language": "python",
   "name": "python3"
  },
  "language_info": {
   "codemirror_mode": {
    "name": "ipython",
    "version": 3
   },
   "file_extension": ".py",
   "mimetype": "text/x-python",
   "name": "python",
   "nbconvert_exporter": "python",
   "pygments_lexer": "ipython3",
   "version": "3.10.8"
  }
 },
 "nbformat": 4,
 "nbformat_minor": 5
}
