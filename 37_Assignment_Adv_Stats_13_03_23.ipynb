{
 "cells": [
  {
   "cell_type": "markdown",
   "id": "10179eca-95c7-4a49-9820-efbbc034619d",
   "metadata": {},
   "source": [
    "Q1. Explain the assumptions required to use ANOVA and provide examples of violations that could impact\n",
    "the validity of the results."
   ]
  },
  {
   "cell_type": "markdown",
   "id": "70bbe1b3-116c-48d6-a064-5f4eb0dd5979",
   "metadata": {},
   "source": [
    "1.Normality–Each sample was drawn from a normally distributed population.\n",
    "2.Equal Variances – The variances of the populations that the samples come from are equal.\n",
    "3.Independence – The observations in each group are independent of each other and the observations within groups were obtained by a random sample.\n",
    "\n",
    "If these assumptions aren’t met, then the results of our one-way ANOVA could be unreliable."
   ]
  },
  {
   "cell_type": "markdown",
   "id": "f034e1b8-edd7-40f5-b3d1-6045d98fb79b",
   "metadata": {},
   "source": [
    "Q2. What are the three types of ANOVA, and in what situations would each be used?\n",
    "\n"
   ]
  },
  {
   "cell_type": "markdown",
   "id": "e7932343-6506-44f1-83a5-2ba9a6c307da",
   "metadata": {},
   "source": [
    "One-way ANOVA- One-way ANOVA is used to determine one factor with atleast 2 levels and these levels are independent.\n",
    "Repeated measure ANOVA - It is used to determine one factor with atleast 2 levels and these levels are dependent here.\n",
    "Factorial ANOVA - Used to determine 2 or more factors each of which with atleast 2 levels and these levels can be independent or depented"
   ]
  },
  {
   "cell_type": "markdown",
   "id": "7ac19263-084f-4c8b-aaa1-cbc238befcc7",
   "metadata": {},
   "source": [
    "Q3. What is the partitioning of variance in ANOVA, and why is it important to understand this concept?"
   ]
  },
  {
   "cell_type": "markdown",
   "id": "4d0d782c-4adb-4132-b121-1b523513a075",
   "metadata": {},
   "source": [
    "ANOVA is based on the law of total variance, where the observed variance in a particular variable is partitioned into components attributable to different sources of variation. In its simplest form, ANOVA provides a statistical test of whether two or more population means are equal, and therefore generalizes the t -test beyond two means."
   ]
  },
  {
   "cell_type": "markdown",
   "id": "08188ca8-3209-4aca-bcd2-1f9c4960e8be",
   "metadata": {},
   "source": [
    "Q4. How would you calculate the total sum of squares (SST), explained sum of squares (SSE), and residual\n",
    "sum of squares (SSR) in a one-way ANOVA using Python?"
   ]
  },
  {
   "cell_type": "markdown",
   "id": "27e2d431-26bd-45f0-bf24-e394f0cb50b8",
   "metadata": {},
   "source": [
    "1.Sum of Squares Total (SST) – The sum of squared differences between individual data points (yi) and the mean of the response variable (y).\n",
    "\n",
    "SST = Σ(yi – y)2\n",
    "\n",
    "2.Sum of Squares Error (SSE) – The sum of squared differences between predicted data points (ŷi) and observed data points (yi).\n",
    "\n",
    "SSE = Σ(ŷi – yi)2\n",
    "\n",
    "3.Sum of Squares Regression (SSR) – The sum of squared differences between predicted data points (ŷi) and the mean of the response variable(y).\n",
    "\n",
    "SSR = Σ(ŷi – y)2\n"
   ]
  },
  {
   "cell_type": "markdown",
   "id": "a59fd6db-0ca5-45f4-afe9-23fc77ee14f8",
   "metadata": {},
   "source": [
    "Q5. In a two-way ANOVA, how would you calculate the main effects and interaction effects using Python?"
   ]
  },
  {
   "cell_type": "markdown",
   "id": "8b455aaa-6569-4564-98de-55d3079c43cc",
   "metadata": {},
   "source": [
    "Main effects deal with each factor separately. For a example if we have two factors, A and B. \n",
    "The main effect of Factor A is the difference between the mean for Specimen 1 and Specimen 2, averaged across the three levels of factor B. The main effect of Factor B is the difference in mean for levels 1, 2, and 3 averaged across the two species. \n",
    "\n",
    "The interaction is the simultaneous changes in the levels of both factors. If the changes in the level of Factor A result in different changes in the value of the response variable for the different levels of Factor B, we say that there is an interaction effect between the factors. "
   ]
  },
  {
   "cell_type": "markdown",
   "id": "e71582d0-8a75-4b1f-bf3d-19d78e6cff26",
   "metadata": {},
   "source": [
    "Q6. Suppose you conducted a one-way ANOVA and obtained an F-statistic of 5.23 and a p-value of 0.02.\n",
    "What can you conclude about the differences between the groups, and how would you interpret these\n",
    "results?"
   ]
  },
  {
   "cell_type": "markdown",
   "id": "9819c61a-614c-4a90-b857-b14d36e5b05f",
   "metadata": {},
   "source": [
    "Since this p-value is less than 0.05, we need to reject the null hypothesis.\n",
    "This means that there is a statistically significant difference between the mean of the groups"
   ]
  },
  {
   "cell_type": "markdown",
   "id": "bc30dfc4-a402-43d9-bd7c-4860dedf89c3",
   "metadata": {},
   "source": [
    "Q7. In a repeated measures ANOVA, how would you handle missing data, and what are the potential\n",
    "consequences of using different methods to handle missing data?\n"
   ]
  },
  {
   "cell_type": "markdown",
   "id": "55d27b93-0824-4ab8-85f1-01196981f5b6",
   "metadata": {},
   "source": [
    "One of the most effective ways of dealing with missing data is multiple imputation (MI), either using mean, median,mode depending on the case.\n",
    "The potential consequences of using different methods to handle missing data depends on the outliers, categorical data.\n",
    "If no outlier in data - Use mean\n",
    "If outlier is there - use Median\n",
    "If categorical data - Mode"
   ]
  },
  {
   "cell_type": "markdown",
   "id": "69beaa65-8b18-412a-861f-9d73446295ed",
   "metadata": {},
   "source": [
    "Q8. What are some common post-hoc tests used after ANOVA, and when would you use each one? Provide\n",
    "an example of a situation where a post-hoc test might be necessary."
   ]
  },
  {
   "cell_type": "markdown",
   "id": "9d6dcb42-9e8f-41c2-aca7-123b8b4a8c93",
   "metadata": {},
   "source": [
    "The different types of post hoc tests include Tukey’s HSD, Scheffe’s test, Bonferroni test, and Dunn’s test.\n",
    "\n",
    "The Tukey post-hoc test should be used when you would like to make pairwise comparisons between group means when the sample sizes for each group are equal.\n",
    "\n",
    "The Scheffe post-hoc test should be used when you would like to make all possible contrasts between group means. This test allows you to compare more than just two means at once, unlike the Tukey post-hoc test.\n",
    "\n",
    "The Bonferroni post-hoc test should be used when you have a set of planned comparisons you would like to make beforehand. "
   ]
  },
  {
   "cell_type": "markdown",
   "id": "f4254ee4-9a0e-42a7-89be-6a15d413eb6e",
   "metadata": {},
   "source": [
    "Q9. A researcher wants to compare the mean weight loss of three diets: A, B, and C. They collect data from\n",
    "50 participants who were randomly assigned to one of the diets. Conduct a one-way ANOVA using Python\n",
    "to determine if there are any significant differences between the mean weight loss of the three diets.\n",
    "Report the F-statistic and p-value, and interpret the results.\n",
    "\n"
   ]
  },
  {
   "cell_type": "code",
   "execution_count": 11,
   "id": "04a0c13c-bc9d-4a2c-9361-c835cad5a07f",
   "metadata": {},
   "outputs": [
    {
     "name": "stdout",
     "output_type": "stream",
     "text": [
      "[75 84 72 82 66 60 65 81 64 80 74 63 63 68 69 75 73]\n",
      "[88 91 80 80 70 78 89 92 88 77 75 86 93 70 78 70 91]\n",
      "[54 61 67 63 60 51 50 70 56 78 78 51 74 60 74 71]\n"
     ]
    },
    {
     "data": {
      "text/plain": [
       "F_onewayResult(statistic=19.859437491014752, pvalue=5.605692070728685e-07)"
      ]
     },
     "execution_count": 11,
     "metadata": {},
     "output_type": "execute_result"
    }
   ],
   "source": [
    "import numpy as np\n",
    "diet1 = np.random.randint(60, 85, 17)\n",
    "diet2 = np.random.randint(70, 95, 17)\n",
    "diet3 = np.random.randint(50, 80, 16)\n",
    "print(diet1)\n",
    "print(diet2)\n",
    "print(diet3)\n",
    "\n",
    "from scipy.stats import f_oneway\n",
    "import scipy.stats as stat\n",
    "#perform one-way ANOVA\n",
    "f_oneway(diet1, diet2, diet3)\n",
    "\n"
   ]
  },
  {
   "cell_type": "markdown",
   "id": "167b8b4f-a02e-48ec-9a86-1bead3fc1d54",
   "metadata": {},
   "source": [
    "Since Pvalue is not less than 0.05, we fail to reject the null hypothesis. There is no siginificant difference between 3 diets."
   ]
  },
  {
   "cell_type": "markdown",
   "id": "d2bb0bec-89a2-45a9-a598-ddbcdc3cb200",
   "metadata": {},
   "source": [
    "Q10. A company wants to know if there are any significant differences in the average time it takes to\n",
    "complete a task using three different software programs: Program A, Program B, and Program C. They\n",
    "randomly assign 30 employees to one of the programs and record the time it takes each employee to\n",
    "complete the task. Conduct a two-way ANOVA using Python to determine if there are any main effects or\n",
    "interaction effects between the software programs and employee experience level (novice vs.\n",
    "experienced). Report the F-statistics and p-values, and interpret the results.\n",
    "\n"
   ]
  },
  {
   "cell_type": "code",
   "execution_count": 18,
   "id": "3ba5023e-d9e9-4392-999b-3152204685cf",
   "metadata": {},
   "outputs": [
    {
     "data": {
      "text/html": [
       "<div>\n",
       "<style scoped>\n",
       "    .dataframe tbody tr th:only-of-type {\n",
       "        vertical-align: middle;\n",
       "    }\n",
       "\n",
       "    .dataframe tbody tr th {\n",
       "        vertical-align: top;\n",
       "    }\n",
       "\n",
       "    .dataframe thead th {\n",
       "        text-align: right;\n",
       "    }\n",
       "</style>\n",
       "<table border=\"1\" class=\"dataframe\">\n",
       "  <thead>\n",
       "    <tr style=\"text-align: right;\">\n",
       "      <th></th>\n",
       "      <th>sum_sq</th>\n",
       "      <th>df</th>\n",
       "      <th>F</th>\n",
       "      <th>PR(&gt;F)</th>\n",
       "    </tr>\n",
       "  </thead>\n",
       "  <tbody>\n",
       "    <tr>\n",
       "      <th>C(Programs)</th>\n",
       "      <td>0.266667</td>\n",
       "      <td>2.0</td>\n",
       "      <td>0.25</td>\n",
       "      <td>7.808037e-01</td>\n",
       "    </tr>\n",
       "    <tr>\n",
       "      <th>C(Experience)</th>\n",
       "      <td>1.200000</td>\n",
       "      <td>1.0</td>\n",
       "      <td>2.25</td>\n",
       "      <td>1.466556e-01</td>\n",
       "    </tr>\n",
       "    <tr>\n",
       "      <th>C(Programs):C(Experience)</th>\n",
       "      <td>34.400000</td>\n",
       "      <td>2.0</td>\n",
       "      <td>32.25</td>\n",
       "      <td>1.582033e-07</td>\n",
       "    </tr>\n",
       "    <tr>\n",
       "      <th>Residual</th>\n",
       "      <td>12.800000</td>\n",
       "      <td>24.0</td>\n",
       "      <td>NaN</td>\n",
       "      <td>NaN</td>\n",
       "    </tr>\n",
       "  </tbody>\n",
       "</table>\n",
       "</div>"
      ],
      "text/plain": [
       "                              sum_sq    df      F        PR(>F)\n",
       "C(Programs)                 0.266667   2.0   0.25  7.808037e-01\n",
       "C(Experience)               1.200000   1.0   2.25  1.466556e-01\n",
       "C(Programs):C(Experience)  34.400000   2.0  32.25  1.582033e-07\n",
       "Residual                   12.800000  24.0    NaN           NaN"
      ]
     },
     "execution_count": 18,
     "metadata": {},
     "output_type": "execute_result"
    }
   ],
   "source": [
    "import statsmodels.api as sm\n",
    "from statsmodels.formula.api import ols\n",
    "import numpy as np\n",
    "import pandas as pd\n",
    "\n",
    "# Create a dataframe\n",
    "df = pd.DataFrame({'Programs': np.repeat(['Program A', 'Program B', 'Program C'], 10),\n",
    "                   'Experience': np.tile(np.repeat(['experienced', 'Novice', ], 5), 3),\n",
    "                   'Time': [6, 6, 6, 5, 6, 5, 5, 6, 4, 5,\n",
    "                              6, 6, 7, 8, 7, 3, 4, 4, 4, 5,\n",
    "                              4, 4, 4, 4, 4, 5, 6, 6, 7, 8]})\n",
    "  \n",
    "model = ols('Time ~ C(Programs) + C(Experience) + C(Programs):C(Experience)', data=df).fit()\n",
    "sm.stats.anova_lm(model, typ=2)\n",
    " \n"
   ]
  },
  {
   "cell_type": "markdown",
   "id": "7dafec8c-b32f-4301-a559-88a03cd0e0bf",
   "metadata": {},
   "source": [
    "Since the p-values for Programs and Experience are both larger than .05, this means that both factors have a statistically insignificant effect on Average time.\n",
    "\n",
    "And since the p-value for the interaction effect (.000000158203) is less than .05, this tells us that there is a significant interaction effect between Programs variety and Experience level."
   ]
  },
  {
   "cell_type": "markdown",
   "id": "079ee493-2bc7-4b04-b829-773a68d46d1e",
   "metadata": {},
   "source": [
    "Q11. An educational researcher is interested in whether a new teaching method improves student test\n",
    "scores. They randomly assign 100 students to either the control group (traditional teaching method) or the\n",
    "experimental group (new teaching method) and administer a test at the end of the semester. Conduct a\n",
    "two-sample t-test using Python to determine if there are any significant differences in test scores\n",
    "between the two groups. If the results are significant, follow up with a post-hoc test to determine which\n",
    "group(s) differ significantly from each other."
   ]
  },
  {
   "cell_type": "code",
   "execution_count": 28,
   "id": "bfee9e61-2c29-4984-9f51-e0a2a32aea77",
   "metadata": {},
   "outputs": [
    {
     "name": "stdout",
     "output_type": "stream",
     "text": [
      "125.59560000000002 9.515600000000001\n"
     ]
    },
    {
     "data": {
      "text/plain": [
       "Ttest_indResult(statistic=-0.6337397070250238, pvalue=0.5300471010405257)"
      ]
     },
     "execution_count": 28,
     "metadata": {},
     "output_type": "execute_result"
    }
   ],
   "source": [
    "import scipy.stats as stats\n",
    " \n",
    "# Creating data groups\n",
    "traditional_teaching = np.random.randint(50,90,50)\n",
    "new_teaching = np.random.randint(80,90,50)\n",
    "\n",
    " \n",
    "print(np.var(traditional_teaching), np.var(new_teaching))\n",
    "# Perform the two sample t-test with equal variances\n",
    "stats.ttest_ind(a=data_group1, b=data_group2, equal_var=True)"
   ]
  },
  {
   "cell_type": "markdown",
   "id": "ac0cb85e-61d5-469d-9039-343f9c93a541",
   "metadata": {},
   "source": [
    "The p-value of the test comes out to be equal to 0.530, which is greater than the significance level alpha (that is, 0.05). This implies that we can say that there is no different in level of teaching between traditional and new teaching methods. "
   ]
  },
  {
   "cell_type": "markdown",
   "id": "6182ac61-e2c7-46b3-b95d-77c6deda353a",
   "metadata": {},
   "source": [
    "Q12. A researcher wants to know if there are any significant differences in the average daily sales of three\n",
    "retail stores: Store A, Store B, and Store C. They randomly select 30 days and record the sales for each store\n",
    "on those days. Conduct a repeated measures ANOVA using Python to determine if there are any\n",
    "significant differences in sales between the three stores. If the results are s"
   ]
  },
  {
   "cell_type": "code",
   "execution_count": 25,
   "id": "46eddb40-d7c3-4df7-b892-a0f2cb51ca17",
   "metadata": {},
   "outputs": [
    {
     "name": "stdout",
     "output_type": "stream",
     "text": [
      "    Store1  Store2  Store3\n",
      "0       41      35      44\n",
      "1       31      34      35\n",
      "2       35      41      31\n",
      "3       39      34      40\n",
      "4       30      41      43\n",
      "5       41      32      41\n",
      "6       40      37      32\n",
      "7       30      38      43\n",
      "8       35      35      44\n",
      "9       40      38      32\n",
      "10      43      33      40\n",
      "11      30      44      44\n",
      "12      42      39      30\n",
      "13      37      37      30\n",
      "14      40      40      41\n",
      "15      30      31      31\n",
      "16      32      35      41\n",
      "17      34      37      43\n",
      "18      41      37      41\n",
      "19      34      31      34\n",
      "20      39      36      40\n",
      "21      44      43      40\n",
      "22      33      31      43\n",
      "23      41      41      38\n",
      "24      34      42      43\n",
      "25      39      39      33\n",
      "26      40      43      30\n",
      "27      30      44      30\n",
      "28      40      31      31\n",
      "29      42      39      30\n",
      "               Anova\n",
      "===================================\n",
      "     F Value  Num DF  Den DF Pr > F\n",
      "-----------------------------------\n",
      "days  1.1631 29.0000 58.0000 0.3062\n",
      "===================================\n",
      "\n"
     ]
    }
   ],
   "source": [
    "import numpy as np\n",
    "import pandas as pd\n",
    "from statsmodels.stats.anova import AnovaRM\n",
    "  \n",
    "\n",
    "# Create the data\n",
    "df = pd.DataFrame({'Store': np.repeat(['Store1','Store2','Store3'], 30),\n",
    "                   'days': np.tile(np.arange(1, 31), 3),\n",
    "                   'Sales': np.random.randint(30,45,90)})\n",
    " # Print the dataframe\n",
    "print(dataframe)\n",
    "\n",
    "# Conduct the repeated measures ANOVA\n",
    "print(AnovaRM(data=df, depvar='Sales',\n",
    "              subject='Store', within=['days']).fit())"
   ]
  },
  {
   "cell_type": "markdown",
   "id": "a8173822-af31-49b3-8398-e3e2dde6c599",
   "metadata": {},
   "source": [
    "In this example, the F test-statistic is 1.1631 and the corresponding p-value is 0.3062. Since this p-value is greater than 0.05, we fail to reject the null hypothesis and conclude that there is statistically no significant difference in mean sales between the three stores."
   ]
  }
 ],
 "metadata": {
  "kernelspec": {
   "display_name": "Python 3 (ipykernel)",
   "language": "python",
   "name": "python3"
  },
  "language_info": {
   "codemirror_mode": {
    "name": "ipython",
    "version": 3
   },
   "file_extension": ".py",
   "mimetype": "text/x-python",
   "name": "python",
   "nbconvert_exporter": "python",
   "pygments_lexer": "ipython3",
   "version": "3.10.8"
  }
 },
 "nbformat": 4,
 "nbformat_minor": 5
}
