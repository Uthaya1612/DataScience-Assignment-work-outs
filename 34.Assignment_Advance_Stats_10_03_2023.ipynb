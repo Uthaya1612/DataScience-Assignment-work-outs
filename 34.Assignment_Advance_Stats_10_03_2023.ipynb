{
 "cells": [
  {
   "cell_type": "markdown",
   "id": "680ed158-a3b7-4317-86b2-d6dc35a2a283",
   "metadata": {},
   "source": [
    "Q1: What is Estimation Statistics? Explain point estimate and interval estimate."
   ]
  },
  {
   "cell_type": "markdown",
   "id": "04b68a77-5027-44b4-94c7-9185fa829ae4",
   "metadata": {},
   "source": [
    "Estimation statistics is the specified observed values used to predict/estimate the unknown population parameters.\n",
    "\n",
    "Point estimate is the single numerical value use to estimate the unknown population\n",
    "Interval estimate is the range of value used to estimate the unknown population."
   ]
  },
  {
   "cell_type": "markdown",
   "id": "f63a65b0-4933-4c77-9ee5-0f50e76385e8",
   "metadata": {},
   "source": [
    "Q2. Write a Python function to estimate the population mean using a sample mean and standard \n",
    "deviation."
   ]
  },
  {
   "cell_type": "code",
   "execution_count": 4,
   "id": "8e3a77e4-6637-4fbb-88f4-c4785acba79d",
   "metadata": {},
   "outputs": [
    {
     "name": "stdout",
     "output_type": "stream",
     "text": [
      "Critical t-value: 2.045\n",
      "Margin of Error: 3.734\n",
      "Confidence Interval: [46.266,53.734]\n",
      "The 95.0% confidence interval for the population mean is:\n",
      "between 46.266 and 53.734\n"
     ]
    }
   ],
   "source": [
    "import scipy.stats as stats\n",
    "import math\n",
    "\n",
    "# Specify sample mean (x_bar), sample standard deviation (s), sample size (n) and confidence level\n",
    "x_bar = 50\n",
    "s = 10\n",
    "n = 30\n",
    "confidence_level = 0.95\n",
    "\n",
    "# Calculate alpha, degrees of freedom (df), the critical t-value, and the margin of error\n",
    "alpha = (1-confidence_level)\n",
    "df = n - 1\n",
    "standard_error = s/math.sqrt(n)\n",
    "critical_t = stats.t.ppf(1-alpha/2, df)\n",
    "margin_of_error = critical_t * standard_error\n",
    "\n",
    "# Calculate the lower and upper bound of the confidence interval\n",
    "lower_bound = x_bar - margin_of_error\n",
    "upper_bound = x_bar + margin_of_error\n",
    "\n",
    "# Print the results\n",
    "print(\"Critical t-value: {:.3f}\".format(critical_t))\n",
    "print(\"Margin of Error: {:.3f}\".format(margin_of_error))\n",
    "print(\"Confidence Interval: [{:.3f},{:.3f}]\".format(lower_bound,upper_bound))\n",
    "print(\"The {:.1%} confidence interval for the population mean is:\".format(confidence_level))\n",
    "print(\"between {:.3f} and {:.3f}\".format(lower_bound,upper_bound))\n"
   ]
  },
  {
   "cell_type": "markdown",
   "id": "4efe027c-b6a2-4109-8513-4f8c61d52b8d",
   "metadata": {},
   "source": [
    "Q3: What is Hypothesis testing? Why is it used? State the importance of Hypothesis testing."
   ]
  },
  {
   "cell_type": "markdown",
   "id": "1c71c0a0-7ef7-4b54-aa26-d56425ac59f8",
   "metadata": {},
   "source": [
    "Hypothesis testing is the part of inferential statistics, used to arrive inference about the population with the sample data. It is used to test the results obtained with sample data is matching the unknown population or not.\n",
    "With testing the sample data, we are giving the inference about the large population data, so there are chances for our inferences to go wrong too, so inorder to gain confidence in our decisions we are using this hypothesis testing."
   ]
  },
  {
   "cell_type": "markdown",
   "id": "abcad168-2162-4c4f-b632-5b74389fce72",
   "metadata": {},
   "source": [
    "Q4. Create a hypothesis that states whether the average weight of male college students is greater than \n",
    "the average weight of female college students."
   ]
  },
  {
   "cell_type": "markdown",
   "id": "9a571931-32d8-4e52-aee7-d1491bcf5508",
   "metadata": {},
   "source": [
    "Null hypothesis - Average weight of male > Average weight of female.\n",
    "Alterate hypothesis - Average weight of male is equal to or less than average weight of female."
   ]
  },
  {
   "cell_type": "markdown",
   "id": "d82db89c-480e-4de4-a121-f3a0338d4bc3",
   "metadata": {},
   "source": [
    "Q5. Write a Python script to conduct a hypothesis test on the difference between two population means, \n",
    "given a sample from each population."
   ]
  },
  {
   "cell_type": "markdown",
   "id": "832bfdae-d2cc-4680-84d8-bdbac6bc43f7",
   "metadata": {},
   "source": [
    "n1 = 30\n",
    "x1 =80\n",
    "s1 = 10\n",
    "n2 = 40\n",
    "x2 = 75\n",
    "s1 = 8\n",
    "Alpha = 0.01\n",
    "\n",
    "NUll hypothesis : x1 = x2\n",
    "Alternate hypothesis : x1 ≠ x2 \n",
    "\n",
    " t = (x1-x2) /√(s1^2/√n1)+(s2^2/√n2))\n",
    " t= (80 -75) /√3.33+1.6\n",
    " t = 2.25\n",
    " \n",
    " \n",
    "from t table, dof =30+40-2 = 68 (2 tail)\n",
    "Alpha = 0.01 t value is 2.382\n",
    "\n",
    "Since obtained value is less than 2.382 we need to accept null hypothesis.\n",
    "The population means for the two groups are equal"
   ]
  },
  {
   "cell_type": "markdown",
   "id": "b7933c97-0bb8-47b0-a316-ef24dbe77b7d",
   "metadata": {},
   "source": [
    "Q6: What is a null and alternative hypothesis? Give some examples."
   ]
  },
  {
   "cell_type": "markdown",
   "id": "6a6e6973-d098-4dee-b4da-9b7ffe8e4e2e",
   "metadata": {},
   "source": [
    "Null hypothesis is the assumptions we are begining with.\n",
    "Alternate hypothesis is the reverse of null hypothesis.\n",
    "Example\n",
    "Null hypothesis - Average weight of male > Average weight of female.\n",
    "Alterate hypothesis - Average weight of male is equal to or less than average weight of female."
   ]
  },
  {
   "cell_type": "markdown",
   "id": "e837c94e-247f-4da5-9849-22a75b1c20db",
   "metadata": {},
   "source": [
    "Q7: Write down the steps involved in hypothesis testing."
   ]
  },
  {
   "cell_type": "markdown",
   "id": "2334ddf4-42dc-42f1-9109-312b930e398f",
   "metadata": {},
   "source": [
    "Steps involved in hypothesis testing are \n",
    "1.Defining null hypothesis\n",
    "2.Defining alternate hypothesis\n",
    "3.Experiments - Statistical analysis\n",
    "4.Accept the null hypothesis or not."
   ]
  },
  {
   "cell_type": "markdown",
   "id": "e10e0394-1c77-41d1-94cb-2ac061adf447",
   "metadata": {},
   "source": [
    "Q8. Define p-value and explain its significance in hypothesis testing."
   ]
  },
  {
   "cell_type": "markdown",
   "id": "3daa2567-f614-4cc9-9071-f028e78ebd42",
   "metadata": {},
   "source": [
    "P-value is the number,calculated from a statistical test,that describes how likely you are have to found a particular set of observation if the null hypothesis was true.\n",
    "\n",
    "Based on the P value arrived from the statistical test with confidence interval only, we will come to the decision whether to accept or reject the null hypothesis.\n"
   ]
  },
  {
   "cell_type": "markdown",
   "id": "f90b5ce1-a45b-4530-bbeb-9fd4dee1629a",
   "metadata": {},
   "source": [
    "Q9. Generate a Student's t-distribution plot using Python's matplotlib library, with the degrees of freedom \n",
    "parameter set to 10."
   ]
  },
  {
   "cell_type": "code",
   "execution_count": 27,
   "id": "0dc1d5f1-0623-42f1-9d9d-40bcea05429c",
   "metadata": {},
   "outputs": [
    {
     "name": "stdout",
     "output_type": "stream",
     "text": [
      "Distribution : \n",
      " [ 0.          0.20408163  0.40816327  0.6122449   0.81632653  1.02040816\n",
      "  1.2244898   1.42857143  1.63265306  1.83673469  2.04081633  2.24489796\n",
      "  2.44897959  2.65306122  2.85714286  3.06122449  3.26530612  3.46938776\n",
      "  3.67346939  3.87755102  4.08163265  4.28571429  4.48979592  4.69387755\n",
      "  4.89795918  5.10204082  5.30612245  5.51020408  5.71428571  5.91836735\n",
      "  6.12244898  6.32653061  6.53061224  6.73469388  6.93877551  7.14285714\n",
      "  7.34693878  7.55102041  7.75510204  7.95918367  8.16326531  8.36734694\n",
      "  8.57142857  8.7755102   8.97959184  9.18367347  9.3877551   9.59183673\n",
      "  9.79591837 10.        ]\n"
     ]
    },
    {
     "data": {
      "image/png": "[encoded data removed]",
      "text/plain": [
       "<Figure size 640x480 with 1 Axes>"
      ]
     },
     "metadata": {},
     "output_type": "display_data"
    }
   ],
   "source": [
    "import numpy as np \n",
    "import matplotlib.pyplot as plt \n",
    "import scipy.stats as stats   \n",
    "distribution = np.linspace(0,10)\n",
    "print(\"Distribution : \\n\", distribution) \n",
    "stats.ttest_1samp(a=distribution, popmean=5)    \n",
    "plot = plt.plot(distribution, rv.pdf(distribution)) \n",
    "plot = plt.plot(stats.ttest_1samp(a=distribution, popmean=5)) "
   ]
  },
  {
   "cell_type": "markdown",
   "id": "348a851a-db4c-4840-b33a-7f00cc9badb4",
   "metadata": {},
   "source": [
    "Q10. Write a Python program to calculate the two-sample t-test for independent samples, given two \n",
    "random samples of equal size and a null hypothesis that the population means are equal."
   ]
  },
  {
   "cell_type": "code",
   "execution_count": 8,
   "id": "3bdbaed1-844e-410a-9a19-8690d982d2dd",
   "metadata": {},
   "outputs": [
    {
     "data": {
      "text/plain": [
       "Ttest_indResult(statistic=4.564354645876383, pvalue=0.001839363154706893)"
      ]
     },
     "execution_count": 8,
     "metadata": {},
     "output_type": "execute_result"
    }
   ],
   "source": [
    "\n",
    "import scipy.stats as stats\n",
    "import numpy as np\n",
    "\n",
    "data_group1 = np.array([10,12,11,12,15])\n",
    " \n",
    "data_group2 = np.array([5,6,7,8,9])\n",
    " \n",
    "# Perform the two sample t-test with equal variances\n",
    "stats.ttest_ind(a=data_group1, b=data_group2, equal_var=True)"
   ]
  },
  {
   "cell_type": "markdown",
   "id": "53a7ca86-2583-4a49-b2b1-d5e2f59c3e00",
   "metadata": {},
   "source": [
    "Q11: What is Student’s t distribution? When to use the t-Distribution."
   ]
  },
  {
   "cell_type": "markdown",
   "id": "2cad864b-9320-42c5-a56a-fe9edf3a7c99",
   "metadata": {},
   "source": [
    "The t-distribution is a type of normal distribution that is used for smaller sample sizes. \n",
    "It is used when the sample size is smaller(less than 30) and when we dont know the population Standard deviation."
   ]
  },
  {
   "cell_type": "markdown",
   "id": "61fb1170-e12d-4ee5-b10f-78a8ce192ca3",
   "metadata": {},
   "source": [
    "Q12: What is t-statistic? State the formula for t-statistic."
   ]
  },
  {
   "cell_type": "markdown",
   "id": "0c039707-a37a-447a-a276-2896336ab339",
   "metadata": {},
   "source": [
    "A t test is a statistical test that is used to compare the means of two groups.\n",
    "\n",
    "t-statistic = (x̄ - μ)/(S/√n)"
   ]
  },
  {
   "cell_type": "markdown",
   "id": "33a377c8-1ca3-464c-81e9-c4316b033d30",
   "metadata": {},
   "source": [
    "Q13. A coffee shop owner wants to estimate the average daily revenue for their shop. They take a random \n",
    "sample of 50 days and find the sample mean revenue to be $500 with a standard deviation of $50. \n",
    "Estimate the population mean revenue with a 95% confidence interval."
   ]
  },
  {
   "cell_type": "markdown",
   "id": "619b558b-1fc6-4698-bb9a-58dca33c7f39",
   "metadata": {},
   "source": [
    "n=50\n",
    "μ =500\n",
    "s = 50\n",
    "confidence interval= 95%\n",
    "alpha = 1-.95 =  0.05\n",
    "\n",
    "from t table, 2 tail & alpha = 0.05\n",
    "t = 2.011\n",
    "2.011 = (x̄ - 500)/(50/√50)\n",
    "\n",
    "x̄ = 514.22"
   ]
  },
  {
   "cell_type": "markdown",
   "id": "c7f807ce-948b-4f77-974e-d627461a93ee",
   "metadata": {},
   "source": [
    "Q14. A researcher hypothesizes that a new drug will decrease blood pressure by 10 mmHg. They conduct a \n",
    "clinical trial with 100 patients and find that the sample mean decrease in blood pressure is 8 mmHg with a \n",
    "standard deviation of 3 mmHg. Test the hypothesis with a significance level of 0.05."
   ]
  },
  {
   "cell_type": "markdown",
   "id": "4d2f9ccd-7521-4015-9eb2-ef94dcde1751",
   "metadata": {},
   "source": [
    "NUll hypothesis : μ =10\n",
    "Alternate hypothesis : μ ≠ 10\n",
    "n =100\n",
    "x̄ = 8\n",
    "S = 3\n",
    "Alpha = 0.05\n",
    "from t table, t= 1.660\n",
    "t = (8-10)/(3/√100)\n",
    "t = 6.66\n",
    "\n",
    "Since obtained t value is greater than 1.66, we need to reject the null hypothesis.\n",
    "New drug will not decrease exact 10mmHg of blood pressure."
   ]
  },
  {
   "cell_type": "markdown",
   "id": "70c36f79-b14c-4840-80ce-190594efd2eb",
   "metadata": {},
   "source": [
    "Q15. An electronics company produces a certain type of product with a mean weight of 5 pounds and a \n",
    "standard deviation of 0.5 pounds. A random sample of 25 products is taken, and the sample mean weight \n",
    "is found to be 4.8 pounds. Test the hypothesis that the true mean weight of the products is less than 5 \n",
    "pounds with a significance level of 0.01."
   ]
  },
  {
   "cell_type": "markdown",
   "id": "cdfb8f2f-8096-4213-9c1b-df4c95fd6a2d",
   "metadata": {},
   "source": [
    "NUll hypothesis : μ  < 5\n",
    "Alternate hypothesis : μ = 5\n",
    "n =25\n",
    "x̄ = 4.8\n",
    "population SD σ = 0.5\n",
    "Alpha = 0.01\n",
    "from t table, t= 2.492 (1 tail)\n",
    "t = (4.8-5)/(0.5/√25)\n",
    "t = 2\n",
    "\n",
    "Since obtained t value is less than 2.492, we need to accept the null hypothesis.\n",
    "With 99% confidence interval we can say that weight of the product is less than 4.8pounds."
   ]
  },
  {
   "cell_type": "markdown",
   "id": "17ab4118-5693-4e2a-a805-11d82a95b0a7",
   "metadata": {},
   "source": [
    "Q16. Two groups of students are given different study materials to prepare for a test. The first group (n1 = \n",
    "30) has a mean score of 80 with a standard deviation of 10, and the second group (n2 = 40) has a mean \n",
    "score of 75 with a standard deviation of 8. Test the hypothesis that the population means for the two \n",
    "groups are equal with a significance level of 0.01."
   ]
  },
  {
   "cell_type": "markdown",
   "id": "889a78e3-8f86-425f-9fe6-596752fc3ade",
   "metadata": {},
   "source": [
    "n1 = 30\n",
    "x1 =80\n",
    "s1 = 10\n",
    "n2 = 40\n",
    "x2 = 75\n",
    "s1 = 8\n",
    "Alpha = 0.01\n",
    "\n",
    "NUll hypothesis : x1 = x2\n",
    "Alternate hypothesis : x1 ≠ x2 \n",
    "\n",
    " t = (x1-x2) /√(s1^2/√n1)+(s2^2/√n2))\n",
    " t= (80 -75) /√3.33+1.6\n",
    " t = 2.25\n",
    " \n",
    " \n",
    "from t table, dof =30+40-2 = 68 (2 tail)\n",
    "Alpha = 0.01 t value is 2.382\n",
    "\n",
    "Since obtained value is less than 2.382 we need to accept null hypothesis.\n",
    "The population means for the two groups are equal"
   ]
  },
  {
   "cell_type": "markdown",
   "id": "286a87a6-5374-4622-a1d0-fab3e88009ec",
   "metadata": {},
   "source": [
    "Q17. A marketing company wants to estimate the average number of ads watched by viewers during a TV \n",
    "program. They take a random sample of 50 viewers and find that the sample mean is 4 with a standard \n",
    "deviation of 1.5. Estimate the population mean with a 99% confidence interval"
   ]
  },
  {
   "cell_type": "markdown",
   "id": "8fca4cc9-e372-43e8-b27f-3f66fdaa4047",
   "metadata": {},
   "source": [
    "n=50\n",
    "μ = 4\n",
    "s = 1.5\n",
    "confidence interval= 99%\n",
    "alpha = 1-.99 =  0.01\n",
    "\n",
    "from t table, 1 tail & alpha = 0.01,n=49\n",
    "t = 2.40\n",
    "2.40 = (x̄ - 4)/(1.5/√50)\n",
    "\n",
    "x̄ = 4.5\n",
    "\n",
    "A viewer watches on an average of 4.5 ads  during a TV program."
   ]
  }
 ],
 "metadata": {
  "kernelspec": {
   "display_name": "Python 3 (ipykernel)",
   "language": "python",
   "name": "python3"
  },
  "language_info": {
   "codemirror_mode": {
    "name": "ipython",
    "version": 3
   },
   "file_extension": ".py",
   "mimetype": "text/x-python",
   "name": "python",
   "nbconvert_exporter": "python",
   "pygments_lexer": "ipython3",
   "version": "3.10.8"
  }
 },
 "nbformat": 4,
 "nbformat_minor": 5
}
