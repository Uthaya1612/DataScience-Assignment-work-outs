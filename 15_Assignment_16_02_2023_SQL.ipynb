{
 "cells": [
  {
   "cell_type": "markdown",
   "id": "8f883a1f-791d-462d-96a7-f52985b88d69",
   "metadata": {},
   "source": [
    "Q1. What is a database? Differentiate between SQL and NoSQL databases."
   ]
  },
  {
   "cell_type": "markdown",
   "id": "aed5134b-b9bf-4ad8-9eb3-988a9b992892",
   "metadata": {},
   "source": [
    "A database is the collection of data stored in a common place/location.\n",
    "\n",
    "An SQL database is also known as a relational database. It’s the more rigid, structured way of storing data especially in the form of tables.\n",
    "\n",
    "A Non SQL is the non relational database where the data are stored other than relational tables such as documents, text file etc."
   ]
  },
  {
   "cell_type": "markdown",
   "id": "29528f98-d8b2-4dc8-8b18-b7a9a1165165",
   "metadata": {},
   "source": [
    "Q2. What is DDL? Explain why CREATE, DROP, ALTER, and TRUNCATE are used with an example."
   ]
  },
  {
   "cell_type": "markdown",
   "id": "7ddc6253-1225-4472-8c5b-64b0306dbd21",
   "metadata": {},
   "source": [
    "Data Definition Language(DDL) is a subset of SQL and a part of DBMS(Database Management System). DDL consist of Commands to commands like \n",
    "CREATE -create a new table in SQL\n",
    "\n",
    "ALTER - add, delete or change columns in the existing table\n",
    "\n",
    "TRUNCATE - remove all rows from the table, but the structure of the table still exists.\n",
    "\n",
    "DROP - remove an existing table along with its structure"
   ]
  },
  {
   "cell_type": "markdown",
   "id": "8c2b9cd6-3ebe-40c1-aa35-a93daae0d8d5",
   "metadata": {},
   "source": [
    "Q3. What is DML? Explain INSERT, UPDATE, and DELETE with an example."
   ]
  },
  {
   "cell_type": "markdown",
   "id": "93a2c196-f89e-446c-8114-7cefb89436f5",
   "metadata": {},
   "source": [
    "DML - Data Manipulation Language - deals with the manipulation of data present in the database\n",
    "INSERT -used to insert data into a table.\n",
    "\n",
    "UPDATE -used to update existing data within a table.\n",
    "\n",
    "DELETE -used to delete records from a database table.\n"
   ]
  },
  {
   "cell_type": "markdown",
   "id": "15673099-bb4b-43d4-85bc-1a52c9581656",
   "metadata": {},
   "source": [
    "Q4. What is DQL? Explain SELECT with an example."
   ]
  },
  {
   "cell_type": "markdown",
   "id": "bcf54777-1c50-4280-963a-92784fc54cf2",
   "metadata": {},
   "source": [
    "DQL -Data Query Language -used for performing queries on the data\n",
    "\n",
    "SELECT - It is used to retrieve data from the database."
   ]
  },
  {
   "cell_type": "markdown",
   "id": "108abf12-e0c9-433c-ac85-23268119ba2f",
   "metadata": {},
   "source": [
    "Q5. Explain Primary Key and Foreign Key."
   ]
  },
  {
   "cell_type": "markdown",
   "id": "309dbf5a-95e4-48e9-a7d5-0ff2b83e5d7b",
   "metadata": {},
   "source": [
    "A primary key is a key used to ensure that data in the specific column is unique. It is an unique identity for the data and it is used to access the data.\tOnly one primary key is allowed in a table.\n",
    "\n",
    "A foreign key is a column or group of columns in a relational database table that provides a link between data in two tables. There can be more than one foreign also."
   ]
  },
  {
   "cell_type": "markdown",
   "id": "005eba49-0038-4675-b2de-62fee9b41d01",
   "metadata": {},
   "source": [
    "Q6. Write a python code to connect MySQL to python. Explain the cursor() and execute() method."
   ]
  },
  {
   "cell_type": "markdown",
   "id": "95e74c43-cdca-43ce-82fd-6b844ab067f2",
   "metadata": {},
   "source": [
    "import mysql.connector\n",
    "mydb = mysql.connector.connect(\n",
    "  host=\"localhost\",\n",
    "  user=\"abc\",\n",
    "  password=\"password\"\n",
    ")\n",
    "print(mydb)\n",
    "mycursor = mydb.cursor()\n",
    "mycursor.execute(\"SHOW DATABASES\")\n",
    "for x in mycursor:\n",
    "    print(x)"
   ]
  },
  {
   "cell_type": "markdown",
   "id": "9fb83084-7eb5-4d77-ba72-12ad14580251",
   "metadata": {},
   "source": [
    "Cursor() - It is an object that is used to make the connection for executing SQL queries.\n",
    "\n",
    "Execute() - It is used to run SQL commands that we give.\n",
    "\n",
    "syntax -cursor_object=connection_object.execute(“sql query”);\n"
   ]
  },
  {
   "cell_type": "markdown",
   "id": "192d346d-2505-4e91-8304-4b22f4a590e9",
   "metadata": {},
   "source": [
    "Q7. Give the order of execution of SQL clauses in an SQL query."
   ]
  },
  {
   "cell_type": "markdown",
   "id": "e34132bc-d02c-4b03-8ef8-7207a0a5a03c",
   "metadata": {},
   "source": [
    "Queries will be executed in the following order.\n",
    "\n",
    "FROM [table name]\n",
    "    ON [MyCondition]\n",
    "  JOIN [MyJoinedTable]\n",
    " WHERE [...]\n",
    " GROUP BY [...]\n",
    "HAVING [...]\n",
    "SELECT [...]\n",
    " ORDER BY [...]"
   ]
  }
 ],
 "metadata": {
  "kernelspec": {
   "display_name": "Python 3 (ipykernel)",
   "language": "python",
   "name": "python3"
  },
  "language_info": {
   "codemirror_mode": {
    "name": "ipython",
    "version": 3
   },
   "file_extension": ".py",
   "mimetype": "text/x-python",
   "name": "python",
   "nbconvert_exporter": "python",
   "pygments_lexer": "ipython3",
   "version": "3.10.8"
  }
 },
 "nbformat": 4,
 "nbformat_minor": 5
}
