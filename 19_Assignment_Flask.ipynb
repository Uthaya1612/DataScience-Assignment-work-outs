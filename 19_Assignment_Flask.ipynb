{
 "cells": [
  {
   "cell_type": "markdown",
   "id": "686ec210-866a-47b1-a9c9-91665ea3af44",
   "metadata": {},
   "source": [
    "Q1. Explain GET and POST methods.\n"
   ]
  },
  {
   "cell_type": "markdown",
   "id": "d4c8ff38-b85e-4817-a304-459df05d891c",
   "metadata": {},
   "source": [
    "Flask request GET and POST are the HTTP methods to receive data from other pages.\n",
    "\n",
    "When Flask request GET is used the form data is passed on to the requested script in form action through URL as arguments.The passing data is not secure.\n",
    "\n",
    "When Flask request POST is used the form data is passed on to the requested script in a secured way. Not exposed to the outside progrmmer. The oassing data is secure."
   ]
  },
  {
   "cell_type": "markdown",
   "id": "d2e0814a-131e-4d42-bfa0-f98131cbb24a",
   "metadata": {},
   "source": [
    "Q2. Why is request used in Flask?\n"
   ]
  },
  {
   "cell_type": "markdown",
   "id": "719c4de7-88b8-4efb-9912-2bebe058ba44",
   "metadata": {},
   "source": [
    "When you are working with Flask, you often end up using global variables to access various functionality. Request methods are used to access the global variables."
   ]
  },
  {
   "cell_type": "markdown",
   "id": "3735c783-4e36-44e6-a9b6-9c8fb3d057e9",
   "metadata": {},
   "source": [
    "Q3. Why is redirect() used in Flask?\n"
   ]
  },
  {
   "cell_type": "markdown",
   "id": "60c81d18-3c2c-4e93-be33-57fb4afa2c3a",
   "metadata": {},
   "source": [
    "Flask class has a redirect() function. When called, it returns a response object and redirects the user to another target location with specified status code."
   ]
  },
  {
   "cell_type": "markdown",
   "id": "8acd4b33-6399-4aea-9dd2-5491b9583de5",
   "metadata": {},
   "source": [
    "Q4. What are templates in Flask? Why is the render_template() function used?\n"
   ]
  },
  {
   "cell_type": "markdown",
   "id": "f75dbe70-adf7-4bf5-ac8c-65f2eed8049e",
   "metadata": {},
   "source": [
    "By default, Flask looks for templates in the subdirectory named templates inside the application folder. We can change this default behavior by passing template_folder argument to the Flask constructor at the time of creating application instance.\n",
    "\n",
    "app = Flask(__name__, template_folder=\"sample_templates\")\n",
    "\n",
    "This code changes the default location of templates to sample_templates directory inside the application directory. For now, we don't have any reason to do that, so we will keep using the default templates directory for storing templates.\n",
    "\n",
    "Flask provides a function called render_template() for rendering Templates. It is this function which integrates sample with Flask. To render a template we call render_template() with the template name along with the data you want to pass to the template as keyword arguments.\n",
    "\n",
    "The render_template() function renders the template and returns HTML as a string. The keyword arguments we pass to the template is known as the context of the template or simply template context. "
   ]
  },
  {
   "cell_type": "markdown",
   "id": "b114f9ea-803d-4b63-b61f-0a1ad985264d",
   "metadata": {},
   "source": [
    "Q5. Create a simple API. Use Postman to test it. Attach the screenshot of the output in the Jupyter Notebook."
   ]
  },
  {
   "cell_type": "markdown",
   "id": "9f2481d5-4635-4765-878c-f470f9639dff",
   "metadata": {},
   "source": [
    "from flask import Flask,request ,render_template , jsonify\n",
    "\n",
    "app = Flask(__name__)\n",
    "\n",
    "\n",
    "@app.route('/')\n",
    "def home_page():\n",
    "    return render_template('index.html')\n",
    "\n",
    "\n",
    "@app.route('/math',methods=['POST'])\n",
    "def math_ops():\n",
    "    if(request.method == 'POST'):\n",
    "        ops = request.form['operation']\n",
    "        num1 = int(request.form['num1'])\n",
    "        num2 = int(request.form['num2'])\n",
    "        if ops == 'add':\n",
    "            r = num1+num2\n",
    "            result = \"The sum of \" + str(num1) + 'and ' + str(num2) + \"is \" + str(r)\n",
    "        if ops == 'subtract':\n",
    "            r = num1-num2\n",
    "            result = \"The subtract of \" + str(num1) + 'and ' + str(num2) + \"is \" + str(r)\n",
    "        if ops == 'multiply':\n",
    "            r = num1*num2\n",
    "            result = \"The multiply of \" + str(num1) + 'and ' + str(num2) + \"is \" + str(r)\n",
    "        if ops == 'divide':\n",
    "            r = num1/num2\n",
    "            result = \"The divide of \" + str(num1) + 'and ' + str(num2) + \"is \" + str(r)\n",
    "            \n",
    "        return render_template('results.html' , result = result)\n",
    "\n",
    "\n",
    "\n",
    "\n",
    "@app.route('/postman_action',methods=['POST'])\n",
    "def math_ops1():\n",
    "    if(request.method == 'POST'):\n",
    "        ops = request.json['operation']\n",
    "        num1 = int(request.json['num1'])\n",
    "        num2 = int(request.json['num2'])\n",
    "        if ops == 'add':\n",
    "            r = num1+num2\n",
    "            result = \"The sum of \" + str(num1) + 'and ' + str(num2) + \"is \" + str(r)\n",
    "        if ops == 'subtract':\n",
    "            r = num1-num2\n",
    "            result = \"The subtract of \" + str(num1) + 'and ' + str(num2) + \"is \" + str(r)\n",
    "        if ops == 'multiply':\n",
    "            r = num1*num2\n",
    "            result = \"The multiply of \" + str(num1) + 'and ' + str(num2) + \"is \" + str(r)\n",
    "        if ops == 'divide':\n",
    "            r = num1/num2\n",
    "            result = \"The divide of \" + str(num1) + 'and ' + str(num2) + \"is \" + str(r)\n",
    "            \n",
    "        return jsonify(result)\n",
    "\n",
    "if __name__==\"__main__\":\n",
    "    app.run(host=\"0.0.0.0\")\n"
   ]
  },
  {
   "cell_type": "code",
   "execution_count": null,
   "id": "ac66da02-6720-480e-80e7-33b7d180005b",
   "metadata": {},
   "outputs": [],
   "source": []
  }
 ],
 "metadata": {
  "kernelspec": {
   "display_name": "Python 3 (ipykernel)",
   "language": "python",
   "name": "python3"
  },
  "language_info": {
   "codemirror_mode": {
    "name": "ipython",
    "version": 3
   },
   "file_extension": ".py",
   "mimetype": "text/x-python",
   "name": "python",
   "nbconvert_exporter": "python",
   "pygments_lexer": "ipython3",
   "version": "3.10.8"
  }
 },
 "nbformat": 4,
 "nbformat_minor": 5
}
