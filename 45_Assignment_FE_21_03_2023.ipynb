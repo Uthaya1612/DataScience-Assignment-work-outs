{
 "cells": [
  {
   "cell_type": "markdown",
   "id": "688b97a1-5094-483f-93ce-fa052a4f3ca6",
   "metadata": {},
   "source": [
    "Ql. What is the difference between Ordinal Encoding and Label Encoding? Provide an example of when you might choose one over the other."
   ]
  },
  {
   "cell_type": "markdown",
   "id": "472f8835-8c68-471b-9aea-499c34c9a850",
   "metadata": {},
   "source": [
    "Label Encoding is used for variables where ranking and ordinal is not important. Whereas we can use Ordinal encoding where we think ranking is important to consider.\n",
    "\n",
    "Example - Educational Qualification  - (SSLC,Diplomo,B.E,M.E, Phd)\n",
    "In label encoding it is ranked as B.E - 1 Diplomo - 2 M.E - 3, Phd - 4, SSLC - 5\n",
    "Here SSLC gets higher numerical value and creates confusion.\n",
    "\n",
    "Where as ordinal encoding we can rank as   SSLC - 1, Diplomo - 2,B.E - 3, M.E - 4, Phd - 5"
   ]
  },
  {
   "cell_type": "markdown",
   "id": "3197fe2f-1b70-4dde-a8dd-75b2044698d3",
   "metadata": {},
   "source": [
    "Q2. Explain how Target Guided Ordinal Encoding works and provide an example of when you might use it in a machine learning project."
   ]
  },
  {
   "cell_type": "markdown",
   "id": "4e170824-a3ce-45ab-a19e-4b7e380a8e24",
   "metadata": {},
   "source": [
    "Target Guided Ordinal encoding is used to encode categorical variable based on their relationship with target variable. When we have list of sales employees whose daily sales value is given in the column. To get their consolidated individual score we can use target Guided average value."
   ]
  },
  {
   "cell_type": "markdown",
   "id": "aab91508-e12b-48a8-a90c-40d695ddfcfa",
   "metadata": {},
   "source": [
    "Q3.Define covariance and explain why it is important in statistical analysis. How is covariance calculated?"
   ]
  },
  {
   "cell_type": "markdown",
   "id": "cca41f8e-6b47-4e67-81cd-d2f9d4f423ea",
   "metadata": {},
   "source": [
    "Covariance in statistics measures the extent to which two variables vary linearly. \n",
    "It reveals whether two variables move in the same or opposite directions.\n",
    "Cov(x,y) =  ∑ ((x-x')(y-y')) / N-1"
   ]
  },
  {
   "cell_type": "markdown",
   "id": "0c5d6031-d2c1-4c18-8868-aaeddaeec563",
   "metadata": {},
   "source": [
    "Q4. For a dataset with the following categorical variables: Color (red, green, blue), Size (small, medium, large), and Material {wood, metal, plastic), perform label encoding using Python's scikit-learn library. Show your code and explain the output."
   ]
  },
  {
   "cell_type": "code",
   "execution_count": 8,
   "id": "595341eb-c6c8-4494-8d05-7cd7483a2bff",
   "metadata": {},
   "outputs": [
    {
     "name": "stdout",
     "output_type": "stream",
     "text": [
      "[2 1 0]\n",
      "[2 1 0]\n",
      "[2 0 1]\n"
     ]
    }
   ],
   "source": [
    "from sklearn import preprocessing\n",
    "import pandas as pd\n",
    "df = pd.DataFrame({\n",
    "    'color': ['red', 'green', 'blue'],\n",
    "    'Size':['small','medium','large'],\n",
    "    'material':['wood','metal','plastic']\n",
    "})\n",
    "\n",
    "# label_encoder object knows \n",
    "# how to understand word labels.\n",
    "label_encoder = preprocessing.LabelEncoder()\n",
    "  \n",
    "# Encode labels in column 'species'.\n",
    "df['color']= label_encoder.fit_transform(df['color'])\n",
    "df['Size']= label_encoder.fit_transform(df['Size']) \n",
    "df['material']= label_encoder.fit_transform(df['material']) \n",
    "print(df['color'].unique())\n",
    "print(df['Size'].unique())\n",
    "print(df['material'].unique())"
   ]
  },
  {
   "cell_type": "markdown",
   "id": "2503626b-4bb1-4e87-9f41-f82c2f7b500d",
   "metadata": {},
   "source": [
    "Q5. Calculate the covariance matrix for the following variables in a dataset: Age, Income, and Education level. Interpret the results."
   ]
  },
  {
   "cell_type": "code",
   "execution_count": 10,
   "id": "d5ebcd43-6e53-4f8c-b69a-63e81bfea82e",
   "metadata": {},
   "outputs": [
    {
     "data": {
      "text/html": [
       "<div>\n",
       "<style scoped>\n",
       "    .dataframe tbody tr th:only-of-type {\n",
       "        vertical-align: middle;\n",
       "    }\n",
       "\n",
       "    .dataframe tbody tr th {\n",
       "        vertical-align: top;\n",
       "    }\n",
       "\n",
       "    .dataframe thead th {\n",
       "        text-align: right;\n",
       "    }\n",
       "</style>\n",
       "<table border=\"1\" class=\"dataframe\">\n",
       "  <thead>\n",
       "    <tr style=\"text-align: right;\">\n",
       "      <th></th>\n",
       "      <th>Age</th>\n",
       "      <th>Income</th>\n",
       "      <th>Education_level</th>\n",
       "    </tr>\n",
       "  </thead>\n",
       "  <tbody>\n",
       "    <tr>\n",
       "      <th>Age</th>\n",
       "      <td>189.583333</td>\n",
       "      <td>1.454167e+05</td>\n",
       "      <td>-8.333333</td>\n",
       "    </tr>\n",
       "    <tr>\n",
       "      <th>Income</th>\n",
       "      <td>145416.666667</td>\n",
       "      <td>1.309167e+08</td>\n",
       "      <td>-4333.333333</td>\n",
       "    </tr>\n",
       "    <tr>\n",
       "      <th>Education_level</th>\n",
       "      <td>-8.333333</td>\n",
       "      <td>-4.333333e+03</td>\n",
       "      <td>0.666667</td>\n",
       "    </tr>\n",
       "  </tbody>\n",
       "</table>\n",
       "</div>"
      ],
      "text/plain": [
       "                           Age        Income  Education_level\n",
       "Age                 189.583333  1.454167e+05        -8.333333\n",
       "Income           145416.666667  1.309167e+08     -4333.333333\n",
       "Education_level      -8.333333 -4.333333e+03         0.666667"
      ]
     },
     "execution_count": 10,
     "metadata": {},
     "output_type": "execute_result"
    }
   ],
   "source": [
    "df = pd.DataFrame({\n",
    "    'Age': [20,30,45,50],\n",
    "    'Income':[12000,11000,25000,35000],\n",
    "    'Education_level':[3,2,1,2]\n",
    "})\n",
    "df.cov()"
   ]
  },
  {
   "cell_type": "markdown",
   "id": "bef49eaa-0711-466c-ab2d-24a34f502398",
   "metadata": {},
   "source": [
    "Q6. You are working on a machine learning project with a dataset containing several categorical variables, including \"Gender\" {Male/Female), \"Education Level\" {High School/Bachelor's/Master's/PhD), and \"Employment Status\" {Unemployed/Part-Time/Full-Time).Which encoding method would you use for each variable, and why?"
   ]
  },
  {
   "cell_type": "markdown",
   "id": "4803fa45-4af3-441d-94f0-f34e9610ddd0",
   "metadata": {},
   "source": [
    "For Gender we will use binary/nominal encoding as there are only 2 categories.\n",
    "Educational level - Ordinal encoding - to have rank for each degrees\n",
    "Employment status - One Hot encoding to have categories without any rank preferances"
   ]
  },
  {
   "cell_type": "markdown",
   "id": "2d599a45-35d4-489a-914a-b231ace8ca6b",
   "metadata": {},
   "source": [
    "Q7. You are analyzing a dataset with two continuous variables  \"Weather\" and \"Humidity\" and two categorical variables,\"Weather conditions\"(Sunny/Cloudy/Rainy) and \"Wind direction\"(North/South/East/West).Calculate the covariance between each pair of variables and intrepert the results."
   ]
  },
  {
   "cell_type": "code",
   "execution_count": 23,
   "id": "9d81e17c-c79a-40f9-9e45-ebd669c22646",
   "metadata": {},
   "outputs": [
    {
     "name": "stdout",
     "output_type": "stream",
     "text": [
      "    Weather  Humidity Weather_condition Wind_direction\n",
      "0        31        90             Sunny          North\n",
      "1        31        94            Cloudy          south\n",
      "2        39        85             Rainy           East\n",
      "3        38        80             Sunny           West\n",
      "4        33        94            Cloudy          North\n",
      "5        31        81             Rainy          south\n",
      "6        35        94             Sunny           East\n",
      "7        34        86            Cloudy           West\n",
      "8        31        83             Rainy          North\n",
      "9        39        88             Sunny          south\n",
      "10       39        80            Cloudy           East\n",
      "11       37        92             Rainy           West\n"
     ]
    },
    {
     "name": "stderr",
     "output_type": "stream",
     "text": [
      "/tmp/ipykernel_77/3176313003.py:11: FutureWarning: The default value of numeric_only in DataFrame.cov is deprecated. In a future version, it will default to False. Select only valid columns or specify the value of numeric_only to silence this warning.\n",
      "  data.cov()\n"
     ]
    },
    {
     "data": {
      "text/html": [
       "<div>\n",
       "<style scoped>\n",
       "    .dataframe tbody tr th:only-of-type {\n",
       "        vertical-align: middle;\n",
       "    }\n",
       "\n",
       "    .dataframe tbody tr th {\n",
       "        vertical-align: top;\n",
       "    }\n",
       "\n",
       "    .dataframe thead th {\n",
       "        text-align: right;\n",
       "    }\n",
       "</style>\n",
       "<table border=\"1\" class=\"dataframe\">\n",
       "  <thead>\n",
       "    <tr style=\"text-align: right;\">\n",
       "      <th></th>\n",
       "      <th>Weather</th>\n",
       "      <th>Humidity</th>\n",
       "    </tr>\n",
       "  </thead>\n",
       "  <tbody>\n",
       "    <tr>\n",
       "      <th>Weather</th>\n",
       "      <td>11.787879</td>\n",
       "      <td>-5.045455</td>\n",
       "    </tr>\n",
       "    <tr>\n",
       "      <th>Humidity</th>\n",
       "      <td>-5.045455</td>\n",
       "      <td>30.568182</td>\n",
       "    </tr>\n",
       "  </tbody>\n",
       "</table>\n",
       "</div>"
      ],
      "text/plain": [
       "            Weather   Humidity\n",
       "Weather   11.787879  -5.045455\n",
       "Humidity  -5.045455  30.568182"
      ]
     },
     "execution_count": 23,
     "metadata": {},
     "output_type": "execute_result"
    }
   ],
   "source": [
    "import numpy as np\n",
    "import pandas as pd \n",
    "#Working on 1D\n",
    "data = {'Weather' : np.random.randint(30,40,12),\n",
    "\"Humidity\" : np.random.randint(80,95,12),\n",
    "\"Weather_condition\" : np.tile(('Sunny','Cloudy','Rainy'),4),\n",
    "\"Wind_direction\" : np.tile(('North','south','East','West'),3)}\n",
    "\n",
    "data = pd.DataFrame(data)\n",
    "print(data)\n",
    "data.cov()"
   ]
  },
  {
   "cell_type": "code",
   "execution_count": null,
   "id": "c71ac6df-cc46-45fa-a2c7-98d4482804a4",
   "metadata": {},
   "outputs": [],
   "source": []
  }
 ],
 "metadata": {
  "kernelspec": {
   "display_name": "Python 3 (ipykernel)",
   "language": "python",
   "name": "python3"
  },
  "language_info": {
   "codemirror_mode": {
    "name": "ipython",
    "version": 3
   },
   "file_extension": ".py",
   "mimetype": "text/x-python",
   "name": "python",
   "nbconvert_exporter": "python",
   "pygments_lexer": "ipython3",
   "version": "3.10.8"
  }
 },
 "nbformat": 4,
 "nbformat_minor": 5
}
