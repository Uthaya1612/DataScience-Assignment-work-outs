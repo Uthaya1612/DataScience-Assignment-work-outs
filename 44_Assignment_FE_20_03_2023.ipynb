{
 "cells": [
  {
   "cell_type": "markdown",
   "id": "36215b20-067d-4438-b46e-aafd804ad711",
   "metadata": {},
   "source": [
    "Q1.What is data encoding? How is it useful in data science?"
   ]
  },
  {
   "cell_type": "markdown",
   "id": "30fb1c69-569f-4a7d-835d-555d52912b56",
   "metadata": {},
   "source": [
    "Encoding is the process of converting data from one form to another form. \n",
    "\n",
    "In data science, encoding is used to convert categorical data into a format that can be understood by the machines (numerical values)."
   ]
  },
  {
   "cell_type": "markdown",
   "id": "ecf2fb5e-0202-4afb-857f-191df3cab913",
   "metadata": {},
   "source": [
    "Q2. What is nominal encoding? Provide an example of how you would use it in a real-world scenario."
   ]
  },
  {
   "cell_type": "markdown",
   "id": "0181aae2-7cfc-4b16-887b-39280bb21e52",
   "metadata": {},
   "source": [
    "All the variables in the respective feature are equal. We do not have any order or rank, or sequence.  We can't give them any orders or ranks. Those features are called Nominal features.\n",
    "\n",
    "When we have a feature where variables are just names and there is no order or rank to that variable's feature, we can use nominal encoding.\n",
    "\n",
    "Red - 100\n",
    "Blue -010\n",
    "Green-001"
   ]
  },
  {
   "cell_type": "markdown",
   "id": "d80aa317-02ee-4a09-9b1f-e633d88ee144",
   "metadata": {},
   "source": [
    "Q3. In what situations is nominal encoding preferred over one-hot encoding? Provide a practical example."
   ]
  },
  {
   "cell_type": "markdown",
   "id": "62e772c9-7b1f-438f-8bbc-c83bda5d6140",
   "metadata": {},
   "source": [
    "When there are large number of unique of feature values and the rank of the values is not important, then nominal encoding is prefered over one-hot encoding since OHE requires to create number of columns equal to number of unique feature values."
   ]
  },
  {
   "cell_type": "markdown",
   "id": "58bedde4-1a2a-49fb-8321-286df5040402",
   "metadata": {},
   "source": [
    "Q4. Suppose you have a dataset containing categorical data with 5 unique values. Which encoding \n",
    "technique would you use to transform this data into a format suitable for machine learning algorithms? \n",
    "Explain why you made this choice."
   ]
  },
  {
   "cell_type": "markdown",
   "id": "35433651-4455-41a1-b9b7-fbdfae026089",
   "metadata": {},
   "source": [
    "We may go with One hot Encoding technique, since it will not create any numerical dependancies and does not create unwanted ordering sequence in the data."
   ]
  },
  {
   "cell_type": "markdown",
   "id": "55fd3263-666b-4b68-a1d2-c2f3797f4a83",
   "metadata": {},
   "source": [
    "Q5. In a machine learning project, you have a dataset with 1000 rows and 5 columns. Two of the columns \n",
    "are categorical, and the remaining three columns are numerical. If you were to use nominal encoding to \n",
    "transform the categorical data, how many new columns would be created? Show your calculations."
   ]
  },
  {
   "cell_type": "markdown",
   "id": "d49a8f41-281b-4664-a942-4e3c7b5e4fda",
   "metadata": {},
   "source": [
    "First we need to find the number of unique values in each columns. \n",
    "Then new columns equal to number of unique values is created as additional.\n",
    "Total new columns = Unique value in column 1 + Unique value in column 2."
   ]
  },
  {
   "cell_type": "markdown",
   "id": "0781514f-4683-4da7-81a3-ff97d1bfc5e9",
   "metadata": {},
   "source": [
    "Q6. You are working with a dataset containing information about different types of animals, including their \n",
    "species, habitat, and diet. Which encoding technique would you use to transform the categorical data into \n",
    "a format suitable for machine learning algorithms? Justify your answer."
   ]
  },
  {
   "cell_type": "markdown",
   "id": "ff7d4bb8-8aa2-45e1-9f65-886a58b8ef18",
   "metadata": {},
   "source": [
    "We may go with One hot Encoding technique, since it will not create any numerical dependancies and does not create unwanted ordering sequence in the data."
   ]
  },
  {
   "cell_type": "markdown",
   "id": "e5711a69-bf70-4287-8c03-f02d78da8a2f",
   "metadata": {},
   "source": [
    "Q7.You are working on a project that involves predicting customer churn for a telecommunications \n",
    "company. You have a dataset with 5 features, including the customer's gender, age, contract type, \n",
    "monthly charges, and tenure. Which encoding technique(s) would you use to transform the categorical \n",
    "data into numerical data? Provide a step-by-step explanation of how you would implement the encoding."
   ]
  },
  {
   "cell_type": "markdown",
   "id": "3fe79ffd-1fe2-4ef8-a6bf-0dd65c4df5e6",
   "metadata": {},
   "source": [
    "We can use binary coding for gender , contract type,tenure. And OHE encoding for age and monthly charges."
   ]
  }
 ],
 "metadata": {
  "kernelspec": {
   "display_name": "Python 3 (ipykernel)",
   "language": "python",
   "name": "python3"
  },
  "language_info": {
   "codemirror_mode": {
    "name": "ipython",
    "version": 3
   },
   "file_extension": ".py",
   "mimetype": "text/x-python",
   "name": "python",
   "nbconvert_exporter": "python",
   "pygments_lexer": "ipython3",
   "version": "3.10.8"
  }
 },
 "nbformat": 4,
 "nbformat_minor": 5
}
