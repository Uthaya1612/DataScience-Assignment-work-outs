{
 "cells": [
  {
   "cell_type": "markdown",
   "id": "367ba2af-186c-4fa2-84b2-fc287a61e70e",
   "metadata": {},
   "source": [
    "Q1. Calculate the 95% confidence interval for a sample of data with a mean of 50 and a standard deviation of 5 using Python. Interpret the results.\n",
    "\n"
   ]
  },
  {
   "cell_type": "code",
   "execution_count": 9,
   "id": "520ea8d5-bfb2-44a5-949a-65163ba0735a",
   "metadata": {},
   "outputs": [
    {
     "data": {
      "text/plain": [
       "(40.200180077299734, 59.799819922700266)"
      ]
     },
     "execution_count": 9,
     "metadata": {},
     "output_type": "execute_result"
    }
   ],
   "source": [
    "import numpy as np\n",
    "import scipy.stats as st\n",
    "  \n",
    "# define sample data\n",
    "mean = 50\n",
    "SD = 5\n",
    " # create 90% confidence interval\n",
    "#st.t.interval(alpha=0.95, df=len(gfg_data)-1,loc=mean,scale=SD)\n",
    "st.norm.interval(0.95, loc=mean, scale=SD)"
   ]
  },
  {
   "cell_type": "markdown",
   "id": "73c544af-b349-4138-a480-783705dad69d",
   "metadata": {},
   "source": [
    "Q2. Conduct a chi-square goodness of fit test to determine if the distribution of colors of M&Ms in a bag matches the expected distribution of 20% blue, 20% orange, 20% green, 10% yellow, 10% red, and 20% brown. Use Python to perform the test with a significance level of 0.05."
   ]
  },
  {
   "cell_type": "code",
   "execution_count": 8,
   "id": "fe826414-a5ff-4be2-bb36-17dd5fad2895",
   "metadata": {},
   "outputs": [
    {
     "name": "stdout",
     "output_type": "stream",
     "text": [
      "8.158890178144837 0.14769354835669313 5 [[ 3.6446281  17.3553719 ]\n",
      " [ 3.81818182 18.18181818]\n",
      " [ 3.99173554 19.00826446]\n",
      " [ 2.42975207 11.57024793]\n",
      " [ 2.60330579 12.39669421]\n",
      " [ 4.51239669 21.48760331]]\n"
     ]
    }
   ],
   "source": [
    "from scipy.stats import chi2_contingency\n",
    " \n",
    "# defining the table\n",
    "data = [[1,20],[2,20],[3,20],[4,10],[5,10],[6,20]]\n",
    "\n",
    "stat, p, dof, expected = chi2_contingency(data)\n",
    "print(stat,p,dof,expected) \n",
    "# interpret p-value\n",
    "alpha = 0.05\n",
    "print(\"p value is \" + str(p))\n",
    "if p <= alpha:\n",
    "    print('Dependent (reject H0)')\n",
    "else:\n",
    "    print('Independent (H0 holds true)')"
   ]
  },
  {
   "cell_type": "markdown",
   "id": "d23b43ee-094e-4047-9066-2a9034944ac4",
   "metadata": {},
   "source": [
    "Q3. Use Python to calculate the chi-square statistic and p-value for a contingency table with the following data:\n",
    "            Group A   Group B\n",
    "Outcome 1      20        15\n",
    "Outcome 2      10        25\n",
    "Outcome 3      15        20\n",
    "Interpret the results of the test.\n",
    "\n"
   ]
  },
  {
   "cell_type": "code",
   "execution_count": 14,
   "id": "5450e52f-0cac-495e-ab46-7fbfab6c3695",
   "metadata": {},
   "outputs": [
    {
     "name": "stdout",
     "output_type": "stream",
     "text": [
      "Corresponding Chi square value is  5.833333333333334\n",
      "Corresponding p value is  0.05411376622282158\n",
      "Corresponding DOF  is  2\n",
      "Expected value is  [[15. 20.]\n",
      " [15. 20.]\n",
      " [15. 20.]]\n"
     ]
    }
   ],
   "source": [
    "from scipy.stats import chi2_contingency\n",
    " \n",
    "# defining the table\n",
    "data = [[20,15],[10,25],[15,20]]\n",
    "\n",
    "stat, p, dof, expected = chi2_contingency(data)\n",
    "print(\"Corresponding Chi square value is \",stat) \n",
    "print(\"Corresponding p value is \",p) \n",
    "print(\"Corresponding DOF  is \",dof) \n",
    "print(\"Expected value is \",expected) \n",
    "# interpret p-value\n"
   ]
  },
  {
   "cell_type": "markdown",
   "id": "773d6dde-13b9-419f-85c9-929c6b98e3e9",
   "metadata": {},
   "source": [
    "Q4. A study of the prevalence of smoking in a population of 500 individuals found that 60 individuals \n",
    "smoked. Use Python to calculate the 95% confidence interval for the true proportion of individuals in the \n",
    "population who smoke.\n",
    "\n"
   ]
  },
  {
   "cell_type": "code",
   "execution_count": 32,
   "id": "76d3b871-450a-4539-8cf0-eb0cda4c7a26",
   "metadata": {},
   "outputs": [
    {
     "name": "stdout",
     "output_type": "stream",
     "text": [
      "The Z value is  1.959963984540054\n",
      "The standard margin error is 0.03400656877722303\n",
      "The 95.0 % confidence interval for the true proportion is 0.09 to 0.15\n"
     ]
    }
   ],
   "source": [
    "import numpy as np\n",
    "n = 500\n",
    "p = 0.12\n",
    "confidence = 0.95\n",
    "significance = 1- confidence\n",
    "z = stats.norm(loc = 0, scale = 1).ppf(confidence + significance / 2)\n",
    "print(\"The Z value is \",z)\n",
    "sem = Z*np.sqrt(p*(1-p)/n)\n",
    "print (\"The standard margin error is\",sem)\n",
    "lower_limit = p- sem\n",
    "upper_limit = p+ sem\n",
    "print (\"The {} % confidence interval for the true proportion is {:.2f} to {:.2f}\".format(confidence*100,lower_limit,upper_limit))"
   ]
  },
  {
   "cell_type": "markdown",
   "id": "3f65944c-e6ff-41f1-95b4-b763f7323174",
   "metadata": {},
   "source": [
    "Q5. Calculate the 90% confidence interval for a sample of data with a mean of 75 and a standard deviation \n",
    "of 12 using Python. Interpret the results.\n",
    "\n"
   ]
  },
  {
   "cell_type": "code",
   "execution_count": 22,
   "id": "fe1955cd-3217-4762-ae7c-3447e6dcdfb2",
   "metadata": {},
   "outputs": [
    {
     "name": "stderr",
     "output_type": "stream",
     "text": [
      "/tmp/ipykernel_203/483487688.py:1: DeprecationWarning: Use of keyword argument `alpha` for method `interval` is deprecated. Use first positional argument or keyword argument `confidence` instead.\n",
      "  st.norm.interval(alpha=0.90,\n"
     ]
    },
    {
     "data": {
      "text/plain": [
       "(55.26175647658233, 94.73824352341767)"
      ]
     },
     "execution_count": 22,
     "metadata": {},
     "output_type": "execute_result"
    }
   ],
   "source": [
    "st.norm.interval(alpha=0.90, \n",
    "                 loc=75,\n",
    "                 scale=12)"
   ]
  },
  {
   "cell_type": "markdown",
   "id": "e90bd006-e250-4d50-b33f-eda1ecb779f1",
   "metadata": {},
   "source": [
    "Q6. Use Python to plot the chi-square distribution with 10 degrees of freedom. Label the axes and shade the \n",
    "area corresponding to a chi-square statistic of 15.\n",
    "\n"
   ]
  },
  {
   "cell_type": "code",
   "execution_count": 32,
   "id": "abd0d3a5-743a-47b1-badc-53e4821a9c1b",
   "metadata": {},
   "outputs": [
    {
     "data": {
      "text/plain": [
       "Text(0.5, 0, 'x')"
      ]
     },
     "execution_count": 32,
     "metadata": {},
     "output_type": "execute_result"
    },
    {
     "data": {
      "image/png": "[encoded data removed]",
      "text/plain": [
       "<Figure size 640x480 with 1 Axes>"
      ]
     },
     "metadata": {},
     "output_type": "display_data"
    }
   ],
   "source": [
    "import numpy as np\n",
    "import matplotlib.pyplot as plt\n",
    "from scipy.stats import chi2\n",
    "x = np.arange(0, 20, 0.001)\n",
    "plt.plot(x, chi2.pdf(x, df=10), color='red', linewidth=3)\n",
    "plt.ylabel('Density')\n",
    "plt.xlabel('x')"
   ]
  },
  {
   "cell_type": "markdown",
   "id": "6536fb02-73c4-4510-8841-22957e4a7e2c",
   "metadata": {},
   "source": [
    "Q7. A random sample of 1000 people was asked if they preferred Coke or Pepsi. Of the sample, 520 \n",
    "preferred Coke. Calculate a 99% confidence interval for the true proportion of people in the population who \n",
    "prefer Coke.\n",
    "\n"
   ]
  },
  {
   "cell_type": "code",
   "execution_count": 31,
   "id": "c9f4e116-7215-4c00-a61b-2ec7da9dcd20",
   "metadata": {},
   "outputs": [
    {
     "name": "stdout",
     "output_type": "stream",
     "text": [
      "The Z value is  2.5758293035489004\n",
      "The standard margin error is 0.036969037856022166\n",
      "The 99.0 % confidence interval for the true proportion is 0.48 to 0.56\n"
     ]
    }
   ],
   "source": [
    "import numpy as np\n",
    "n = 1000\n",
    "p = 0.52\n",
    "confidence = 0.99\n",
    "significance = 1- confidence\n",
    "z = stats.norm(loc = 0, scale = 1).ppf(confidence + significance / 2)\n",
    "print(\"The Z value is \",z)\n",
    "sem = Z*np.sqrt(p*(1-p)/n)\n",
    "print (\"The standard margin error is\",sem)\n",
    "lower_limit = p- sem\n",
    "upper_limit = p+ sem\n",
    "print (\"The {} % confidence interval for the true proportion is {:.2f} to {:.2f}\".format(confidence*100,lower_limit,upper_limit))"
   ]
  },
  {
   "cell_type": "markdown",
   "id": "9ae2c822-e558-4e25-96f3-05f871e24b89",
   "metadata": {},
   "source": [
    "Q8. A researcher hypothesizes that a coin is biased towards tails. They flip the coin 100 times and observe \n",
    "45 tails. Conduct a chi-square goodness of fit test to determine if the observed frequencies match the \n",
    "expected frequencies of a fair coin. Use a significance level of 0.05.\n",
    "\n"
   ]
  },
  {
   "cell_type": "code",
   "execution_count": 47,
   "id": "0a35d662-788a-4c88-b893-e7a97e9d08e3",
   "metadata": {},
   "outputs": [
    {
     "name": "stdout",
     "output_type": "stream",
     "text": [
      "P  value is  0.5\n",
      "Corresponding Chi square value is  0.3208020050125313\n",
      "Corresponding p value is  0.5711260675200032\n",
      "Corresponding DOF  is  1\n",
      "Expected value is  [[52.5 47.5]\n",
      " [52.5 47.5]]\n",
      "Reject Null Hypothesis... Coin is biased towards Tails\n"
     ]
    }
   ],
   "source": [
    "from scipy.stats import chi2_contingency\n",
    "Null_Hypothesis = 'Coin is biased towards tails'\n",
    "Alternate_hypothesis = \"Coin is unbiased\"\n",
    "E=(50,50)\n",
    "O=(55,45)\n",
    "n = 100\n",
    "p_value = ((50-55)**2/n)+((45-50)**2/n)\n",
    "print(\"P  value is \",p_value)\n",
    "\n",
    "data = [[50,50],[55,45]]\n",
    "\n",
    "stat, p, dof, expected = chi2_contingency(data)\n",
    "print(\"Corresponding Chi square value is \",stat) \n",
    "print(\"Corresponding p value is \",p) \n",
    "print(\"Corresponding DOF  is \",dof) \n",
    "print(\"Expected value is \",expected) \n",
    "\n",
    "if(p>stat):\n",
    "    print(\"Reject Null Hypothesis... Coin is biased towards Tails\")\n",
    "else:\n",
    "    print(\"Accept Null hypothesis\")"
   ]
  },
  {
   "cell_type": "markdown",
   "id": "120d29e5-1c28-47c9-b27e-11936d0787e1",
   "metadata": {},
   "source": [
    "Q9. A study was conducted to determine if there is an association between smoking status (smoker or \n",
    "non-smoker) and lung cancer diagnosis (yes or no). The results are shown in the contingency table below. \n",
    "Conduct a chi-square test for independence to determine if there is a significant association between \n",
    "smoking status and lung cancer diagnosis.\n",
    "\n",
    "\n",
    "Lung Cancer: Yes  No\n",
    "Smoker        60 140\n",
    "Non-smoker    30 170\n"
   ]
  },
  {
   "cell_type": "code",
   "execution_count": 48,
   "id": "baac846b-eab7-498d-8692-1bf0d0c7df5c",
   "metadata": {},
   "outputs": [
    {
     "name": "stdout",
     "output_type": "stream",
     "text": [
      "p value is 0.0005158863863703744\n",
      "Dependent (reject H0)\n"
     ]
    }
   ],
   "source": [
    "from scipy.stats import chi2_contingency\n",
    " \n",
    "\n",
    "data = [[60,140], [30,170]]\n",
    "stat, p, dof, expected = chi2_contingency(data)\n",
    " \n",
    "# interpret p-value\n",
    "alpha = 0.05\n",
    "print(\"p value is \" + str(p))\n",
    "if p <= alpha:\n",
    "    print('Dependent (reject H0)')\n",
    "else:\n",
    "    print('Independent (H0 holds true)')"
   ]
  },
  {
   "cell_type": "markdown",
   "id": "8f6d0ecd-b678-4f2f-9a16-e439122a9b49",
   "metadata": {},
   "source": [
    "Q10. A study was conducted to determine if the proportion of people who prefer milk chocolate, dark \n",
    "chocolate, or white chocolate is different in the U.S. versus the U.K. A random sample of 500 people from \n",
    "the U.S. and a random sample of 500 people from the U.K. were surveyed. The results are shown in the \n",
    "contingency table below. Conduct a chi-square test for independence to determine if there is a significant \n",
    "as\n",
    "U.S. (n=500) 200 150 150\n",
    "U.K. (n=500) 225 175 100"
   ]
  },
  {
   "cell_type": "code",
   "execution_count": 50,
   "id": "04331141-c000-4865-b3f9-6ae6d46d0f3b",
   "metadata": {},
   "outputs": [
    {
     "name": "stdout",
     "output_type": "stream",
     "text": [
      "p value is 0.0012348168997745918\n",
      "Dependent (reject H0)\n",
      "Corresponding Chi square value is  13.393665158371041\n",
      "Corresponding p value is  0.0012348168997745918\n",
      "Corresponding DOF  is  2\n"
     ]
    }
   ],
   "source": [
    "from scipy.stats import chi2_contingency\n",
    " \n",
    "\n",
    "data = [[200,150,150], [225,175,100]]\n",
    "stat, p, dof, expected = chi2_contingency(data)\n",
    " \n",
    "# interpret p-value\n",
    "alpha = 0.05\n",
    "print(\"p value is \" + str(p))\n",
    "if p <= alpha:\n",
    "    print('Siginificant difference (reject H0)')\n",
    "else:\n",
    "    print('No difference (H0 holds true)')\n",
    "    \n",
    "print(\"Corresponding Chi square value is \",stat) \n",
    "print(\"Corresponding p value is \",p) \n",
    "print(\"Corresponding DOF  is \",dof) "
   ]
  },
  {
   "cell_type": "markdown",
   "id": "f57f1d02-82c3-4ba4-bc4b-bbb41dbebfdf",
   "metadata": {},
   "source": [
    "Q11. A random sample of 30 people was selected from a population with an unknown mean and standard \n",
    "deviation. The sample mean was found to be 72 and the sample standard deviation was found to be 10. \n",
    "Conduct a hypothesis test to determine if the population mean is significantly different from 70. Use a \n",
    "significance level of 0.05"
   ]
  },
  {
   "cell_type": "markdown",
   "id": "03449a60-de06-4d73-86b9-5e9faaff9b8f",
   "metadata": {},
   "source": [
    " μ =72 n = 30\n",
    "S = 10\n",
    "Alpha = 0.05\n",
    "\n",
    "NUll hypothesis : x1 != 70\n",
    "Alternate hypothesis : x1 = 70\n",
    "\n",
    "t = (x̄ - μ)/(S/√n)\n",
    "\n",
    "from t table, dof =29 (2 tail)\n",
    "Alpha = 0.05 t value is 1.699\n",
    "\n",
    "1.69 = (x̄ -70) /(10/√30)\n",
    "x̄ = 73.08\n",
    "\n",
    "Population mean is significantly different from 70"
   ]
  }
 ],
 "metadata": {
  "kernelspec": {
   "display_name": "Python 3 (ipykernel)",
   "language": "python",
   "name": "python3"
  },
  "language_info": {
   "codemirror_mode": {
    "name": "ipython",
    "version": 3
   },
   "file_extension": ".py",
   "mimetype": "text/x-python",
   "name": "python",
   "nbconvert_exporter": "python",
   "pygments_lexer": "ipython3",
   "version": "3.10.8"
  }
 },
 "nbformat": 4,
 "nbformat_minor": 5
}
