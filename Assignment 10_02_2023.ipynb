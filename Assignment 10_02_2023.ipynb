{
 "cells": [
  {
   "cell_type": "markdown",
   "id": "fe560283-0011-4e35-95e6-51c07ed7c953",
   "metadata": {},
   "source": [
    "1.Which function is used to open a file? What are the different modes of opening a file? Explain each mode\n",
    "of file opening."
   ]
  },
  {
   "cell_type": "markdown",
   "id": "3566b5ba-454f-446c-93d4-4d617bf03879",
   "metadata": {},
   "source": [
    "The Open() function is used to open a files in python.. The open () function takes two parameters; filename, and mode. \n",
    "There are four different modes for opening a file: 1.Read mode , 2. append mode 3.Write mode 4. Create mode.\n",
    "\"r\" - Read - Opens a file for reading, error if the file does not exist\n",
    "\n",
    "\"a\" - Append - Opens a file for appending, creates the file if it does not exist\n",
    "\n",
    "\"w\" - Write - Opens a file for writing, creates the file if it does not exist\n",
    "\n",
    "\"x\" - Create - Creates the specified file, returns an error if the file exists"
   ]
  },
  {
   "cell_type": "markdown",
   "id": "3f9568bf-b870-4a75-986b-eaaac8c8e359",
   "metadata": {},
   "source": [
    "2.Why close() function is used? Why is it important to close a file?"
   ]
  },
  {
   "cell_type": "markdown",
   "id": "76afd46a-a45f-4c6b-9412-b5a4a4018bb7",
   "metadata": {},
   "source": [
    "Close() function is used to close the connection between the open file and the program.\n",
    "If we are not calling the close() function then our system resources will be used wastely for the opened file and we may not have proper memory management."
   ]
  },
  {
   "cell_type": "markdown",
   "id": "892f9a41-7ccf-49c5-bed7-263c3df22bb2",
   "metadata": {},
   "source": [
    "3.Write a python program to create a text file. Write ‘I want to become a Data Scientist’ in that file. Then\n",
    "close the file. Open this file and read the content of the file.\n"
   ]
  },
  {
   "cell_type": "code",
   "execution_count": 2,
   "id": "06fa81e3-416d-42c3-8fee-d0ba36245dc2",
   "metadata": {},
   "outputs": [],
   "source": [
    "f = open(\"test.txt\" ,'w' )\n",
    "f.write(\"I want to become a Data Scientist\")\n",
    "f.close()\n",
    "f = open(\"test.txt\" ,'r' )\n",
    "f.read()\n",
    "f.close()"
   ]
  },
  {
   "cell_type": "markdown",
   "id": "1992edc9-cb1b-492a-bdaf-4421da8aee5e",
   "metadata": {},
   "source": [
    "4.Explain the following with python code: read(), readline() and readlines()."
   ]
  },
  {
   "cell_type": "markdown",
   "id": "3d57f29e-e2c6-4d0f-b8e1-3b0c9bd68f03",
   "metadata": {},
   "source": [
    "read() - reads the entire file and returns a string.\n",
    "readline() reads just one line from a file.\n",
    "readlines() returns a list of strings representing the lines of the file."
   ]
  },
  {
   "cell_type": "code",
   "execution_count": 6,
   "id": "353270ea-0411-434b-a8bf-5e195856caaf",
   "metadata": {},
   "outputs": [],
   "source": [
    "f = open(\"test2.txt\" ,'a' )\n",
    "f.write(\"\\n I want to become a data scientist\")\n",
    "f.write(\"\\n Big data\")\n",
    "f.close()\n",
    "f = open(\"test2.txt\" ,'a' )\n",
    "f.write(\"\\n Big data256\")\n",
    "f.close()\n"
   ]
  },
  {
   "cell_type": "code",
   "execution_count": 7,
   "id": "95a650ea-24cf-4073-9688-0c567d64e253",
   "metadata": {},
   "outputs": [
    {
     "data": {
      "text/plain": [
       "'I want to become a data scientistBig dataBig data256\\n I want to become a data scientist\\n Big data\\n Big data256'"
      ]
     },
     "execution_count": 7,
     "metadata": {},
     "output_type": "execute_result"
    }
   ],
   "source": [
    "f = open(\"test2.txt\" ,'r' )\n",
    "f.read()"
   ]
  },
  {
   "cell_type": "code",
   "execution_count": 9,
   "id": "a8584164-752c-4abc-9519-e2e60121a731",
   "metadata": {},
   "outputs": [
    {
     "data": {
      "text/plain": [
       "0"
      ]
     },
     "execution_count": 9,
     "metadata": {},
     "output_type": "execute_result"
    }
   ],
   "source": [
    "f.seek(0)"
   ]
  },
  {
   "cell_type": "code",
   "execution_count": 10,
   "id": "a1765e91-902b-4a83-88f3-ec11a9204b19",
   "metadata": {},
   "outputs": [
    {
     "data": {
      "text/plain": [
       "'I want to become a data scientistBig dataBig data256\\n'"
      ]
     },
     "execution_count": 10,
     "metadata": {},
     "output_type": "execute_result"
    }
   ],
   "source": [
    "f.readline()"
   ]
  },
  {
   "cell_type": "code",
   "execution_count": 11,
   "id": "3b0c87be-a23c-4670-843d-5e5a4b09c9ee",
   "metadata": {},
   "outputs": [
    {
     "data": {
      "text/plain": [
       "0"
      ]
     },
     "execution_count": 11,
     "metadata": {},
     "output_type": "execute_result"
    }
   ],
   "source": [
    "f.seek(0)"
   ]
  },
  {
   "cell_type": "code",
   "execution_count": 12,
   "id": "0ecc0044-dbb9-44ba-93b3-8672615d4728",
   "metadata": {},
   "outputs": [
    {
     "data": {
      "text/plain": [
       "['I want to become a data scientistBig dataBig data256\\n',\n",
       " ' I want to become a data scientist\\n',\n",
       " ' Big data\\n',\n",
       " ' Big data256']"
      ]
     },
     "execution_count": 12,
     "metadata": {},
     "output_type": "execute_result"
    }
   ],
   "source": [
    "f.readlines()"
   ]
  },
  {
   "cell_type": "markdown",
   "id": "ea2648c9-b08e-43b4-bfb4-e088aa83f136",
   "metadata": {},
   "source": [
    "Q5. Explain why with statement is used with open(). What is the advantage of using with statement and\n",
    "open() together?"
   ]
  },
  {
   "cell_type": "markdown",
   "id": "5c8f791f-5656-4e30-a264-959a31712d4b",
   "metadata": {},
   "source": [
    "By using with statement along with open, ensures the file is open until loop is alive.\n",
    "Using with means that the file will be closed as soon as you leave the block. This is beneficial because closing a file is something that can easily be forgotten and consumes the resources of your system.\n"
   ]
  },
  {
   "cell_type": "markdown",
   "id": "a6c0136a-04ba-4657-a353-b67f21e6d01f",
   "metadata": {},
   "source": [
    "Q6. Explain the write() and writelines() functions. Give a suitable example."
   ]
  },
  {
   "cell_type": "markdown",
   "id": "1cbbf6a0-6a84-44ae-8cce-b282da37a49b",
   "metadata": {},
   "source": [
    "write() function -writes specified content to the file. \n",
    "writelines() function - writes the items of a list to the file."
   ]
  },
  {
   "cell_type": "code",
   "execution_count": 13,
   "id": "b6838bb0-fd45-44c7-893f-2b8b4028aedf",
   "metadata": {},
   "outputs": [],
   "source": [
    "f = open(\"test2.txt\" ,'a' )\n",
    "f.write(\"\\n New line\")\n",
    "f.close()"
   ]
  },
  {
   "cell_type": "code",
   "execution_count": 14,
   "id": "d6b88eba-a946-48e5-b343-7fb15c7ce80e",
   "metadata": {},
   "outputs": [],
   "source": [
    "f = open(\"test2.txt\" ,'a' )\n",
    "f.writelines([\"\\nfirst line\", \"\\n Second line\", \"\\n Third line\"])\n",
    "f.close()"
   ]
  },
  {
   "cell_type": "code",
   "execution_count": 16,
   "id": "387ea8e0-a5ed-4ad1-9f71-0f9caaff28c2",
   "metadata": {},
   "outputs": [
    {
     "data": {
      "text/plain": [
       "'I want to become a data scientistBig dataBig data256\\n I want to become a data scientist\\n Big data\\n Big data256\\n New line\\nfirst line\\n Second line\\n Third line'"
      ]
     },
     "execution_count": 16,
     "metadata": {},
     "output_type": "execute_result"
    }
   ],
   "source": [
    "f = open(\"test2.txt\" ,'r' )\n",
    "f.read()"
   ]
  },
  {
   "cell_type": "code",
   "execution_count": null,
   "id": "521a6ad0-d836-4997-9689-8b64cff4c3c8",
   "metadata": {},
   "outputs": [],
   "source": []
  }
 ],
 "metadata": {
  "kernelspec": {
   "display_name": "Python 3 (ipykernel)",
   "language": "python",
   "name": "python3"
  },
  "language_info": {
   "codemirror_mode": {
    "name": "ipython",
    "version": 3
   },
   "file_extension": ".py",
   "mimetype": "text/x-python",
   "name": "python",
   "nbconvert_exporter": "python",
   "pygments_lexer": "ipython3",
   "version": "3.10.8"
  }
 },
 "nbformat": 4,
 "nbformat_minor": 5
}
