{
 "cells": [
  {
   "cell_type": "code",
   "execution_count": 43,
   "id": "aef6b8c9-356b-41ef-9264-ac12512b7798",
   "metadata": {},
   "outputs": [
    {
     "name": "stdout",
     "output_type": "stream",
     "text": [
      "Integer value in list are..[1, 2, 3, 4, 44, 55, 66, 34, 56, 78, 89, 34, 1, 2, 3, 1, 4, 56]\n",
      "Non Integer value in list are..[True, False, 'key2', 'data science', 'Machine Learning']\n",
      "The product of all integer values in list are ..2315262738624675840\n"
     ]
    }
   ],
   "source": [
    "list1 = [1,2,3,4, [44,55,66, True], False, (34,56,78,89,34), {1,2,3,3,2,1}, {1:34, \"key2\": [55, 67, 78, 89], 4: (45,\n",
    "22, 61, 34)}, [56, 'data science'], 'Machine Learning']\n",
    "from functools import reduce\n",
    "ls2=[]\n",
    "ls1=[]\n",
    "ls3 = []\n",
    "for i in list1:\n",
    "    if (type(i) == tuple or type(i) == list or type(i) == set or type(i) == dict):\n",
    "        for j in i:\n",
    "            ls1.append(j)           \n",
    "    else:\n",
    "        ls1.append(i)\n",
    "for i in ls1:\n",
    "    if (type(i) == int):\n",
    "        ls2.append(i)\n",
    "    else:\n",
    "        ls3.append(i)\n",
    "print(\"Integer value in list are..{}\".format(ls2))\n",
    "print(\"Non Integer value in list are..{}\".format(ls3))\n",
    "\n",
    "print (\"The product of all integer values in list are ..{}\".format(reduce(lambda x,y: x*y, ls2)))       \n",
    "\n",
    "           "
   ]
  },
  {
   "cell_type": "code",
   "execution_count": 17,
   "id": "387a3325-5fa5-4552-b0b8-ab9ef53cc3db",
   "metadata": {},
   "outputs": [
    {
     "name": "stdout",
     "output_type": "stream",
     "text": [
      "r\n",
      "$\n",
      "d\n",
      "z\n",
      "m\n",
      "g\n",
      "$\n",
      "g\n",
      "l\n",
      "$\n",
      "y\n",
      "v\n",
      "x\n",
      "l\n",
      "n\n",
      "v\n",
      "$\n",
      "z\n",
      "$\n",
      "w\n",
      "z\n",
      "g\n",
      "z\n",
      "$\n",
      "h\n",
      "x\n",
      "r\n",
      "v\n",
      "m\n",
      "g\n",
      "r\n",
      "h\n",
      "g\n",
      ".\n",
      ".\n"
     ]
    }
   ],
   "source": [
    "def strfunc(str1):\n",
    "    list1 = [\" \",\"a\",\"b\",\"c\",\"d\",\"e\",\"f\",\"g\",\"h\",\"i\",\"j\",\"k\",\"l\",\"m\",\"n\",\"o\",\"p\",\"q\",\"r\",\"s\",\"t\",\"u\",\"v\",\"w\",\"x\",\"y\",\"z\",\"$\"]\n",
    "    str2 = str1.lower()\n",
    "\n",
    "    for i in str2:\n",
    "        if i not in list1:\n",
    "            print(i)\n",
    "        else:\n",
    "            j = 27-(list1.index(i))\n",
    "            print (list1[j])\n",
    "Str1 = \"I want to become a data Scientist..\"\n",
    "strfunc(Str1)"
   ]
  },
  {
   "cell_type": "code",
   "execution_count": 81,
   "id": "62c20ad1-e62b-4624-9c33-8c212a590cad",
   "metadata": {},
   "outputs": [
    {
     "name": "stdout",
     "output_type": "stream",
     "text": [
      " i want to beome a data scientist\n"
     ]
    }
   ],
   "source": [
    "a = \" I want to beome a data Scientist\"\n",
    "a.lower()\n",
    "b= a.lower()\n",
    "print(b)"
   ]
  },
  {
   "cell_type": "code",
   "execution_count": null,
   "id": "3ee2fd34-21bc-4872-8bcd-9743e82668e2",
   "metadata": {},
   "outputs": [],
   "source": []
  }
 ],
 "metadata": {
  "kernelspec": {
   "display_name": "Python 3 (ipykernel)",
   "language": "python",
   "name": "python3"
  },
  "language_info": {
   "codemirror_mode": {
    "name": "ipython",
    "version": 3
   },
   "file_extension": ".py",
   "mimetype": "text/x-python",
   "name": "python",
   "nbconvert_exporter": "python",
   "pygments_lexer": "ipython3",
   "version": "3.10.8"
  }
 },
 "nbformat": 4,
 "nbformat_minor": 5
}
