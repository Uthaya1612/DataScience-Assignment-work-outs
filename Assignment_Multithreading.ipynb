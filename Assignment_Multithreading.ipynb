{
 "cells": [
  {
   "cell_type": "markdown",
   "id": "934210f3-3ecd-45b4-b0ea-0f4c136b28ac",
   "metadata": {},
   "source": [
    "Q1.What is multithreading in python? Why is it used? Name the module used to handle threads in python"
   ]
  },
  {
   "cell_type": "markdown",
   "id": "dd4b1845-d9b9-4389-9848-f9d881cc89ef",
   "metadata": {},
   "source": [
    "Multithreading in python is a module/package that allows you to create threads as objects. The thread is a thing that is used to execute a task where some waiting is expected if any parallel activities arises. So that the main program does not wait for the task to complete. \n",
    "\n",
    "It is used to optimise the processor by sequencing the process.A process of running multiple threads simultaneously within a single process.\n",
    "\n",
    "Threading module is used to handle threads in python. \n",
    "import threading"
   ]
  },
  {
   "cell_type": "markdown",
   "id": "aa33356a-6213-47f6-96f0-96cbf1ebaf72",
   "metadata": {},
   "source": [
    "Q2 Why threading module used? Write the use of the following functions\n",
    "( activeCount\n",
    " currentThread\n",
    " enumerate)"
   ]
  },
  {
   "cell_type": "markdown",
   "id": "ec9dfc26-cdc6-4cfb-baa5-da0046f350fc",
   "metadata": {},
   "source": [
    "Threading module is used to run multiple threads simultaneously within a single process.\n",
    "\n",
    "ActiveCount -The method threading.active_count () from the threading module is used to count the currently active or running threads.\n",
    "\n",
    "Current Thread - It is an inbuilt method of the threading module in Python used to return the current Thread object, which corresponds to the caller's thread of control. \n",
    "\n",
    "enumerate -The enumerate() function takes a collection (e.g. a tuple) and returns it as an enumerate object.\n",
    "The enumerate() function adds a counter as the key for the enumerate object."
   ]
  },
  {
   "cell_type": "code",
   "execution_count": 3,
   "id": "4ec790f7-0266-45dd-8c3a-c3e67d76869e",
   "metadata": {},
   "outputs": [],
   "source": [
    "x=('a','b','c','d')\n",
    "y = enumerate(x)"
   ]
  },
  {
   "cell_type": "code",
   "execution_count": 5,
   "id": "7446706f-a677-4fbc-a3df-bdc963cae649",
   "metadata": {},
   "outputs": [
    {
     "name": "stdout",
     "output_type": "stream",
     "text": [
      "[(0, 'a'), (1, 'b'), (2, 'c'), (3, 'd')]\n"
     ]
    }
   ],
   "source": [
    "print (list (y))\n"
   ]
  },
  {
   "cell_type": "markdown",
   "id": "4019e75a-d118-4bff-88ff-7ba269616514",
   "metadata": {},
   "source": [
    "Q3. Explain the following functions\n",
    "\n",
    "\n",
    "a) run - When we directly call the run() method then no new thread will be created and run() method will be executed as a normal method call on the current calling thread itself and no multi-threading will take place.\n",
    "\n",
    "b) start - When a program calls the start() method, a new thread is created and then the run() method is executed. \n",
    "\n",
    "In threading,sometimes it is necessary for one thread to know when other thread is terminating. Join and Alive functions are used to find that. join() method is used more commonly than isAlive().\n",
    "\n",
    "c) join -  This method waits until the thread on which it is called terminates.\n",
    "d) isAlive - This method returns true if the thread upon which it is called is still running otherwise it returns false."
   ]
  },
  {
   "cell_type": "markdown",
   "id": "cb9ec260-a61b-419a-bcb6-237eff934c20",
   "metadata": {},
   "source": [
    "Q4. Write a python program to create two threads. Thread one must print the list of squares and thread\n",
    "two must print the list of cubes"
   ]
  },
  {
   "cell_type": "code",
   "execution_count": 2,
   "id": "8f7a94d5-5a6e-4999-9ba3-1b92c9356efe",
   "metadata": {},
   "outputs": [
    {
     "name": "stdout",
     "output_type": "stream",
     "text": [
      "1\n",
      "4\n",
      "9\n",
      "16\n",
      "25\n",
      "36\n",
      "49\n",
      "64\n",
      "81\n",
      "100\n",
      "1\n",
      "8\n",
      "27\n",
      "64\n",
      "125\n",
      "216\n",
      "343\n",
      "512\n",
      "729\n",
      "1000\n"
     ]
    }
   ],
   "source": [
    "import threading\n",
    "import time\n",
    "def squarefunc(x):\n",
    "    print(x**2)\n",
    "def cubefunc(x):\n",
    "    print(x**3)\n",
    "\n",
    "thread1 = [threading.Thread(target =squarefunc,args=(i,)) for i in range(1,11)]\n",
    "thread2 = [threading.Thread(target = cubefunc,args=(i,)) for i in range(1,11)]\n",
    "\n",
    "for t in thread1:\n",
    "    t.start()\n",
    "    #time.sleep(1)\n",
    "    \n",
    "for t1 in thread2:\n",
    "    t1.start()\n",
    "   "
   ]
  },
  {
   "cell_type": "markdown",
   "id": "ac33f056-46da-48d6-b4ec-2946e1cd1495",
   "metadata": {},
   "source": [
    "Q5. State advantages and disadvantages of multithreading.\n",
    "\n",
    "Advantage:\n",
    "Enhanced performance by decreased development time\n",
    "Simultaneous and parallelized occurrence of tasks\n",
    "Better use of cache storage by utilization of resources\n",
    "Decreased cost of maintenance\n",
    "\n",
    "Disadvantage:\n",
    "Complex debugging and testing processes\n",
    "Increased difficulty level in writing a program\n",
    "Unpredictable results"
   ]
  },
  {
   "cell_type": "markdown",
   "id": "e8f6030b-9f78-4d1a-bf91-90862707f010",
   "metadata": {},
   "source": [
    "6. Explain deadlocks and race conditions.\n",
    "\n",
    "Race Conditions- A race condition occurs when two threads access a shared variable at the same time. The first thread and second thread reads the value from the variable parallely and they race to see which thread can write the value last to the shared variable. The value of the thread that writes its value last is preserved, because the thread is writing over the value that the previous thread wrote.\n",
    "\n",
    "Deadlock - A deadlock occurs when two threads each lock a different variable at the same time and then try to lock the variable that the other thread already locked. As a result, each thread stops executing and waits for the other thread to release the variable. Because each thread is holding the variable that the other thread wants, nothing occurs, and the threads remain deadlocked."
   ]
  }
 ],
 "metadata": {
  "kernelspec": {
   "display_name": "Python 3 (ipykernel)",
   "language": "python",
   "name": "python3"
  },
  "language_info": {
   "codemirror_mode": {
    "name": "ipython",
    "version": 3
   },
   "file_extension": ".py",
   "mimetype": "text/x-python",
   "name": "python",
   "nbconvert_exporter": "python",
   "pygments_lexer": "ipython3",
   "version": "3.10.8"
  }
 },
 "nbformat": 4,
 "nbformat_minor": 5
}
