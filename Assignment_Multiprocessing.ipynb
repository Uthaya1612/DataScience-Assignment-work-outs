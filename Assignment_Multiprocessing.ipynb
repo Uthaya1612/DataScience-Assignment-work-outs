{
 "cells": [
  {
   "cell_type": "markdown",
   "id": "fd6f2697-90aa-42a4-8afb-e08bce1ba287",
   "metadata": {},
   "source": [
    "Q1. What is multiprocessing in python? Why is it useful?"
   ]
  },
  {
   "cell_type": "markdown",
   "id": "8a46ad62-77e9-46c2-a9e6-2514e68d4e7e",
   "metadata": {},
   "source": [
    "Multiprocessing refers to the ability of a system to support more than one processor at the same time. Applications in a multiprocessing system are broken to smaller routines that run independently.\n",
    "\n",
    "Multiprocessing is useful to run the bigger job with breaking that into smaller pieces of work and running it with different processor. It is likly to distribute single large work among multiple peoples to use them efficiently."
   ]
  },
  {
   "cell_type": "markdown",
   "id": "b25bfdab-1970-4ff6-8e04-5ec6306d0583",
   "metadata": {},
   "source": [
    "Q2. What are the differences between multiprocessing and multithreading?"
   ]
  },
  {
   "cell_type": "markdown",
   "id": "e5c84cc2-4433-45ec-a25b-fe0296446c33",
   "metadata": {},
   "source": [
    "Multithreading is the process of running multiple threads simultaneously within a single process.\n",
    "Multiprocessing is the process of running multiple processes simultaneously within a single thread."
   ]
  },
  {
   "cell_type": "markdown",
   "id": "e65d52e7-cd05-4b06-8023-4c685c6901b8",
   "metadata": {},
   "source": [
    "Q3. Write a python code to create a process using the multiprocessing module."
   ]
  },
  {
   "cell_type": "code",
   "execution_count": 2,
   "id": "00806ea1-1716-4e79-ba84-ac8fd1a08a11",
   "metadata": {},
   "outputs": [
    {
     "name": "stdout",
     "output_type": "stream",
     "text": [
      "Main Program\n",
      "Sample multiprocessing\n"
     ]
    }
   ],
   "source": [
    "import multiprocessing\n",
    "\n",
    "def sample1():\n",
    "    print(\"Sample multiprocessing\")\n",
    "\n",
    "if __name__ == \"__main__\":\n",
    "    m = multiprocessing.Process(target=sample1)\n",
    "    print(\"Main Program\")\n",
    "    m.start()\n",
    "    m.join()"
   ]
  },
  {
   "cell_type": "markdown",
   "id": "106afa6e-51e4-4ace-9b9e-44d5282d5692",
   "metadata": {},
   "source": [
    "Q4. What is a multiprocessing pool in python? Why is it used?"
   ]
  },
  {
   "cell_type": "markdown",
   "id": "102ab97a-96f9-4498-999c-7b4106e3e94b",
   "metadata": {},
   "source": [
    "Multiprocessing pool is the process of pooling the processors in the program.\n",
    "\n",
    "Pool objects are useful when you want to be able to submit more tasks to sub-processes, but you don't want to handle all the organization of these tasks(i.e. how many processes should be spawned to handle them; which task go to which process etc.) "
   ]
  },
  {
   "cell_type": "markdown",
   "id": "2c869518-4074-4a71-be65-344e7f7294ca",
   "metadata": {},
   "source": [
    "Q5. How can we create a pool of worker processes in python using the multiprocessing module?"
   ]
  },
  {
   "cell_type": "code",
   "execution_count": 4,
   "id": "3b8289e0-d366-4cd6-9350-d694dd817dd1",
   "metadata": {},
   "outputs": [
    {
     "name": "stdout",
     "output_type": "stream",
     "text": [
      "[1, 8, 27, 64, 125, 216, 343, 512, 729, 1000, 1331, 1728, 2197, 2744, 3375, 4096, 4913, 5832, 6859, 8000, 9261, 10648, 12167, 13824]\n"
     ]
    }
   ],
   "source": [
    "def cube(n):\n",
    "    return n**3\n",
    "if __name__ == '__main__':\n",
    "    with multiprocessing.Pool(processes=10) as pool :\n",
    "        out =pool.map(cube , range(1,25))\n",
    "        print(out)"
   ]
  },
  {
   "cell_type": "markdown",
   "id": "e3ace4e5-d1ea-44e5-9414-eed919914b2a",
   "metadata": {},
   "source": [
    "Q6. Write a python program to create 4 processes, each process should print a different number using the\n",
    "multiprocessing module in python."
   ]
  },
  {
   "cell_type": "code",
   "execution_count": null,
   "id": "74a72b92-df6e-4990-8561-48b7ba58a3d4",
   "metadata": {},
   "outputs": [],
   "source": [
    "def areaofcircle(r):\n",
    "    return 3.14*r*\n",
    "if __name__ == '__main__':\n",
    "    with multiprocessing.Pool(processes=10) as pool :\n",
    "        out =pool.map(cube , range(1,25))\n",
    "        print(out)"
   ]
  }
 ],
 "metadata": {
  "kernelspec": {
   "display_name": "Python 3 (ipykernel)",
   "language": "python",
   "name": "python3"
  },
  "language_info": {
   "codemirror_mode": {
    "name": "ipython",
    "version": 3
   },
   "file_extension": ".py",
   "mimetype": "text/x-python",
   "name": "python",
   "nbconvert_exporter": "python",
   "pygments_lexer": "ipython3",
   "version": "3.10.8"
  }
 },
 "nbformat": 4,
 "nbformat_minor": 5
}
