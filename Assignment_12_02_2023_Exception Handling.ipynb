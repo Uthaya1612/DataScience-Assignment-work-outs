{
 "cells": [
  {
   "cell_type": "markdown",
   "id": "f3bf83de-04fb-4021-8890-ebc23312a90e",
   "metadata": {},
   "source": [
    "Q1. What is an Exeption in python? Write the difference between Exceptions and Syntax errors."
   ]
  },
  {
   "cell_type": "markdown",
   "id": "9000845f-71c2-4dd4-93c3-25fd0f8ecc0d",
   "metadata": {},
   "source": [
    "An exception is an event, which occurs during the execution of a program that disrupts the normal flow of the program's instructions. When a Python program encounters a situation that it cannot run with, it raises an exception. \n",
    "\n",
    "Syntax error occurs if there is any mistake in our python script syntax.\n",
    "Whereas in Exception, the code is syntactically correct but the ends results in an error. "
   ]
  },
  {
   "cell_type": "markdown",
   "id": "8cdefef4-0ba6-4a26-8521-14f801b15ccf",
   "metadata": {},
   "source": [
    "Q2. What happens when an exception is not handled? Explain with an example."
   ]
  },
  {
   "cell_type": "markdown",
   "id": "f5cdd9b9-bb6c-4e65-86b1-84847d6ed6dd",
   "metadata": {},
   "source": [
    "When a Python script raises an exception, it must either handle the exception immediately otherwise it terminates and quits the script.\n"
   ]
  },
  {
   "cell_type": "code",
   "execution_count": 1,
   "id": "33c89e38-ebb3-4bda-a69a-b983991afbc7",
   "metadata": {},
   "outputs": [
    {
     "ename": "ZeroDivisionError",
     "evalue": "division by zero",
     "output_type": "error",
     "traceback": [
      "\u001b[0;31m---------------------------------------------------------------------------\u001b[0m",
      "\u001b[0;31mZeroDivisionError\u001b[0m                         Traceback (most recent call last)",
      "Cell \u001b[0;32mIn[1], line 1\u001b[0m\n\u001b[0;32m----> 1\u001b[0m \u001b[38;5;28mprint\u001b[39m(\u001b[38;5;241;43m1\u001b[39;49m\u001b[38;5;241;43m/\u001b[39;49m\u001b[38;5;241;43m0\u001b[39;49m)\n",
      "\u001b[0;31mZeroDivisionError\u001b[0m: division by zero"
     ]
    }
   ],
   "source": [
    "print(1/0)"
   ]
  },
  {
   "cell_type": "markdown",
   "id": "ae5b1287-f5da-47b4-954c-3e82838f233f",
   "metadata": {},
   "source": [
    "Q3. Which Python statements are used to catch and handle exceptions? Explain with an example."
   ]
  },
  {
   "cell_type": "markdown",
   "id": "6eab122f-b93c-4ee6-9d80-a9834ff0c970",
   "metadata": {},
   "source": [
    "Try and except statements are used to catch and handle the exceptions.\n"
   ]
  },
  {
   "cell_type": "code",
   "execution_count": 2,
   "id": "f1b53f71-e17b-404f-b852-4d962c861c4e",
   "metadata": {},
   "outputs": [
    {
     "name": "stdout",
     "output_type": "stream",
     "text": [
      "There is an error division by zero\n"
     ]
    }
   ],
   "source": [
    "try:\n",
    "    print(1/0)\n",
    "except Exception as e:\n",
    "    print(\"There is an error\",e)"
   ]
  },
  {
   "cell_type": "markdown",
   "id": "1b860f8d-b534-4852-9c52-f9c56028624b",
   "metadata": {},
   "source": [
    "Q4. Explain with an example:\n",
    "try and else - Else will be executed only when try executed successfully.\n",
    "finally - Finally will always be executed.\n",
    "raise - Prints a statement when the condition is met.\n"
   ]
  },
  {
   "cell_type": "code",
   "execution_count": 16,
   "id": "a8b867d0-e40f-44db-a52c-971d5086e635",
   "metadata": {},
   "outputs": [
    {
     "name": "stdin",
     "output_type": "stream",
     "text": [
      "Enter your age 15\n"
     ]
    },
    {
     "name": "stdout",
     "output_type": "stream",
     "text": [
      "There is an error exceptions must derive from BaseException\n",
      "Your script completed\n"
     ]
    }
   ],
   "source": [
    "a = int(input(\"Enter your age\"))\n",
    "try:\n",
    "    if a<18:\n",
    "        raise(\"Your are not authorised to enter\")\n",
    "except Exception as e :\n",
    "    print(\"There is an error\",  e)\n",
    "    \n",
    "else:\n",
    "    print(\"Successfully loged in\")\n",
    "    #int(a)\n",
    "\n",
    "finally:\n",
    "    print(\"Your script completed\")\n",
    "\n"
   ]
  },
  {
   "cell_type": "markdown",
   "id": "22b9cc81-82f8-49cd-8cff-96aa3559d791",
   "metadata": {},
   "source": [
    "Q5. What are Custom Exceptions in python? Why do we need Custom Exceptions? Explain with an example."
   ]
  },
  {
   "cell_type": "markdown",
   "id": "60be24bc-1c2d-4ebc-be5a-7972e4d2c365",
   "metadata": {},
   "source": [
    "Custom exceptions in python is an user customised exception classes that can created by creating a new class that is derived from the built-in Exception class.\n",
    "It is used to define and validate certain errors which the user thinks is not correct.\n"
   ]
  },
  {
   "cell_type": "code",
   "execution_count": 62,
   "id": "695d8f66-8930-4f2a-acc5-a04b618ca4db",
   "metadata": {},
   "outputs": [
    {
     "name": "stdin",
     "output_type": "stream",
     "text": [
      "Enter your age -5\n"
     ]
    },
    {
     "name": "stdout",
     "output_type": "stream",
     "text": [
      "There is an error Your are not authorised to enter\n"
     ]
    }
   ],
   "source": [
    "a = int(input(\"Enter your age\"))\n",
    "try:\n",
    "    if a<18:\n",
    "        raise Exception(\"Your are not authorised to enter\")\n",
    "except Exception as e :\n",
    "    print(\"There is an error\",  e)\n",
    "else:\n",
    "    print(\"Authorised entry\")"
   ]
  },
  {
   "cell_type": "markdown",
   "id": "01df1ca8-1e28-4b0f-a9b8-f5f46900bcd8",
   "metadata": {},
   "source": [
    "\n",
    "Q6. Create a custom exception class. Use this class to handle an exception."
   ]
  },
  {
   "cell_type": "code",
   "execution_count": 59,
   "id": "3b91668d-5cf3-4cb1-b529-a8795dadd80b",
   "metadata": {},
   "outputs": [],
   "source": [
    "class validateage(Exception) : \n",
    "    def __init__(self, msg) :\n",
    "        self.msg = msg \n"
   ]
  },
  {
   "cell_type": "code",
   "execution_count": 60,
   "id": "64a6aa69-4d95-4398-8753-44d9066079cc",
   "metadata": {},
   "outputs": [],
   "source": [
    "def validate_age(a):\n",
    "    if a<0:\n",
    "        raise validateage(\"Age cant be negative\")\n",
    "    elif(a>100):\n",
    "        raise validateage(\"Age cant be more than 100\")\n",
    "    else:\n",
    "        print(\"Age recorded successfully\")        \n"
   ]
  },
  {
   "cell_type": "code",
   "execution_count": 61,
   "id": "ba232a0f-4aab-423f-ac74-742b6e750949",
   "metadata": {},
   "outputs": [
    {
     "name": "stdin",
     "output_type": "stream",
     "text": [
      "enter your age -65\n"
     ]
    },
    {
     "name": "stdout",
     "output_type": "stream",
     "text": [
      "Age cant be negative\n"
     ]
    }
   ],
   "source": [
    "try : \n",
    "    a = int(input(\"enter your age\"))\n",
    "    validate_age(a)\n",
    "    \n",
    "except validateage as e : \n",
    "    print(e)"
   ]
  },
  {
   "cell_type": "code",
   "execution_count": null,
   "id": "faf00dc3-98a0-446b-88d3-b126a90b225b",
   "metadata": {},
   "outputs": [],
   "source": []
  }
 ],
 "metadata": {
  "kernelspec": {
   "display_name": "Python 3 (ipykernel)",
   "language": "python",
   "name": "python3"
  },
  "language_info": {
   "codemirror_mode": {
    "name": "ipython",
    "version": 3
   },
   "file_extension": ".py",
   "mimetype": "text/x-python",
   "name": "python",
   "nbconvert_exporter": "python",
   "pygments_lexer": "ipython3",
   "version": "3.10.8"
  }
 },
 "nbformat": 4,
 "nbformat_minor": 5
}
