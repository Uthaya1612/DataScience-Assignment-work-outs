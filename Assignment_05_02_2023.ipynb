{
 "cells": [
  {
   "cell_type": "markdown",
   "id": "49d29d83-a293-486f-86f3-d7ea51513043",
   "metadata": {},
   "source": [
    "1. Explain Class and Object with respect to Object-Oriented Programming. Give a suitable example."
   ]
  },
  {
   "cell_type": "markdown",
   "id": "08a6b10a-d4a1-44e7-bc19-8ec387cd4e50",
   "metadata": {},
   "source": [
    "A class is a user-defined data type. It consists of data members and member functions in it, that can be accessible for its object. A class is like a blueprint for an object.   \n",
    "Object is an instance for the class, through which the class is called. We can have multiple objects for a single class.\n"
   ]
  },
  {
   "cell_type": "markdown",
   "id": "af2aab9b-9340-4105-a070-96ee5bc1cccc",
   "metadata": {},
   "source": [
    "class marks:\n",
    "    def __init__(self,mark):\n",
    "        self.mark = mark\n",
    "        \n",
    "    def grade(self):\n",
    "        if (self.mark>=90):\n",
    "            print(\"A grade\")\n",
    "        else:\n",
    "            print (\"B grade\")\n",
    "\n",
    "sachin= marks(80)\n",
    "sachin.grade()"
   ]
  },
  {
   "cell_type": "markdown",
   "id": "348b53e2-e6d2-4257-a721-671bfa925521",
   "metadata": {},
   "source": [
    "2.The four pillars of object-oriented programming are:\n",
    "Abstraction, Encapsulation , Inheritance, Polymorphism"
   ]
  },
  {
   "cell_type": "markdown",
   "id": "f9e977ea-4ff8-4ed1-9913-82304e44d2c7",
   "metadata": {},
   "source": [
    "3.All classes have a function called __init__ (), which is always executed when the class is being initiated. The __init__ () function is used to assign values to object properties, or other operations that are necessary to do when the object is being created."
   ]
  },
  {
   "cell_type": "code",
   "execution_count": 11,
   "id": "de22bd96-c6d0-482a-9972-bce28d2d83b4",
   "metadata": {},
   "outputs": [
    {
     "name": "stdout",
     "output_type": "stream",
     "text": [
      "B grade\n"
     ]
    }
   ],
   "source": [
    "class marks:\n",
    "    def __init__(self,mark):\n",
    "        self.mark = mark\n",
    "        \n",
    "    def grade(self):\n",
    "        if (self.mark>=90):\n",
    "            print(\"A grade\")\n",
    "        else:\n",
    "            print (\"B grade\")\n",
    "\n",
    "sachin= marks(80)\n",
    "sachin.grade()"
   ]
  },
  {
   "cell_type": "markdown",
   "id": "e1901073-3616-458b-a299-aa5e86192d3f",
   "metadata": {},
   "source": [
    "4. Why self is used in OOPs?"
   ]
  },
  {
   "cell_type": "markdown",
   "id": "449e4712-2e17-414b-9786-ae73d9284b33",
   "metadata": {},
   "source": [
    "The self keyword is used to represent an instance object of the given class.By using the “self\",  we can access the attributes and methods of the class. "
   ]
  },
  {
   "cell_type": "markdown",
   "id": "e977f0eb-bae3-40d5-84dc-c158efd3bc38",
   "metadata": {},
   "source": [
    "5.What is inheritance? Give an example for each type of inheritance."
   ]
  },
  {
   "cell_type": "markdown",
   "id": "7dc3ff90-3d55-4ea5-bfbf-1bada1c8bd29",
   "metadata": {},
   "source": [
    "The capability of a class to derive properties and characteristics from another class is called Inheritance. \n",
    "Inheritance is a feature or a process in which, new classes are created from the existing classes. The new class created is called “derived class” or “child class” and the existing class is known as the “base class” or “parent class”. The derived class now is said to be inherited from the base class.\n",
    "\n",
    "There are 3 types of inheritance \n",
    "Single inheritance , Multiple inheritance, Multilevel inheritance."
   ]
  }
 ],
 "metadata": {
  "kernelspec": {
   "display_name": "Python 3 (ipykernel)",
   "language": "python",
   "name": "python3"
  },
  "language_info": {
   "codemirror_mode": {
    "name": "ipython",
    "version": 3
   },
   "file_extension": ".py",
   "mimetype": "text/x-python",
   "name": "python",
   "nbconvert_exporter": "python",
   "pygments_lexer": "ipython3",
   "version": "3.10.8"
  }
 },
 "nbformat": 4,
 "nbformat_minor": 5
}
