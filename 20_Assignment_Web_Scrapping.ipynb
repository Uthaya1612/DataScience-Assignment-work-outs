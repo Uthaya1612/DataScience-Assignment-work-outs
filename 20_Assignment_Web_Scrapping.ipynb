{
 "cells": [
  {
   "cell_type": "markdown",
   "id": "c1fabfdd-beb2-4993-a0c8-788da6e78dab",
   "metadata": {},
   "source": [
    "Q1. What is Web Scraping? Why is it Used? Give three areas where Web Scraping is used to get data.\n"
   ]
  },
  {
   "cell_type": "markdown",
   "id": "a04fec5a-143c-4f3d-b31d-90f06e6f47ad",
   "metadata": {},
   "source": [
    "Web scraping is the process of collecting structured web data from any website in an automated fashion. It’s also known as web data extraction, which is used to extract data from the web for our analytics purpose.\n",
    "\n",
    "Some of the main use cases of web scraping include price monitoring, price intelligence, news monitoring, lead generation, and market research among many others."
   ]
  },
  {
   "cell_type": "markdown",
   "id": "ad34517b-f12d-404e-b66e-6219593c0bc6",
   "metadata": {},
   "source": [
    "Q2. What are the different methods used for Web Scraping?\n"
   ]
  },
  {
   "cell_type": "markdown",
   "id": "b051bc13-5fe2-427b-878b-0222839336d6",
   "metadata": {},
   "source": [
    "The most common methods used for Web Scraping are\n",
    "    1. Human copy-and-paste.\n",
    "    2. Text pattern matching.\n",
    "    3. HTTP programming.\n",
    "    4. HTML parsing.\n",
    "    5. Computer vision web-page analysis."
   ]
  },
  {
   "cell_type": "markdown",
   "id": "c8854474-0760-49f0-96ff-13e5787f6b0e",
   "metadata": {},
   "source": [
    "Q3. What is Beautiful Soup? Why is it used?\n"
   ]
  },
  {
   "cell_type": "markdown",
   "id": "8d5210c1-9305-4989-a607-f5fbb4f596cc",
   "metadata": {},
   "source": [
    "Beautiful Soup is a Python library that is used for web scraping purposes to pull the data out of HTML and XML files. \n",
    "\n",
    "It creates a parse tree from page source code that can be used to extract data in a hierarchical and more readable manner."
   ]
  },
  {
   "cell_type": "markdown",
   "id": "a406251c-79ea-4e65-85b4-65c4e9aa8d2a",
   "metadata": {},
   "source": [
    "Q4. Why is flask used in this Web Scraping project?\n"
   ]
  },
  {
   "cell_type": "markdown",
   "id": "451fa850-c938-4b88-8f92-99ea9eec6e5c",
   "metadata": {},
   "source": [
    "Flask is a lightweight framework to build websites. We’ll use this to parse our collected data and display it as HTML in a new HTML file. The requests module allows us to send http requests to the website we want to scrape."
   ]
  },
  {
   "cell_type": "markdown",
   "id": "cdfc5210-99e9-49a1-9028-b3af08dc5961",
   "metadata": {},
   "source": [
    "Q5. Write the names of AWS services used in this project. Also, explain the use of each service"
   ]
  },
  {
   "cell_type": "markdown",
   "id": "f19a3847-a006-4711-b9ae-a68f30b398d1",
   "metadata": {},
   "source": [
    "AWS Code pipeline() - Code pipeline() offers continuous delivery service of our code from the lab to code pipeline after which it is pushed to the Beanstalk for resources allocation.\n",
    "\n",
    "AWS Beanstalk() -  Beanstalk is a service for deploying and scaling web applications and services. Bean stalk is going to offer the resources such as CPU,RAM,ROM etc for our services in WEB."
   ]
  }
 ],
 "metadata": {
  "kernelspec": {
   "display_name": "Python 3 (ipykernel)",
   "language": "python",
   "name": "python3"
  },
  "language_info": {
   "codemirror_mode": {
    "name": "ipython",
    "version": 3
   },
   "file_extension": ".py",
   "mimetype": "text/x-python",
   "name": "python",
   "nbconvert_exporter": "python",
   "pygments_lexer": "ipython3",
   "version": "3.10.8"
  }
 },
 "nbformat": 4,
 "nbformat_minor": 5
}
