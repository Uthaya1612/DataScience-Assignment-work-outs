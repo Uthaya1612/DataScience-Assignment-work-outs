{
 "cells": [
  {
   "cell_type": "markdown",
   "id": "a367a9a2-22df-4182-b720-408cccec2571",
   "metadata": {},
   "source": [
    "Q1: What is the difference between a t-test and a z-test? Provide an example scenario where you would \n",
    "use each type of test."
   ]
  },
  {
   "cell_type": "markdown",
   "id": "b3a1b704-a1d1-4ae4-b7ec-5ab0a3a6a937",
   "metadata": {},
   "source": [
    "The z test uses a normal distribution while the t test uses the Student's t distribution. \n",
    "Degrees of freedom are needed in t testing, not in z testing. \n",
    "The z statistic is calculated with the standard error. The t statistic uses the estimated standard error.\n",
    "The z statistic is calculated with the population Std deviation. The t statistic uses the estimated sample std deviation."
   ]
  },
  {
   "cell_type": "markdown",
   "id": "c2bd5872-7cb3-47df-9308-4007a68ce712",
   "metadata": {},
   "source": [
    "Q2: Differentiate between one-tailed and two-tailed tests."
   ]
  },
  {
   "cell_type": "markdown",
   "id": "595065c0-3407-4ffe-ad26-769f96958e02",
   "metadata": {},
   "source": [
    "A one-tailed test is based on a uni-directional hypothesis where the area of rejection is on only one side of the sampling distribution. \n",
    "Whereas the two tailed test is based on a Bi-directional hypothesis where the area of rejection falls on both side of the distribution curve."
   ]
  },
  {
   "cell_type": "markdown",
   "id": "8e891384-8d16-4aa4-a146-40e9dd900daf",
   "metadata": {},
   "source": [
    "Q3: Explain the concept of Type 1 and Type 2 errors in hypothesis testing. Provide an example scenario for \n",
    "each type of error."
   ]
  },
  {
   "cell_type": "markdown",
   "id": "e71af517-87bd-44ce-badb-792b51454641",
   "metadata": {},
   "source": [
    "A type I error occurs when we reject a null hypothesis that is actually true in the population. This is also referred to as a false-positive.\n",
    "\n",
    "A type II error is when we fail to reject a null hypothesis that is actually false in the population. This is also referred to as false-negative"
   ]
  },
  {
   "cell_type": "markdown",
   "id": "cf36a761-02ac-434e-9aa2-2697eccb4caa",
   "metadata": {},
   "source": [
    "Q4:  Explain Bayes theorem with an example."
   ]
  },
  {
   "cell_type": "markdown",
   "id": "1e98f6ca-4749-47d1-8cc2-41451311c0bc",
   "metadata": {},
   "source": [
    "Bayes’ theorem is a mathematical formula used to determine the conditional probability of the events. Essentially, the Bayes’ theorem describes the probability of an event based on prior knowledge of the conditions that might be relevant to the event."
   ]
  },
  {
   "cell_type": "markdown",
   "id": "b301ace7-f486-45fa-8e2a-855258e6ec2f",
   "metadata": {},
   "source": [
    "Q5: What is a confidence interval? How to calculate the confidence interval, explain with an example."
   ]
  },
  {
   "cell_type": "markdown",
   "id": "c9bb151d-7450-4255-8504-e48d1e384d41",
   "metadata": {},
   "source": [
    "The confidence interval is how much certainty you have about a sample set of data falling within a range of values.\n",
    "Ex - 90± 5"
   ]
  },
  {
   "cell_type": "markdown",
   "id": "3acbd220-c71e-4030-9090-9acf05efbda7",
   "metadata": {},
   "source": [
    "Q6. Use Bayes Theorem to calculate the probability of an event occurring given prior knowledge of the \n",
    "event's probability and new evidence. Provide a sample problem and solution."
   ]
  },
  {
   "cell_type": "markdown",
   "id": "3dd2c697-b91e-457f-9b38-ab434e51c795",
   "metadata": {},
   "source": [
    "Imagine you are a mechanical working professional. According to your research of on workers, 60% of the employees who have increased their salary  by more than 50% in the last three years has switched the company thrice during the period.\n",
    "\n",
    "At the same time, only 35% of the employees who did not increase their  salary  by more than 50% in the same period has switched the company. Knowing that the probability of salary increase by more than 50% is 4%, find the probability that the employees who have switched the company thrice will increase the salary by more than 50%.\n",
    "\n",
    "\n",
    "P(A) – the probability that the salary increase by more than 50%\n",
    "P(B) – the probability that employee switched company thrice\n",
    "P(A|B) – the probability of the salary increase by more than 50% given that the employee switched company thrice\n",
    "P(B|A) – the probability of the employee switching the company thrice given the salary has increased by more than 50%\n",
    "Using the Bayes’ theorem, we can find the required probability:\n",
    "\n",
    "Sample Calculation\n",
    "P(A\\B) = (P(B\\A)*P(A)) / P(B)\n",
    "P(A\\B) = (0.06 *0.04)/ (0.06 *0.04+ 0.035(1-0.04)) = 6.67%\n",
    "Thus, the probability that the salary of the employee switched the company thrice will grow by more than 50% is 6.67%."
   ]
  },
  {
   "cell_type": "markdown",
   "id": "dfad57e4-4b85-4021-b666-5d36dbbe48ff",
   "metadata": {},
   "source": [
    "Q7. Calculate the 95% confidence interval for a sample of data with a mean of 50 and a standard deviation \n",
    "of 5. Interpret the results."
   ]
  },
  {
   "cell_type": "markdown",
   "id": "8e353a2a-14a9-4d62-8bf8-20f2bab6653b",
   "metadata": {},
   "source": [
    "C.I = x̄ +/- Z *(σ/√n) Taken n =100\n",
    "Z with respect to 95% is 1.96\n",
    "C.I = 50 +/- 0.98\n",
    "C.I = 49.02 - 50.98"
   ]
  },
  {
   "cell_type": "markdown",
   "id": "986cc9e3-f08e-4aa3-adff-3f26062e8682",
   "metadata": {},
   "source": [
    "Q8. What is the margin of error in a confidence interval? How does sample size affect the margin of error? \n",
    "Provide an example of a scenario where a larger sample size would result in a smaller margin of error."
   ]
  },
  {
   "cell_type": "markdown",
   "id": "2b5a567d-2a44-47bf-8a56-cced8ffa6687",
   "metadata": {},
   "source": [
    "The margin of error is equal to half the width of the entire confidence interval.\n",
    "Confidence Interval = x̄ ± z* (s/√n) \n",
    "Note that within the margin of error, we divide by n (the sample size). Thus, when the sample size is large we divide by a large number, which makes the entire margin of error smaller. This leads to a narrower confidence interval."
   ]
  },
  {
   "cell_type": "markdown",
   "id": "fb2559a7-e47b-49ab-bf9a-98200bff550e",
   "metadata": {},
   "source": [
    "Q9. Calculate the z-score for a data point with a value of 75, a population mean of 70, and a population \n",
    "standard deviation of 5. Interpret the results."
   ]
  },
  {
   "cell_type": "markdown",
   "id": "887f0685-8aa5-48cf-8dfd-482af2012c26",
   "metadata": {},
   "source": [
    "Z = (x̄ - mu)/σ/√n = (75 -70)/0.91 = 5.49 (here n=30)"
   ]
  },
  {
   "cell_type": "markdown",
   "id": "1dbe1714-095e-457a-8719-b6635a79ec55",
   "metadata": {},
   "source": [
    "Q10. In a study of the effectiveness of a new weight loss drug, a sample of 50 participants lost an average \n",
    "of 6 pounds with a standard deviation of 2.5 pounds. Conduct a hypothesis test to determine if the drug is \n",
    "significantly effective at a 95% confidence level using a t-test."
   ]
  },
  {
   "cell_type": "markdown",
   "id": "3118ff2e-56fd-488a-bf2e-08fd8d1f4c39",
   "metadata": {},
   "source": [
    "NUll hypothesis : μ >= 6\n",
    "Alternate hypothesis : μ ≠ 6\n",
    "n = 50\n",
    "μ = 6\n",
    "S = 2.5\n",
    "Alpha = 0.05\n",
    "from t table,dof = 49 , 1 tail , t= 1.678\n",
    "1.678 = (x-6)/(2.5/√50)\n",
    "x = 6.59\n",
    "\n",
    "With 95% confidence interval we can say the drug is efective with average of 6.59 pounds of weight loss."
   ]
  },
  {
   "cell_type": "markdown",
   "id": "2117825a-9eb4-43a4-9888-4ad3b2abd48a",
   "metadata": {},
   "source": [
    "Q11. In a survey of 500 people, 65% reported being satisfied with their current job. Calculate the 95% \n",
    "confidence interval for the true proportion of people who are satisfied with their job."
   ]
  },
  {
   "cell_type": "markdown",
   "id": "b144ce3f-27ad-4b4e-b39a-bc6e978f3e63",
   "metadata": {},
   "source": [
    "C.I = x̄ +/- Z *(σ/√n) Taken n =500 , σ = 100,x̄ = 0.65*500 = 325\n",
    "Z with respect to 95% is 1.96\n",
    "C.I = 325 +/-(1.96)*(100/22.36)\n",
    "C.I = 325 +/- 8.75\n",
    "C.I = 316 to 334"
   ]
  },
  {
   "cell_type": "markdown",
   "id": "d1b917a9-388f-479b-8542-e62d4a29b0a8",
   "metadata": {},
   "source": [
    "Q12. A researcher is testing the effectiveness of two different teaching methods on student performance. \n",
    "Sample A has a mean score of 85 with a standard deviation of 6, while sample B has a mean score of 82 \n",
    "with a standard deviation of 5. Conduct a hypothesis test to determine if the two teaching methods have a \n",
    "significant difference in student performance using a t-test with a significance level of 0.01."
   ]
  },
  {
   "cell_type": "markdown",
   "id": "3128c8b3-0a62-4f41-8233-613a35dda556",
   "metadata": {},
   "source": [
    "x1 =85 here take n1&n2 as 25\n",
    "s1 = 6\n",
    "x2 = 82\n",
    "s2 = 5\n",
    "Alpha = 0.01\n",
    "\n",
    "NUll hypothesis : x1 & x2 has significant difference\n",
    "Alternate hypothesis : x1 = x2 \n",
    "\n",
    " t = (x1-x2) /√(s1^2/√n1)+(s2^2/√n2))\n",
    " t= (85 -82) /√12.2\n",
    " t = 3/3.49 = 0.8595\n",
    " \n",
    " \n",
    "from t table, dof =50-2 = 48 (2 tail)\n",
    "Alpha = 0.01 t value is 2.410\n",
    "\n",
    "Since obtained value is less than 2.410 we need to accept null hypothesis.\n",
    "The population means for the two groups are equal"
   ]
  },
  {
   "cell_type": "markdown",
   "id": "51052042-f4a9-4c80-8cdb-8443add35371",
   "metadata": {},
   "source": [
    "Q13. A population has a mean of 60 and a standard deviation of 8. A sample of 50 observations has a mean \n",
    "of 65. Calculate the 90% confidence interval for the true population mean."
   ]
  },
  {
   "cell_type": "markdown",
   "id": "44cca696-047d-41d0-9cac-6f04cd625c92",
   "metadata": {},
   "source": [
    "Population mean μ = 60\n",
    "Population S.D σ = 8\n",
    "n = 50\n",
    "Sample mean x̄ = 65\n",
    "Alpha = 0.1\n",
    "\n",
    "Z = x̄ - μ/ (σ/√n) = (65-60)/(8/√50) = 5/1.13 = 4.42\n",
    "from Z table, with 0.9 CI,\n",
    "Z = 0.8159\n",
    "\n",
    "C.I = x̄ +/- Z *(σ/√n) = 60 +/- 0.8159 *(8/√50) = 60+/-0.923 = 59 to 61\n",
    "\n",
    "\n",
    "from t table,dof = 49 , 1 tail , t= 1.678\n",
    "1.678 = (x-6)/(2.5/√50)\n",
    "x = 6.59\n",
    "\n",
    "With 95% confidence interval we can say the drug is efective with average of 6.59 pounds of weight loss."
   ]
  },
  {
   "cell_type": "markdown",
   "id": "4b23d554-209f-4db3-b050-e03d6624c889",
   "metadata": {},
   "source": [
    "Q14. In a study of the effects of caffeine on reaction time, a sample of 30 participants had an average \n",
    "reaction time of 0.25 seconds with a standard deviation of 0.05 seconds. Conduct a hypothesis test to \n",
    "determine if the caffeine has a significant effect on reaction time at a 90% confidence level using a t-test"
   ]
  },
  {
   "cell_type": "markdown",
   "id": "8b160c9d-d711-4f29-9812-25584e4f77ad",
   "metadata": {},
   "source": [
    " μ =0.25 here take n = 30\n",
    "S = 0.05\n",
    "Alpha = 0.05\n",
    "\n",
    "NUll hypothesis : x1 has significant difference\n",
    "Alternate hypothesis : x1 = 0.25\n",
    "\n",
    "t = (x̄ - μ)/(S/√n)\n",
    "\n",
    "from t table, dof =29 (2 tail)\n",
    "Alpha = 0.05 t value is 1.699\n",
    "\n",
    "1.69 = (x̄ -0.25) / 0.05/√30\n",
    "x̄ = 0.265\n",
    "\n",
    "\n",
    "Since obtained value is greater  than 0.25  so the caffeine has significant reaction on CI 90%."
   ]
  }
 ],
 "metadata": {
  "kernelspec": {
   "display_name": "Python 3 (ipykernel)",
   "language": "python",
   "name": "python3"
  },
  "language_info": {
   "codemirror_mode": {
    "name": "ipython",
    "version": 3
   },
   "file_extension": ".py",
   "mimetype": "text/x-python",
   "name": "python",
   "nbconvert_exporter": "python",
   "pygments_lexer": "ipython3",
   "version": "3.10.8"
  }
 },
 "nbformat": 4,
 "nbformat_minor": 5
}
