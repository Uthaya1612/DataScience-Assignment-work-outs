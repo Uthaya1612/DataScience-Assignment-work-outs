{
 "cells": [
  {
   "cell_type": "code",
   "execution_count": 12,
   "id": "b9f4e9ed-9d1c-44c5-9474-1c6f33f7cff3",
   "metadata": {},
   "outputs": [],
   "source": [
    "import numpy as np\n",
    "list_ = [ '1' , '2' , '3' , '4' , '5' ]\n",
    "array_list = np.array(object = list_)"
   ]
  },
  {
   "cell_type": "markdown",
   "id": "6b4f2e85-329b-4dc4-b880-01d9db2cc413",
   "metadata": {},
   "source": [
    "\n",
    "Q1. Is there any difference in the data type of variables list_ and array_list? If there is then write a code\n",
    "to print the data types of both the variables.\n"
   ]
  },
  {
   "cell_type": "code",
   "execution_count": 13,
   "id": "3ee199bb-8a9a-48e8-b915-2651a3e4d0f3",
   "metadata": {},
   "outputs": [
    {
     "data": {
      "text/plain": [
       "numpy.ndarray"
      ]
     },
     "execution_count": 13,
     "metadata": {},
     "output_type": "execute_result"
    }
   ],
   "source": [
    "type(list_)\n",
    "type(array_list)"
   ]
  },
  {
   "cell_type": "markdown",
   "id": "e8a23960-c62c-42a8-885c-780f742b9f8d",
   "metadata": {},
   "source": [
    "A list in Python is a collection of items which can contain elements of multiple data types, which may be either numeric, character logical values, etc\n",
    "An array is a vector containing homogeneous elements i.e. belonging to the same data type"
   ]
  },
  {
   "cell_type": "markdown",
   "id": "7bab494b-8333-4330-b3a9-b659fa7d6290",
   "metadata": {},
   "source": [
    "Q2. Write a code to print the data type of each and every element of both the variables list_ and\n",
    "arra_list.\n"
   ]
  },
  {
   "cell_type": "code",
   "execution_count": 14,
   "id": "2ffb048e-ec8c-46f4-a589-e36d56eccccf",
   "metadata": {},
   "outputs": [
    {
     "name": "stdout",
     "output_type": "stream",
     "text": [
      "Element1 is <class 'str'>\n",
      "Element2 is <class 'str'>\n",
      "Element3 is <class 'str'>\n",
      "Element4 is <class 'str'>\n",
      "Element5 is <class 'str'>\n"
     ]
    }
   ],
   "source": [
    "for i in list_:\n",
    "    print(\"Element{} is {}\".format(i,type(i)))"
   ]
  },
  {
   "cell_type": "code",
   "execution_count": 15,
   "id": "efb1ffbe-0868-451d-bd3c-3404a42916a9",
   "metadata": {},
   "outputs": [
    {
     "name": "stdout",
     "output_type": "stream",
     "text": [
      "Element1 is <class 'numpy.str_'>\n",
      "Element2 is <class 'numpy.str_'>\n",
      "Element3 is <class 'numpy.str_'>\n",
      "Element4 is <class 'numpy.str_'>\n",
      "Element5 is <class 'numpy.str_'>\n"
     ]
    }
   ],
   "source": [
    "for i in array_list:\n",
    "     print(\"Element{} is {}\".format(i,type(i)))"
   ]
  },
  {
   "cell_type": "code",
   "execution_count": null,
   "id": "afd04386-405c-4f30-a792-03aa11ec835d",
   "metadata": {},
   "outputs": [],
   "source": [
    "Q3. Considering the following changes in the variable, array_list:\n",
    "array_list = np.array(object = list_, dtype = int)\n",
    "Will there be any difference in the data type of the elements present in both the variables, list_ and\n",
    "arra_list? If so then print the data types of each and every element present in both the variables, list_\n",
    "and arra_list.\n",
    "\n",
    "\n"
   ]
  },
  {
   "cell_type": "code",
   "execution_count": 17,
   "id": "7da97b54-c6c5-4174-ba3a-b907d851ec7c",
   "metadata": {},
   "outputs": [
    {
     "name": "stdout",
     "output_type": "stream",
     "text": [
      "Element1 is <class 'numpy.int64'>\n",
      "Element2 is <class 'numpy.int64'>\n",
      "Element3 is <class 'numpy.int64'>\n",
      "Element4 is <class 'numpy.int64'>\n",
      "Element5 is <class 'numpy.int64'>\n"
     ]
    }
   ],
   "source": [
    "array_list = np.array(object = list_, dtype = int)\n",
    "for i in array_list:\n",
    "     print(\"Element{} is {}\".format(i,type(i)))"
   ]
  },
  {
   "cell_type": "code",
   "execution_count": 19,
   "id": "02aefef3-616a-466b-a81f-b444b3189268",
   "metadata": {},
   "outputs": [],
   "source": [
    "import numpy as np\n",
    "num_list = [ [ 1 , 2 , 3 ] , [ 4 , 5 , 6 ] ]\n",
    "num_array = np.array(object = num_list)"
   ]
  },
  {
   "cell_type": "markdown",
   "id": "16d13723-4a80-438d-85f1-b89dc5fe3c03",
   "metadata": {},
   "source": [
    "Consider the below code to answer further questions:\n",
    "Q4. Write a code to find the following characteristics of variable, num_array:\n",
    "(i) shape\n",
    "(ii) size\n"
   ]
  },
  {
   "cell_type": "code",
   "execution_count": 24,
   "id": "2bb1df70-4086-48ee-a0f0-ab45f6592acb",
   "metadata": {},
   "outputs": [
    {
     "name": "stdout",
     "output_type": "stream",
     "text": [
      "Size: 6\n",
      "Shape: (2, 3)\n"
     ]
    }
   ],
   "source": [
    "print(\"Size:\",num_array.size)\n",
    "print(\"Shape:\",num_array.shape)"
   ]
  },
  {
   "cell_type": "markdown",
   "id": "04261c7f-66b6-4ac0-a6c2-c464b7866e0a",
   "metadata": {},
   "source": [
    "Q5. Write a code to create numpy array of 3*3 matrix containing zeros only, using a numpy array\n",
    "creation function.\n",
    "[Hint: The size of the array will be 9 and the shape will be (3,3).]\n"
   ]
  },
  {
   "cell_type": "code",
   "execution_count": 26,
   "id": "2659b097-9652-4cca-aecd-837aaa461d25",
   "metadata": {},
   "outputs": [
    {
     "data": {
      "text/plain": [
       "array([[0., 0., 0.],\n",
       "       [0., 0., 0.],\n",
       "       [0., 0., 0.]])"
      ]
     },
     "execution_count": 26,
     "metadata": {},
     "output_type": "execute_result"
    }
   ],
   "source": [
    "np.zeros((3,3))"
   ]
  },
  {
   "cell_type": "markdown",
   "id": "6cb73451-24eb-445e-b1ef-2f5a616ecf0a",
   "metadata": {},
   "source": [
    "Q6. Create an identity matrix of shape (5,5) using numpy functions?\n",
    "[Hint: An identity matrix is a matrix containing 1 diagonally and other elements will be 0.]"
   ]
  },
  {
   "cell_type": "code",
   "execution_count": 28,
   "id": "96427e7e-9f03-48c5-bb1b-d08f863f0808",
   "metadata": {},
   "outputs": [
    {
     "data": {
      "text/plain": [
       "array([[1., 0., 0., 0., 0.],\n",
       "       [0., 1., 0., 0., 0.],\n",
       "       [0., 0., 1., 0., 0.],\n",
       "       [0., 0., 0., 1., 0.],\n",
       "       [0., 0., 0., 0., 1.]])"
      ]
     },
     "execution_count": 28,
     "metadata": {},
     "output_type": "execute_result"
    }
   ],
   "source": [
    "np.eye(5)"
   ]
  },
  {
   "cell_type": "code",
   "execution_count": null,
   "id": "57c2b448-4c59-49c8-ac2a-ff880186241c",
   "metadata": {},
   "outputs": [],
   "source": []
  }
 ],
 "metadata": {
  "kernelspec": {
   "display_name": "Python 3 (ipykernel)",
   "language": "python",
   "name": "python3"
  },
  "language_info": {
   "codemirror_mode": {
    "name": "ipython",
    "version": 3
   },
   "file_extension": ".py",
   "mimetype": "text/x-python",
   "name": "python",
   "nbconvert_exporter": "python",
   "pygments_lexer": "ipython3",
   "version": "3.10.8"
  }
 },
 "nbformat": 4,
 "nbformat_minor": 5
}
