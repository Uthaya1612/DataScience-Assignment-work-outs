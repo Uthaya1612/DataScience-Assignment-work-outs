{
 "cells": [
  {
   "cell_type": "markdown",
   "id": "c8dc56b5-7d13-4355-8304-e3bf8af797fb",
   "metadata": {},
   "source": [
    "Q1. List any five functions of the pandas library with execution.\n"
   ]
  },
  {
   "cell_type": "code",
   "execution_count": 1,
   "id": "17a9bbbe-940d-4229-8b07-2ec43b178639",
   "metadata": {},
   "outputs": [
    {
     "data": {
      "text/html": [
       "<div>\n",
       "<style scoped>\n",
       "    .dataframe tbody tr th:only-of-type {\n",
       "        vertical-align: middle;\n",
       "    }\n",
       "\n",
       "    .dataframe tbody tr th {\n",
       "        vertical-align: top;\n",
       "    }\n",
       "\n",
       "    .dataframe thead th {\n",
       "        text-align: right;\n",
       "    }\n",
       "</style>\n",
       "<table border=\"1\" class=\"dataframe\">\n",
       "  <thead>\n",
       "    <tr style=\"text-align: right;\">\n",
       "      <th></th>\n",
       "      <th>SNo</th>\n",
       "      <th>Country</th>\n",
       "      <th>Capital City</th>\n",
       "      <th>Notes</th>\n",
       "    </tr>\n",
       "  </thead>\n",
       "  <tbody>\n",
       "    <tr>\n",
       "      <th>0</th>\n",
       "      <td>1</td>\n",
       "      <td>United Arab Emirates</td>\n",
       "      <td>Abu Dhabi</td>\n",
       "      <td>NaN</td>\n",
       "    </tr>\n",
       "    <tr>\n",
       "      <th>1</th>\n",
       "      <td>2</td>\n",
       "      <td>Nigeria</td>\n",
       "      <td>Abuja</td>\n",
       "      <td>NaN</td>\n",
       "    </tr>\n",
       "    <tr>\n",
       "      <th>2</th>\n",
       "      <td>3</td>\n",
       "      <td>Ghana</td>\n",
       "      <td>Accra</td>\n",
       "      <td>NaN</td>\n",
       "    </tr>\n",
       "    <tr>\n",
       "      <th>3</th>\n",
       "      <td>4</td>\n",
       "      <td>Pitcairn Islands</td>\n",
       "      <td>Adamstown</td>\n",
       "      <td>British Overseas Territory</td>\n",
       "    </tr>\n",
       "    <tr>\n",
       "      <th>4</th>\n",
       "      <td>5</td>\n",
       "      <td>Ethiopia</td>\n",
       "      <td>Addis Ababa</td>\n",
       "      <td>NaN</td>\n",
       "    </tr>\n",
       "    <tr>\n",
       "      <th>...</th>\n",
       "      <td>...</td>\n",
       "      <td>...</td>\n",
       "      <td>...</td>\n",
       "      <td>...</td>\n",
       "    </tr>\n",
       "    <tr>\n",
       "      <th>258</th>\n",
       "      <td>244</td>\n",
       "      <td>Croatia</td>\n",
       "      <td>Zagreb</td>\n",
       "      <td>NaN</td>\n",
       "    </tr>\n",
       "    <tr>\n",
       "      <th>259</th>\n",
       "      <td>NaN</td>\n",
       "      <td>NaN</td>\n",
       "      <td>NaN</td>\n",
       "      <td>NaN</td>\n",
       "    </tr>\n",
       "    <tr>\n",
       "      <th>260</th>\n",
       "      <td>For other more formats kindly visit www.downlo...</td>\n",
       "      <td>NaN</td>\n",
       "      <td>NaN</td>\n",
       "      <td>NaN</td>\n",
       "    </tr>\n",
       "    <tr>\n",
       "      <th>261</th>\n",
       "      <td>NaN</td>\n",
       "      <td>NaN</td>\n",
       "      <td>NaN</td>\n",
       "      <td>NaN</td>\n",
       "    </tr>\n",
       "    <tr>\n",
       "      <th>262</th>\n",
       "      <td>Original source : en.wikipedia.org/wiki/List_o...</td>\n",
       "      <td>NaN</td>\n",
       "      <td>NaN</td>\n",
       "      <td>NaN</td>\n",
       "    </tr>\n",
       "  </tbody>\n",
       "</table>\n",
       "<p>263 rows × 4 columns</p>\n",
       "</div>"
      ],
      "text/plain": [
       "                                                   SNo                Country  \\\n",
       "0                                                    1   United Arab Emirates   \n",
       "1                                                    2                Nigeria   \n",
       "2                                                    3                  Ghana   \n",
       "3                                                    4       Pitcairn Islands   \n",
       "4                                                    5               Ethiopia   \n",
       "..                                                 ...                    ...   \n",
       "258                                                244                Croatia   \n",
       "259                                                NaN                    NaN   \n",
       "260  For other more formats kindly visit www.downlo...                    NaN   \n",
       "261                                                NaN                    NaN   \n",
       "262  Original source : en.wikipedia.org/wiki/List_o...                    NaN   \n",
       "\n",
       "    Capital City                       Notes  \n",
       "0      Abu Dhabi                         NaN  \n",
       "1          Abuja                         NaN  \n",
       "2          Accra                         NaN  \n",
       "3      Adamstown  British Overseas Territory  \n",
       "4    Addis Ababa                         NaN  \n",
       "..           ...                         ...  \n",
       "258       Zagreb                         NaN  \n",
       "259          NaN                         NaN  \n",
       "260          NaN                         NaN  \n",
       "261          NaN                         NaN  \n",
       "262          NaN                         NaN  \n",
       "\n",
       "[263 rows x 4 columns]"
      ]
     },
     "execution_count": 1,
     "metadata": {},
     "output_type": "execute_result"
    }
   ],
   "source": [
    "import pandas as pd\n",
    "pd.read_excel('list-national-capitals.xls')    # Reads the excel file and similarly can able to read CSV and other formats"
   ]
  },
  {
   "cell_type": "code",
   "execution_count": 2,
   "id": "4e7cb7bd-5085-4bf1-9676-fedcf23bafd9",
   "metadata": {},
   "outputs": [
    {
     "data": {
      "text/html": [
       "<div>\n",
       "<style scoped>\n",
       "    .dataframe tbody tr th:only-of-type {\n",
       "        vertical-align: middle;\n",
       "    }\n",
       "\n",
       "    .dataframe tbody tr th {\n",
       "        vertical-align: top;\n",
       "    }\n",
       "\n",
       "    .dataframe thead th {\n",
       "        text-align: right;\n",
       "    }\n",
       "</style>\n",
       "<table border=\"1\" class=\"dataframe\">\n",
       "  <thead>\n",
       "    <tr style=\"text-align: right;\">\n",
       "      <th></th>\n",
       "      <th>SNo</th>\n",
       "      <th>Country</th>\n",
       "      <th>Capital City</th>\n",
       "      <th>Notes</th>\n",
       "    </tr>\n",
       "  </thead>\n",
       "  <tbody>\n",
       "    <tr>\n",
       "      <th>count</th>\n",
       "      <td>246</td>\n",
       "      <td>244</td>\n",
       "      <td>259</td>\n",
       "      <td>62</td>\n",
       "    </tr>\n",
       "    <tr>\n",
       "      <th>unique</th>\n",
       "      <td>246</td>\n",
       "      <td>244</td>\n",
       "      <td>256</td>\n",
       "      <td>33</td>\n",
       "    </tr>\n",
       "    <tr>\n",
       "      <th>top</th>\n",
       "      <td>1</td>\n",
       "      <td>United Arab Emirates</td>\n",
       "      <td>Nicosia</td>\n",
       "      <td>British Overseas Territory</td>\n",
       "    </tr>\n",
       "    <tr>\n",
       "      <th>freq</th>\n",
       "      <td>1</td>\n",
       "      <td>1</td>\n",
       "      <td>2</td>\n",
       "      <td>10</td>\n",
       "    </tr>\n",
       "  </tbody>\n",
       "</table>\n",
       "</div>"
      ],
      "text/plain": [
       "        SNo                Country Capital City                       Notes\n",
       "count   246                    244          259                          62\n",
       "unique  246                    244          256                          33\n",
       "top       1   United Arab Emirates      Nicosia  British Overseas Territory\n",
       "freq      1                      1            2                          10"
      ]
     },
     "execution_count": 2,
     "metadata": {},
     "output_type": "execute_result"
    }
   ],
   "source": [
    "excel = pd.read_excel('list-national-capitals.xls')\n",
    "excel.describe()   # Gives the details description of the table"
   ]
  },
  {
   "cell_type": "code",
   "execution_count": 3,
   "id": "be6d9b1f-3b1e-4e4a-99bc-2bd2483db63a",
   "metadata": {},
   "outputs": [
    {
     "data": {
      "text/html": [
       "<div>\n",
       "<style scoped>\n",
       "    .dataframe tbody tr th:only-of-type {\n",
       "        vertical-align: middle;\n",
       "    }\n",
       "\n",
       "    .dataframe tbody tr th {\n",
       "        vertical-align: top;\n",
       "    }\n",
       "\n",
       "    .dataframe thead th {\n",
       "        text-align: right;\n",
       "    }\n",
       "</style>\n",
       "<table border=\"1\" class=\"dataframe\">\n",
       "  <thead>\n",
       "    <tr style=\"text-align: right;\">\n",
       "      <th></th>\n",
       "      <th>SNo</th>\n",
       "      <th>Country</th>\n",
       "      <th>Capital City</th>\n",
       "      <th>Notes</th>\n",
       "    </tr>\n",
       "  </thead>\n",
       "  <tbody>\n",
       "    <tr>\n",
       "      <th>0</th>\n",
       "      <td>1</td>\n",
       "      <td>United Arab Emirates</td>\n",
       "      <td>Abu Dhabi</td>\n",
       "      <td>NaN</td>\n",
       "    </tr>\n",
       "    <tr>\n",
       "      <th>1</th>\n",
       "      <td>2</td>\n",
       "      <td>Nigeria</td>\n",
       "      <td>Abuja</td>\n",
       "      <td>NaN</td>\n",
       "    </tr>\n",
       "    <tr>\n",
       "      <th>2</th>\n",
       "      <td>3</td>\n",
       "      <td>Ghana</td>\n",
       "      <td>Accra</td>\n",
       "      <td>NaN</td>\n",
       "    </tr>\n",
       "    <tr>\n",
       "      <th>3</th>\n",
       "      <td>4</td>\n",
       "      <td>Pitcairn Islands</td>\n",
       "      <td>Adamstown</td>\n",
       "      <td>British Overseas Territory</td>\n",
       "    </tr>\n",
       "    <tr>\n",
       "      <th>4</th>\n",
       "      <td>5</td>\n",
       "      <td>Ethiopia</td>\n",
       "      <td>Addis Ababa</td>\n",
       "      <td>NaN</td>\n",
       "    </tr>\n",
       "    <tr>\n",
       "      <th>5</th>\n",
       "      <td>6</td>\n",
       "      <td>Algeria</td>\n",
       "      <td>Algiers</td>\n",
       "      <td>NaN</td>\n",
       "    </tr>\n",
       "    <tr>\n",
       "      <th>6</th>\n",
       "      <td>7</td>\n",
       "      <td>Niue</td>\n",
       "      <td>Alofi</td>\n",
       "      <td>Self-governing in free association with New Ze...</td>\n",
       "    </tr>\n",
       "    <tr>\n",
       "      <th>7</th>\n",
       "      <td>8</td>\n",
       "      <td>Jordan</td>\n",
       "      <td>Amman</td>\n",
       "      <td>NaN</td>\n",
       "    </tr>\n",
       "    <tr>\n",
       "      <th>8</th>\n",
       "      <td>9</td>\n",
       "      <td>Netherlands</td>\n",
       "      <td>Amsterdam</td>\n",
       "      <td>The Dutch constitution refers to Amsterdam as ...</td>\n",
       "    </tr>\n",
       "    <tr>\n",
       "      <th>9</th>\n",
       "      <td>10</td>\n",
       "      <td>Andorra</td>\n",
       "      <td>Andorra la Vella</td>\n",
       "      <td>NaN</td>\n",
       "    </tr>\n",
       "  </tbody>\n",
       "</table>\n",
       "</div>"
      ],
      "text/plain": [
       "  SNo                Country      Capital City  \\\n",
       "0   1   United Arab Emirates         Abu Dhabi   \n",
       "1   2                Nigeria             Abuja   \n",
       "2   3                  Ghana             Accra   \n",
       "3   4       Pitcairn Islands         Adamstown   \n",
       "4   5               Ethiopia       Addis Ababa   \n",
       "5   6                Algeria           Algiers   \n",
       "6   7                   Niue             Alofi   \n",
       "7   8                 Jordan             Amman   \n",
       "8   9            Netherlands         Amsterdam   \n",
       "9  10                Andorra  Andorra la Vella   \n",
       "\n",
       "                                               Notes  \n",
       "0                                                NaN  \n",
       "1                                                NaN  \n",
       "2                                                NaN  \n",
       "3                         British Overseas Territory  \n",
       "4                                                NaN  \n",
       "5                                                NaN  \n",
       "6  Self-governing in free association with New Ze...  \n",
       "7                                                NaN  \n",
       "8  The Dutch constitution refers to Amsterdam as ...  \n",
       "9                                                NaN  "
      ]
     },
     "execution_count": 3,
     "metadata": {},
     "output_type": "execute_result"
    }
   ],
   "source": [
    "excel.head(10) #Reads the data of first 10 rows"
   ]
  },
  {
   "cell_type": "code",
   "execution_count": 4,
   "id": "856d152c-88a3-4a07-a6aa-8c5e5c0a21a3",
   "metadata": {},
   "outputs": [
    {
     "data": {
      "text/html": [
       "<div>\n",
       "<style scoped>\n",
       "    .dataframe tbody tr th:only-of-type {\n",
       "        vertical-align: middle;\n",
       "    }\n",
       "\n",
       "    .dataframe tbody tr th {\n",
       "        vertical-align: top;\n",
       "    }\n",
       "\n",
       "    .dataframe thead th {\n",
       "        text-align: right;\n",
       "    }\n",
       "</style>\n",
       "<table border=\"1\" class=\"dataframe\">\n",
       "  <thead>\n",
       "    <tr style=\"text-align: right;\">\n",
       "      <th></th>\n",
       "      <th>SNo</th>\n",
       "      <th>Country</th>\n",
       "      <th>Capital City</th>\n",
       "      <th>Notes</th>\n",
       "    </tr>\n",
       "  </thead>\n",
       "  <tbody>\n",
       "    <tr>\n",
       "      <th>253</th>\n",
       "      <td>240</td>\n",
       "      <td>Ivory Coast</td>\n",
       "      <td>Yamoussoukro (official)</td>\n",
       "      <td>NaN</td>\n",
       "    </tr>\n",
       "    <tr>\n",
       "      <th>254</th>\n",
       "      <td>NaN</td>\n",
       "      <td>NaN</td>\n",
       "      <td>Abidjan (former capital; still has many govern...</td>\n",
       "      <td>NaN</td>\n",
       "    </tr>\n",
       "    <tr>\n",
       "      <th>255</th>\n",
       "      <td>241</td>\n",
       "      <td>Cameroon</td>\n",
       "      <td>Yaoundé</td>\n",
       "      <td>NaN</td>\n",
       "    </tr>\n",
       "    <tr>\n",
       "      <th>256</th>\n",
       "      <td>242</td>\n",
       "      <td>Nauru</td>\n",
       "      <td>Yaren (de facto)</td>\n",
       "      <td>Country does not have an official capital; how...</td>\n",
       "    </tr>\n",
       "    <tr>\n",
       "      <th>257</th>\n",
       "      <td>243</td>\n",
       "      <td>Armenia</td>\n",
       "      <td>Yerevan</td>\n",
       "      <td>NaN</td>\n",
       "    </tr>\n",
       "    <tr>\n",
       "      <th>258</th>\n",
       "      <td>244</td>\n",
       "      <td>Croatia</td>\n",
       "      <td>Zagreb</td>\n",
       "      <td>NaN</td>\n",
       "    </tr>\n",
       "    <tr>\n",
       "      <th>259</th>\n",
       "      <td>NaN</td>\n",
       "      <td>NaN</td>\n",
       "      <td>NaN</td>\n",
       "      <td>NaN</td>\n",
       "    </tr>\n",
       "    <tr>\n",
       "      <th>260</th>\n",
       "      <td>For other more formats kindly visit www.downlo...</td>\n",
       "      <td>NaN</td>\n",
       "      <td>NaN</td>\n",
       "      <td>NaN</td>\n",
       "    </tr>\n",
       "    <tr>\n",
       "      <th>261</th>\n",
       "      <td>NaN</td>\n",
       "      <td>NaN</td>\n",
       "      <td>NaN</td>\n",
       "      <td>NaN</td>\n",
       "    </tr>\n",
       "    <tr>\n",
       "      <th>262</th>\n",
       "      <td>Original source : en.wikipedia.org/wiki/List_o...</td>\n",
       "      <td>NaN</td>\n",
       "      <td>NaN</td>\n",
       "      <td>NaN</td>\n",
       "    </tr>\n",
       "  </tbody>\n",
       "</table>\n",
       "</div>"
      ],
      "text/plain": [
       "                                                   SNo       Country  \\\n",
       "253                                                240   Ivory Coast   \n",
       "254                                                NaN           NaN   \n",
       "255                                                241      Cameroon   \n",
       "256                                                242         Nauru   \n",
       "257                                                243       Armenia   \n",
       "258                                                244       Croatia   \n",
       "259                                                NaN           NaN   \n",
       "260  For other more formats kindly visit www.downlo...           NaN   \n",
       "261                                                NaN           NaN   \n",
       "262  Original source : en.wikipedia.org/wiki/List_o...           NaN   \n",
       "\n",
       "                                          Capital City  \\\n",
       "253                            Yamoussoukro (official)   \n",
       "254  Abidjan (former capital; still has many govern...   \n",
       "255                                            Yaoundé   \n",
       "256                                   Yaren (de facto)   \n",
       "257                                            Yerevan   \n",
       "258                                             Zagreb   \n",
       "259                                                NaN   \n",
       "260                                                NaN   \n",
       "261                                                NaN   \n",
       "262                                                NaN   \n",
       "\n",
       "                                                 Notes  \n",
       "253                                                NaN  \n",
       "254                                                NaN  \n",
       "255                                                NaN  \n",
       "256  Country does not have an official capital; how...  \n",
       "257                                                NaN  \n",
       "258                                                NaN  \n",
       "259                                                NaN  \n",
       "260                                                NaN  \n",
       "261                                                NaN  \n",
       "262                                                NaN  "
      ]
     },
     "execution_count": 4,
     "metadata": {},
     "output_type": "execute_result"
    }
   ],
   "source": [
    "excel.tail(10)  #Reads the data of last 10 rows"
   ]
  },
  {
   "cell_type": "code",
   "execution_count": 5,
   "id": "2f5e292e-570b-4953-962a-4bd1125e3c5e",
   "metadata": {},
   "outputs": [
    {
     "data": {
      "text/plain": [
       "Index(['SNo', 'Country', 'Capital City', 'Notes'], dtype='object')"
      ]
     },
     "execution_count": 5,
     "metadata": {},
     "output_type": "execute_result"
    }
   ],
   "source": [
    " excel.columns # Gives the column name in the excel"
   ]
  },
  {
   "cell_type": "markdown",
   "id": "a7f98067-efa3-4930-ac2d-fbca92045292",
   "metadata": {},
   "source": [
    "Q2. Given a Pandas DataFrame df with columns 'A', 'B', and 'C', write a Python function to re-index the\n",
    "DataFrame with a new index that starts from 1 and increments by 2 for each row.\n"
   ]
  },
  {
   "cell_type": "code",
   "execution_count": 30,
   "id": "e852c767-c0df-4fd6-995d-35397086c138",
   "metadata": {},
   "outputs": [
    {
     "name": "stdout",
     "output_type": "stream",
     "text": [
      "             A   B        C\n",
      "1         Arun  25    covai\n",
      "3      Bharath  26  chennai\n",
      "5  chidambaram  27  tiruchi\n"
     ]
    }
   ],
   "source": [
    "Table = {\"A\":[\"Arun\",\"Bharath\",\"chidambaram\"],\"B\":[25,26,27],\"C\":[\"covai\",\"chennai\",\"tiruchi\"]}\n",
    "\n",
    "#a= pd.DataFrame(Table,index = [\"1\", \"3\", \"5\"])\n",
    "#print(a)\n",
    "def index_func(n):\n",
    "    x = 1\n",
    "    ls=[]\n",
    "    for i in range(0,n):\n",
    "        x = 2*i + 1\n",
    "        ls.append(x)\n",
    "    return ls\n",
    "    print(ls)\n",
    "a= pd.DataFrame(Table,index = index_func(3))\n",
    "print(a)\n",
    "\n"
   ]
  },
  {
   "cell_type": "markdown",
   "id": "e859a38a-9062-4725-bcce-bbd5e588f2bc",
   "metadata": {},
   "source": [
    "Q3. You have a Pandas DataFrame df with a column named 'Values'. Write a Python function that\n",
    "iterates over the DataFrame and calculates the sum of the first three values in the 'Values' column. The\n",
    "function should print the sum to the console.\n",
    "For example, if the 'Values' column of df contains the values [10, 20, 30, 40, 50], your function should\n",
    "calculate and print the sum of the first three values, which is 60.\n",
    "\n"
   ]
  },
  {
   "cell_type": "code",
   "execution_count": 26,
   "id": "21df056c-b267-4f42-b7fc-2e529683aa9a",
   "metadata": {},
   "outputs": [
    {
     "name": "stdout",
     "output_type": "stream",
     "text": [
      "The sum of first three values are  60\n"
     ]
    }
   ],
   "source": [
    "Table ={\"values\": [10, 20, 30, 40, 50]}\n",
    "b = pd.DataFrame(Table)\n",
    "\n",
    "print(\"The sum of first three values are  {}\".format(b['values'][0:3].sum()))\n"
   ]
  },
  {
   "cell_type": "markdown",
   "id": "96f9aa27-94d9-44e6-a7a0-69e30959fea0",
   "metadata": {},
   "source": [
    "Q4. Given a Pandas DataFrame df with a column 'Text', write a Python function to create a new column\n",
    "'Word_Count' that contains the number of words in each row of the 'Text' column.\n"
   ]
  },
  {
   "cell_type": "code",
   "execution_count": 9,
   "id": "ee635184-51cf-4166-9cbf-bd6bf5ce5897",
   "metadata": {},
   "outputs": [
    {
     "name": "stdout",
     "output_type": "stream",
     "text": [
      "        name  Word_count\n",
      "0       raju           4\n",
      "1       sita           4\n",
      "2        ram           3\n",
      "3  harikumar           9\n",
      "4  saravanan           9\n"
     ]
    }
   ],
   "source": [
    "Table1 ={\"name\": [\"raju\",\"sita\",\"ram\",\"harikumar\",\"saravanan\"]}\n",
    "b = pd.DataFrame(Table1)\n",
    "len(b[\"name\"])\n",
    "b[\"Word_count\"] = b['name'].apply(len)\n",
    "print(b)"
   ]
  },
  {
   "cell_type": "markdown",
   "id": "cd021c1f-8a41-4597-83af-df0bd42911de",
   "metadata": {},
   "source": [
    "Q5. How are DataFrame.size() and DataFrame.shape() different?\n"
   ]
  },
  {
   "cell_type": "markdown",
   "id": "fe434257-f12d-4a96-b160-836655cd11c5",
   "metadata": {},
   "source": [
    "DataFrame.size() - Returns size of dataframe/series which is equivalent to total number of elements. That is rows x columns.\n",
    "DataFrame.shape() - Returns tuple of shape (Rows, columns) of dataframe/series"
   ]
  },
  {
   "cell_type": "markdown",
   "id": "409b4c56-983e-41df-9a3f-f1e9d79ed431",
   "metadata": {},
   "source": [
    "Q6. Which function of pandas do we use to read an excel file?\n",
    "\n",
    "Ans6 : pandas.read_excel(\"name.xls\")\n"
   ]
  },
  {
   "cell_type": "markdown",
   "id": "01fc8498-0b29-46e4-818c-642d30097814",
   "metadata": {},
   "source": [
    "Q7. You have a Pandas DataFrame df that contains a column named 'Email' that contains email\n",
    "addresses in the format 'username@domain.com'. Write a Python function that creates a new column\n",
    "'Username' in df that contains only the username part of each email address.\n",
    "The username is the part of the email address that appears before the '@' symbol. For example, if the\n",
    "email address is 'john.doe@example.com', the 'Username' column should contain 'john.doe'. Your\n",
    "function should extract the username from each email address and store it in the new 'Username'\n",
    "column.\n",
    "\n"
   ]
  },
  {
   "cell_type": "code",
   "execution_count": 38,
   "id": "9c2fc52e-1ba4-48e2-bc8f-2c4325f7ce47",
   "metadata": {},
   "outputs": [
    {
     "name": "stdout",
     "output_type": "stream",
     "text": [
      "                  Email  username\n",
      "0  John.doe@example.com  John.doe\n",
      "1    sample@example.com    sample\n"
     ]
    }
   ],
   "source": [
    "a=pd.DataFrame({\"Email\":['John.doe@example.com','sample@example.com']})\n",
    "a[\"username\"]=a[\"Email\"].str.split(\"@\").str[0]\n",
    "print (a)"
   ]
  },
  {
   "cell_type": "markdown",
   "id": "003dcad8-8bb0-4b32-9b36-8a6f91e23489",
   "metadata": {},
   "source": [
    "Q8. You have a Pandas DataFrame df with columns 'A', 'B', and 'C'. Write a Python function that selects\n",
    "all rows where the value in column 'A' is greater than 5 and the value in column 'B' is less than 10. The\n",
    "function should return a new DataFrame that contains only the selected rows.\n",
    "For example, if df contains the following values:\n",
    "  A B C\n",
    "0 3 5 1\n",
    "1 8 2 7\n",
    "2 6 9 4\n",
    "3 2 3 5\n",
    "4 9 1 2"
   ]
  },
  {
   "cell_type": "code",
   "execution_count": 40,
   "id": "0fa62f39-c7eb-4674-b330-7c42eb97abb4",
   "metadata": {},
   "outputs": [],
   "source": [
    "b= pd.DataFrame({\"A\":[3,8,6,2,9],\n",
    "                 \"B\":[5,2,9,3,1],\n",
    "                 \"C\":[1,7,4,5,2]\n",
    "                })"
   ]
  },
  {
   "cell_type": "code",
   "execution_count": 54,
   "id": "97f706e4-e242-46cd-88ff-b771cbc4cddc",
   "metadata": {},
   "outputs": [
    {
     "data": {
      "text/html": [
       "<div>\n",
       "<style scoped>\n",
       "    .dataframe tbody tr th:only-of-type {\n",
       "        vertical-align: middle;\n",
       "    }\n",
       "\n",
       "    .dataframe tbody tr th {\n",
       "        vertical-align: top;\n",
       "    }\n",
       "\n",
       "    .dataframe thead th {\n",
       "        text-align: right;\n",
       "    }\n",
       "</style>\n",
       "<table border=\"1\" class=\"dataframe\">\n",
       "  <thead>\n",
       "    <tr style=\"text-align: right;\">\n",
       "      <th></th>\n",
       "      <th>A</th>\n",
       "      <th>B</th>\n",
       "      <th>C</th>\n",
       "    </tr>\n",
       "  </thead>\n",
       "  <tbody>\n",
       "    <tr>\n",
       "      <th>1</th>\n",
       "      <td>8</td>\n",
       "      <td>2</td>\n",
       "      <td>7</td>\n",
       "    </tr>\n",
       "    <tr>\n",
       "      <th>2</th>\n",
       "      <td>6</td>\n",
       "      <td>9</td>\n",
       "      <td>4</td>\n",
       "    </tr>\n",
       "    <tr>\n",
       "      <th>4</th>\n",
       "      <td>9</td>\n",
       "      <td>1</td>\n",
       "      <td>2</td>\n",
       "    </tr>\n",
       "  </tbody>\n",
       "</table>\n",
       "</div>"
      ],
      "text/plain": [
       "   A  B  C\n",
       "1  8  2  7\n",
       "2  6  9  4\n",
       "4  9  1  2"
      ]
     },
     "execution_count": 54,
     "metadata": {},
     "output_type": "execute_result"
    }
   ],
   "source": [
    "b[(b[\"A\"]>5) & (b[\"B\"]<10)]"
   ]
  },
  {
   "cell_type": "markdown",
   "id": "76e0219e-723e-4fc9-a784-49c87c29624b",
   "metadata": {},
   "source": [
    "Q9. Given a Pandas DataFrame df with a column 'Values', write a Python function to calculate the mean,\n",
    "median, and standard deviation of the values in the 'Values' column.\n"
   ]
  },
  {
   "cell_type": "code",
   "execution_count": 61,
   "id": "a17f1855-9db3-4c80-acf6-65f4ec3f2564",
   "metadata": {},
   "outputs": [
    {
     "name": "stdout",
     "output_type": "stream",
     "text": [
      "5.333333333333333\n",
      "5.5\n"
     ]
    },
    {
     "data": {
      "text/plain": [
       "2.160246899469287"
      ]
     },
     "execution_count": 61,
     "metadata": {},
     "output_type": "execute_result"
    }
   ],
   "source": [
    "df = pd.DataFrame({\"Values\":[2,4,5,6,7,8]})\n",
    "print(df[\"Values\"].mean())\n",
    "print(df[\"Values\"].median())\n",
    "df[\"Values\"].std()"
   ]
  },
  {
   "cell_type": "markdown",
   "id": "acbaf700-5eb3-4e5c-be43-d383504f2d4b",
   "metadata": {},
   "source": [
    "Q10. Given a Pandas DataFrame df with a column 'Sales' and a column 'Date', write a Python function to\n",
    "create a new column 'MovingAverage' that contains the moving average of the sales for the past 7 days\n",
    "for each row in the DataFrame. The moving average should be calculated using a window of size 7 and\n",
    "should include the current day.\n"
   ]
  },
  {
   "cell_type": "code",
   "execution_count": 76,
   "id": "0162123d-513e-4834-9318-152b929aa4b0",
   "metadata": {},
   "outputs": [
    {
     "name": "stdout",
     "output_type": "stream",
     "text": [
      "    Sales       Date  Moving_avg\n",
      "0     150 2023-02-24         NaN\n",
      "1     100 2023-02-25         NaN\n",
      "2     120 2023-02-26         NaN\n",
      "3     160 2023-02-27         NaN\n",
      "4     180 2023-02-28         NaN\n",
      "5     200 2023-03-01         NaN\n",
      "6     520 2023-03-02  204.285714\n",
      "7     260 2023-03-03  220.000000\n",
      "8     200 2023-03-04  234.285714\n",
      "9     100 2023-03-05  231.428571\n",
      "10    150 2023-03-06  230.000000\n"
     ]
    }
   ],
   "source": [
    "sales= [150,100,120,160,180,200,520,260,200,100,150]\n",
    "#date = pd.date_range(start='23-02-2023',end = '06-03-2023')\n",
    "data = pd.date_range(start = '2023-02-24' ,end = '2023-03-06')\n",
    "table = pd.DataFrame({\"Sales\":sales,\"Date\":data})\n",
    "table[\"Moving_avg\"]= table[\"Sales\"].rolling(window=7).mean()\n",
    "print (table)"
   ]
  },
  {
   "cell_type": "markdown",
   "id": "fbd700c7-13d6-4e91-854b-10a288afd2d4",
   "metadata": {},
   "source": [
    "Q11. You have a Pandas DataFrame df with a column 'Date'. Write a Python function that creates a new\n",
    "column 'Weekday' in the DataFrame. The 'Weekday' column should contain the weekday name (e.g.\n",
    "Monday, Tuesday) corresponding to each date in the 'Date' column.\n",
    "For example, if df contains the following values:\n",
    "Date\n",
    "0 2023-01-01\n",
    "1 2023-01-02\n",
    "2 2023-01-03\n",
    "3 2023-01-04\n",
    "4 2023-01-05\n",
    "Your function should create the following DataFrame:\n",
    "\n",
    "Date Weekday\n",
    "0 2023-01-01 Sunday\n",
    "1 2023-01-02 Monday\n",
    "2 2023-01-03 Tuesday\n",
    "3 2023-01-04 Wednesday\n",
    "4 2023-01-05 Thursday\n",
    "The function should return the modified DataFrame.\n",
    "\n",
    "\n"
   ]
  },
  {
   "cell_type": "code",
   "execution_count": 78,
   "id": "2049fcaa-0f72-403f-876b-6904f0eba4fe",
   "metadata": {},
   "outputs": [
    {
     "name": "stdout",
     "output_type": "stream",
     "text": [
      "    Sales       Date  Moving_avg    weekday\n",
      "0     150 2023-02-24         NaN     Friday\n",
      "1     100 2023-02-25         NaN   Saturday\n",
      "2     120 2023-02-26         NaN     Sunday\n",
      "3     160 2023-02-27         NaN     Monday\n",
      "4     180 2023-02-28         NaN    Tuesday\n",
      "5     200 2023-03-01         NaN  Wednesday\n",
      "6     520 2023-03-02  204.285714   Thursday\n",
      "7     260 2023-03-03  220.000000     Friday\n",
      "8     200 2023-03-04  234.285714   Saturday\n",
      "9     100 2023-03-05  231.428571     Sunday\n",
      "10    150 2023-03-06  230.000000     Monday\n"
     ]
    }
   ],
   "source": [
    "table[\"weekday\"]=table[\"Date\"].dt.day_name()\n",
    "print (table)"
   ]
  },
  {
   "cell_type": "markdown",
   "id": "de19642b-5ce2-4b87-ba5d-dd200997d5d8",
   "metadata": {},
   "source": [
    "Q12. Given a Pandas DataFrame df with a column 'Date' that contains timestamps, write a Python\n",
    "function to select all rows where the date is between '2023-01-01' and '2023-01-31'.\n"
   ]
  },
  {
   "cell_type": "code",
   "execution_count": 87,
   "id": "fa42e330-1d21-4e5d-ad9e-9acf6eb1a8fc",
   "metadata": {},
   "outputs": [
    {
     "data": {
      "text/html": [
       "<div>\n",
       "<style scoped>\n",
       "    .dataframe tbody tr th:only-of-type {\n",
       "        vertical-align: middle;\n",
       "    }\n",
       "\n",
       "    .dataframe tbody tr th {\n",
       "        vertical-align: top;\n",
       "    }\n",
       "\n",
       "    .dataframe thead th {\n",
       "        text-align: right;\n",
       "    }\n",
       "</style>\n",
       "<table border=\"1\" class=\"dataframe\">\n",
       "  <thead>\n",
       "    <tr style=\"text-align: right;\">\n",
       "      <th></th>\n",
       "      <th>Date</th>\n",
       "    </tr>\n",
       "  </thead>\n",
       "  <tbody>\n",
       "    <tr>\n",
       "      <th>8</th>\n",
       "      <td>2023-01-01</td>\n",
       "    </tr>\n",
       "    <tr>\n",
       "      <th>9</th>\n",
       "      <td>2023-01-02</td>\n",
       "    </tr>\n",
       "    <tr>\n",
       "      <th>10</th>\n",
       "      <td>2023-01-03</td>\n",
       "    </tr>\n",
       "    <tr>\n",
       "      <th>11</th>\n",
       "      <td>2023-01-04</td>\n",
       "    </tr>\n",
       "    <tr>\n",
       "      <th>12</th>\n",
       "      <td>2023-01-05</td>\n",
       "    </tr>\n",
       "    <tr>\n",
       "      <th>13</th>\n",
       "      <td>2023-01-06</td>\n",
       "    </tr>\n",
       "    <tr>\n",
       "      <th>14</th>\n",
       "      <td>2023-01-07</td>\n",
       "    </tr>\n",
       "    <tr>\n",
       "      <th>15</th>\n",
       "      <td>2023-01-08</td>\n",
       "    </tr>\n",
       "    <tr>\n",
       "      <th>16</th>\n",
       "      <td>2023-01-09</td>\n",
       "    </tr>\n",
       "    <tr>\n",
       "      <th>17</th>\n",
       "      <td>2023-01-10</td>\n",
       "    </tr>\n",
       "    <tr>\n",
       "      <th>18</th>\n",
       "      <td>2023-01-11</td>\n",
       "    </tr>\n",
       "    <tr>\n",
       "      <th>19</th>\n",
       "      <td>2023-01-12</td>\n",
       "    </tr>\n",
       "    <tr>\n",
       "      <th>20</th>\n",
       "      <td>2023-01-13</td>\n",
       "    </tr>\n",
       "    <tr>\n",
       "      <th>21</th>\n",
       "      <td>2023-01-14</td>\n",
       "    </tr>\n",
       "    <tr>\n",
       "      <th>22</th>\n",
       "      <td>2023-01-15</td>\n",
       "    </tr>\n",
       "    <tr>\n",
       "      <th>23</th>\n",
       "      <td>2023-01-16</td>\n",
       "    </tr>\n",
       "    <tr>\n",
       "      <th>24</th>\n",
       "      <td>2023-01-17</td>\n",
       "    </tr>\n",
       "    <tr>\n",
       "      <th>25</th>\n",
       "      <td>2023-01-18</td>\n",
       "    </tr>\n",
       "    <tr>\n",
       "      <th>26</th>\n",
       "      <td>2023-01-19</td>\n",
       "    </tr>\n",
       "    <tr>\n",
       "      <th>27</th>\n",
       "      <td>2023-01-20</td>\n",
       "    </tr>\n",
       "    <tr>\n",
       "      <th>28</th>\n",
       "      <td>2023-01-21</td>\n",
       "    </tr>\n",
       "    <tr>\n",
       "      <th>29</th>\n",
       "      <td>2023-01-22</td>\n",
       "    </tr>\n",
       "    <tr>\n",
       "      <th>30</th>\n",
       "      <td>2023-01-23</td>\n",
       "    </tr>\n",
       "    <tr>\n",
       "      <th>31</th>\n",
       "      <td>2023-01-24</td>\n",
       "    </tr>\n",
       "    <tr>\n",
       "      <th>32</th>\n",
       "      <td>2023-01-25</td>\n",
       "    </tr>\n",
       "    <tr>\n",
       "      <th>33</th>\n",
       "      <td>2023-01-26</td>\n",
       "    </tr>\n",
       "    <tr>\n",
       "      <th>34</th>\n",
       "      <td>2023-01-27</td>\n",
       "    </tr>\n",
       "    <tr>\n",
       "      <th>35</th>\n",
       "      <td>2023-01-28</td>\n",
       "    </tr>\n",
       "    <tr>\n",
       "      <th>36</th>\n",
       "      <td>2023-01-29</td>\n",
       "    </tr>\n",
       "    <tr>\n",
       "      <th>37</th>\n",
       "      <td>2023-01-30</td>\n",
       "    </tr>\n",
       "  </tbody>\n",
       "</table>\n",
       "</div>"
      ],
      "text/plain": [
       "         Date\n",
       "8  2023-01-01\n",
       "9  2023-01-02\n",
       "10 2023-01-03\n",
       "11 2023-01-04\n",
       "12 2023-01-05\n",
       "13 2023-01-06\n",
       "14 2023-01-07\n",
       "15 2023-01-08\n",
       "16 2023-01-09\n",
       "17 2023-01-10\n",
       "18 2023-01-11\n",
       "19 2023-01-12\n",
       "20 2023-01-13\n",
       "21 2023-01-14\n",
       "22 2023-01-15\n",
       "23 2023-01-16\n",
       "24 2023-01-17\n",
       "25 2023-01-18\n",
       "26 2023-01-19\n",
       "27 2023-01-20\n",
       "28 2023-01-21\n",
       "29 2023-01-22\n",
       "30 2023-01-23\n",
       "31 2023-01-24\n",
       "32 2023-01-25\n",
       "33 2023-01-26\n",
       "34 2023-01-27\n",
       "35 2023-01-28\n",
       "36 2023-01-29\n",
       "37 2023-01-30"
      ]
     },
     "execution_count": 87,
     "metadata": {},
     "output_type": "execute_result"
    }
   ],
   "source": [
    "date2 = pd.date_range(start = '2022-12-24' ,end = '2023-02-06')\n",
    "a= pd.DataFrame({'Date':date2})\n",
    "a[(a[\"Date\"]>\"2022-12-31\")&(a[\"Date\"]<\"2023-01-31\")]"
   ]
  },
  {
   "cell_type": "markdown",
   "id": "2060d241-be28-45fa-99f2-a623bb9c3a36",
   "metadata": {},
   "source": [
    "Q13. To use the basic functions of pandas, what is the first and foremost necessary library that needs to\n",
    "be imported?"
   ]
  },
  {
   "cell_type": "markdown",
   "id": "e82f48e4-e6ae-4336-8a81-148c883c9c5d",
   "metadata": {},
   "source": [
    "We need to import pandas library initially to do all the basic functions in pandas\n",
    "mport pandas as name"
   ]
  },
  {
   "cell_type": "code",
   "execution_count": null,
   "id": "4b4342e0-5abd-4d27-aafd-a57f65685952",
   "metadata": {},
   "outputs": [],
   "source": []
  }
 ],
 "metadata": {
  "kernelspec": {
   "display_name": "Python 3 (ipykernel)",
   "language": "python",
   "name": "python3"
  },
  "language_info": {
   "codemirror_mode": {
    "name": "ipython",
    "version": 3
   },
   "file_extension": ".py",
   "mimetype": "text/x-python",
   "name": "python",
   "nbconvert_exporter": "python",
   "pygments_lexer": "ipython3",
   "version": "3.10.8"
  }
 },
 "nbformat": 4,
 "nbformat_minor": 5
}
