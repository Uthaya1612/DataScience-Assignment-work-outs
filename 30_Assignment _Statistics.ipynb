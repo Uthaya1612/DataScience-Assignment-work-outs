{
 "cells": [
  {
   "cell_type": "markdown",
   "id": "4a9ec5b6-2445-40ef-9bde-b1b377e3a9f8",
   "metadata": {},
   "source": [
    "Q1. What is Statistics?\n"
   ]
  },
  {
   "cell_type": "markdown",
   "id": "49f4f2c4-0116-4f07-8c1e-e99dbfd2e4da",
   "metadata": {},
   "source": [
    "Statistics is the science that deals with collecting, analyzing, interpreting and presenting empirical data for prediction,trend analysis etc."
   ]
  },
  {
   "cell_type": "markdown",
   "id": "469ee807-314a-470d-98c7-3485fe4a2736",
   "metadata": {},
   "source": [
    "Q2. Define the different types of statistics and give an example of when each type might be used.\n"
   ]
  },
  {
   "cell_type": "markdown",
   "id": "532e432c-b044-4b3d-bcde-42c67d0f62d8",
   "metadata": {},
   "source": [
    "1.Descriptive statistics: It deals with collection,organisation and summarization of the data collected from the source.\n",
    "2.Inferential Statistics : It deals with the interpretation of the collected data to form a conclusion."
   ]
  },
  {
   "cell_type": "markdown",
   "id": "7de6cbbd-e8d9-4c78-a9f0-16bc0ec19584",
   "metadata": {},
   "source": [
    "Q3. What are the different types of data and how do they differ from each other? Provide an example of\n",
    "each type of data.\n",
    "\n"
   ]
  },
  {
   "cell_type": "markdown",
   "id": "8039e3a4-6073-4a0f-b765-855d4d735479",
   "metadata": {},
   "source": [
    "Data is generally classified into 2 types :\n",
    "    1.Quantitative data - It generally denotes the numerical data that are tend to be measured.\n",
    "    2.Qualitative data - It generally denotes categorical data that are not numerical in nature.\n",
    "    \n",
    "Further \n",
    "Quantitative is divided into \n",
    "1. Discrete data - Whole numbers(not zero)\n",
    "2. Continuous data - Any values (zero,negative,positive)\n",
    "Qualitative is divided into \n",
    "1. Nominal data - Does not able to priortize or rank the data.\n",
    "2. Ordinal data - Able to rank the data"
   ]
  },
  {
   "cell_type": "markdown",
   "id": "5b6940c3-1d0f-432f-aede-c4b12ae260c4",
   "metadata": {},
   "source": [
    "Q4. Categorise the following datasets with respect to quantitative and qualitative data types:\n",
    "(i) Grading in exam: A+, A, B+, B, C+, C, D, E\n",
    "(ii) Colour of mangoes: yellow, green, orange, red\n",
    "(iii) Height data of a class: [178.9, 179, 179.5, 176, 177.2, 178.3, 175.8,...]\n",
    "(iv) Number of mangoes exported by a farm: [500, 600, 478, 672, ...]"
   ]
  },
  {
   "cell_type": "markdown",
   "id": "4e7aed43-6d7f-409c-b146-c2b5419ac71b",
   "metadata": {},
   "source": [
    "(i) Grading in exam: A+, A, B+, B, C+, C, D, E   - Qualitative data\n",
    "(ii) Colour of mangoes: yellow, green, orange, red - Qualitative data\n",
    "(iii) Height data of a class: [178.9, 179, 179.5, 176, 177.2, 178.3, 175.8,...] - Quantitative data\n",
    "(iv) Number of mangoes exported by a farm: [500, 600, 478, 672, ...]  - Qunatitative data"
   ]
  },
  {
   "cell_type": "markdown",
   "id": "a9de97e3-6b6c-4828-88c1-1cf4f6a817cd",
   "metadata": {},
   "source": [
    "Q5. Explain the concept of levels of measurement and give an example of a variable for each level.\n"
   ]
  },
  {
   "cell_type": "markdown",
   "id": "2dd4304a-4a68-4b9c-b931-20cc16806c2f",
   "metadata": {},
   "source": [
    "Levels of measuremen or scales of measurement, tells you how precisely variables are recorded.\n",
    "\n",
    "There are 4 levels of measurement:\n",
    "\n",
    "Nominal: the data can only be categorized (Ex - Gender,color)\n",
    "\n",
    "Ordinal: the data can be categorized and ranked but we cant say the difference between each. (Ex - Top three winners in the running race. Here we cant say the time interval between each one)\n",
    "\n",
    "Interval: the data can be categorized, ranked, and evenly spaced but does not have true zero.(Ex- temperature in the room)\n",
    "\n",
    "Ratio: the data can be categorized, ranked, evenly spaced, and has a natural zero. (Ex -In the Kelvin temperature scale, there are no negative degrees of temperature – zero means an absolute lack of thermal energy.)"
   ]
  },
  {
   "cell_type": "markdown",
   "id": "73cc2924-ae67-42fd-a1bc-bf8c33502c1c",
   "metadata": {},
   "source": [
    "Q6. Why is it important to understand the level of measurement when analyzing data? Provide an\n",
    "example to illustrate your answer.\n"
   ]
  },
  {
   "cell_type": "markdown",
   "id": "b65c0811-be4b-48aa-88cc-e53a14a1b536",
   "metadata": {},
   "source": [
    "The level at which you measure a variable determines how you can analyze your data.\n",
    "\n",
    "We have situation where we ask employees to represent their salary range in the bucket list of \n",
    "1.Below 1 lakh\n",
    "2.1 lakh to 3 lakh\n",
    "3.3 lakh to 5 lakh\n",
    "4.Above 5 lakh\n",
    "\n",
    "With this we can able to analysis only the no of people under each salary range. we will not able to say their salary difference between them."
   ]
  },
  {
   "cell_type": "markdown",
   "id": "d1e49bc5-843d-494c-9c82-4834490dbc01",
   "metadata": {},
   "source": [
    "Q7. How nominal data type is different from ordinal data type.\n"
   ]
  },
  {
   "cell_type": "markdown",
   "id": "7e142ac2-63e7-491f-a729-c8dd5734e8ef",
   "metadata": {},
   "source": [
    "Nominal data involves naming or identifying data; Ordinal data involves placing information into an order."
   ]
  },
  {
   "cell_type": "markdown",
   "id": "6a9dbad2-fb74-472f-a05d-ecbd379426c0",
   "metadata": {},
   "source": [
    "Q8. Which type of plot can be used to display data in terms of range?\n"
   ]
  },
  {
   "cell_type": "markdown",
   "id": "789b7b0d-b1c9-4cf1-8fe6-fd4075bfb519",
   "metadata": {},
   "source": [
    "Bar plot can be used to display the data in terms of range"
   ]
  },
  {
   "cell_type": "markdown",
   "id": "4c57e217-377b-4915-bf5a-4ab4c9a30b64",
   "metadata": {},
   "source": [
    "Q9. Describe the difference between descriptive and inferential statistics. Give an example of each\n",
    "type of statistics and explain how they are used.\n"
   ]
  },
  {
   "cell_type": "markdown",
   "id": "a1d0e9b0-850b-46c4-afc1-a3e6a1d9f2ce",
   "metadata": {},
   "source": [
    "1.Descriptive statistics: It deals with collection,organisation and summarization of the data collected from the source. \n",
    "Example: Suppose 1,000 students at a certain school all take the same test. We are interested in understanding the distribution of test scores, so we use the mean,median,mode, graphs to understand it.\n",
    "\n",
    "2.Inferential Statistics : It deals with the interpretation of the collected data to form a conclusion for the large population.For example, we might be predicting  the political preferences of millions of people in a country by considering a small sample of random set of people."
   ]
  },
  {
   "cell_type": "markdown",
   "id": "17922d41-31a9-4168-8e48-6168d2447dcd",
   "metadata": {},
   "source": [
    "Q10. What are some common measures of central tendency and variability used in statistics? Explain\n",
    "how each measure can be used to describe a dataset."
   ]
  },
  {
   "cell_type": "markdown",
   "id": "309ac0db-7751-482b-bbf8-1551cd729172",
   "metadata": {},
   "source": [
    "There are three fundamental statistics that measure the central tendency of data: \n",
    "1.Mean - Average of all data\n",
    "2.Median - Middle value of the set arranged in ascending order.\n",
    "3.Mode - Most repeating element in the list."
   ]
  }
 ],
 "metadata": {
  "kernelspec": {
   "display_name": "Python 3 (ipykernel)",
   "language": "python",
   "name": "python3"
  },
  "language_info": {
   "codemirror_mode": {
    "name": "ipython",
    "version": 3
   },
   "file_extension": ".py",
   "mimetype": "text/x-python",
   "name": "python",
   "nbconvert_exporter": "python",
   "pygments_lexer": "ipython3",
   "version": "3.10.8"
  }
 },
 "nbformat": 4,
 "nbformat_minor": 5
}
