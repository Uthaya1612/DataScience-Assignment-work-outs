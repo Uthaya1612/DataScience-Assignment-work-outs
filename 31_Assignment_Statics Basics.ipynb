{
 "cells": [
  {
   "cell_type": "markdown",
   "id": "4c8e5ec0-793a-450a-87bf-d1c69930dd21",
   "metadata": {},
   "source": [
    "Q1. What are the three measures of central tendency?\n"
   ]
  },
  {
   "cell_type": "markdown",
   "id": "0f655b21-b965-47b8-b296-844e944d4caa",
   "metadata": {},
   "source": [
    "Mean , Median and Mode"
   ]
  },
  {
   "cell_type": "markdown",
   "id": "6cb3bae3-96ae-4049-a81e-e49e7f025c22",
   "metadata": {},
   "source": [
    "Q2. What is the difference between the mean, median, and mode? How are they used to measure the\n",
    "central tendency of a dataset?\n"
   ]
  },
  {
   "cell_type": "markdown",
   "id": "6493c83c-a942-40cc-9908-3fa2fac16454",
   "metadata": {},
   "source": [
    "1.Mean - Average of all data\n",
    "2.Median - Middle value of the set arranged in ascending order.\n",
    "3.Mode - Most repeating element in the list."
   ]
  },
  {
   "cell_type": "markdown",
   "id": "c13bc3ec-d58c-4f20-8466-e62d3627b0e8",
   "metadata": {},
   "source": [
    "Q3. Measure the three measures of central tendency for the given height data:\n",
    "[178,177,176,177,178.2,178,175,179,180,175,178.9,176.2,177,172.5,178,176.5]\n"
   ]
  },
  {
   "cell_type": "code",
   "execution_count": 10,
   "id": "46f38538-aaaa-4b23-8a1c-d0700451904f",
   "metadata": {},
   "outputs": [
    {
     "name": "stdout",
     "output_type": "stream",
     "text": [
      "Mean.. 177.01875\n",
      "Median... 177.0\n",
      "Mode... ModeResult(mode=array([177.]), count=array([3]))\n"
     ]
    },
    {
     "name": "stderr",
     "output_type": "stream",
     "text": [
      "/tmp/ipykernel_1106/131080096.py:7: FutureWarning: Unlike other reduction functions (e.g. `skew`, `kurtosis`), the default behavior of `mode` typically preserves the axis it acts along. In SciPy 1.11.0, this behavior will change: the default value of `keepdims` will become False, the `axis` over which the statistic is taken will be eliminated, and the value None will no longer be accepted. Set `keepdims` to True or False to avoid this warning.\n",
      "  print(\"Mode...\",stats.mode(List1))\n"
     ]
    }
   ],
   "source": [
    "import numpy as np\n",
    "from scipy import stats\n",
    "List1 = [178,177,176,177,178.2,178,175,179,180,175,178.9,176.2,177,172.5,178,176.5]\n",
    "type(List1)\n",
    "print(\"Mean..\",np.mean(List1))\n",
    "print(\"Median...\",np.median(List1))\n",
    "print(\"Mode...\",stats.mode(List1))"
   ]
  },
  {
   "cell_type": "markdown",
   "id": "7491dd32-de25-4edc-8cd7-bcdde6b5c64e",
   "metadata": {},
   "source": [
    "Q4. Find the standard deviation for the given data:\n",
    "[178,177,176,177,178.2,178,175,179,180,175,178.9,176.2,177,172.5,178,176.5]\n"
   ]
  },
  {
   "cell_type": "code",
   "execution_count": 11,
   "id": "e711edb0-e553-4f1e-91bf-8abf0c9104ca",
   "metadata": {},
   "outputs": [
    {
     "data": {
      "text/plain": [
       "1.7885814036548633"
      ]
     },
     "execution_count": 11,
     "metadata": {},
     "output_type": "execute_result"
    }
   ],
   "source": [
    "np.std(List1)"
   ]
  },
  {
   "cell_type": "markdown",
   "id": "379c7b8e-c514-40e0-bf79-2b7df4fa9c96",
   "metadata": {},
   "source": [
    "Q5. How are measures of dispersion such as range, variance, and standard deviation used to describe\n",
    "the spread of a dataset? Provide an example.\n"
   ]
  },
  {
   "cell_type": "markdown",
   "id": "9cf64edf-1697-44f7-b570-78087ff5d535",
   "metadata": {},
   "source": [
    "The term “dispersion” refers to how dispersed a set of data is.\n",
    "The range of the data is given as the difference between the maximum and the minimum values of the observations in the data.\n",
    "The variance of the data is given by measuring the distance of the observed values from the mean of the distribution.\n",
    "In the calculation of variance, notice that the units of the variance and the unit of the observations are not the same. So, to remove this problem, we define standard deviation\n",
    "\n",
    "So here all the parameters such as range,variance,standard deviation talks about spread of data."
   ]
  },
  {
   "cell_type": "markdown",
   "id": "884617af-cc8d-4ed4-a441-e8a51c36bb03",
   "metadata": {},
   "source": [
    "Q6. What is a Venn diagram?\n"
   ]
  },
  {
   "cell_type": "markdown",
   "id": "71f2390c-2ec2-4213-b06a-3a039fa2bf48",
   "metadata": {},
   "source": [
    "A Venn diagram is a diagram that helps us visualize the logical relationship between sets and their elements and helps us solve examples based on these sets. "
   ]
  },
  {
   "cell_type": "markdown",
   "id": "fb8217a0-9678-47e2-8698-592bd067b0d5",
   "metadata": {},
   "source": [
    "Q7. For the two given sets A = (2,3,4,5,6,7) & B = (0,2,6,8,10). Find:\n",
    "(i) A Intersection B\n",
    "(ii) A ⋃ B\n"
   ]
  },
  {
   "cell_type": "markdown",
   "id": "f729f6eb-12f6-48b8-8661-79d004edef67",
   "metadata": {},
   "source": [
    "(i) A Intersection B - (2,6)\n",
    "(ii) A ⋃ B           - (0,2,3,4,5,6,7,8,10)"
   ]
  },
  {
   "cell_type": "markdown",
   "id": "254a3ec3-ebd0-42c7-8329-6f8d4b0cbed5",
   "metadata": {},
   "source": [
    "Q8. What do you understand about skewness in data?\n"
   ]
  },
  {
   "cell_type": "markdown",
   "id": "4820e386-eda5-4b81-9da7-95735e0e0b62",
   "metadata": {},
   "source": [
    "Skewness is a measurement of the distortion of symmetrical distribution or asymmetry in a data set. If the bell curve is shifted to the left or the right, it is said to be skewed."
   ]
  },
  {
   "cell_type": "markdown",
   "id": "9646d1cd-ac75-4132-b0df-70bc05289193",
   "metadata": {},
   "source": [
    "Q9. If a data is right skewed then what will be the position of median with respect to mean?\n"
   ]
  },
  {
   "cell_type": "markdown",
   "id": "09f1bda9-e57a-4400-9bd2-5f3efb99fb1c",
   "metadata": {},
   "source": [
    "If the data is right skewed then the mean value will be higher than median. This means first Median will come in the right skewed curve followed by mean value."
   ]
  },
  {
   "cell_type": "markdown",
   "id": "8cdd1a9f-d595-4da2-bcb2-6e8e6b6346ab",
   "metadata": {},
   "source": [
    "Q10. Explain the difference between covariance and correlation. How are these measures used in\n",
    "statistical analysis?\n"
   ]
  },
  {
   "cell_type": "markdown",
   "id": "7fa72698-4da6-4f1d-b12f-32ffefc5dbab",
   "metadata": {},
   "source": [
    "Covariance is a measure which shows the extent to which two random variables change in tandem. Correlation gives the indication of how variables are related.\n",
    "Both concepts describe the relationship between two variables."
   ]
  },
  {
   "cell_type": "markdown",
   "id": "c3331a13-dc5f-418e-95e5-9b79d384c15c",
   "metadata": {},
   "source": [
    "Q11. What is the formula for calculating the sample mean? Provide an example calculation for a\n",
    "dataset.\n"
   ]
  },
  {
   "cell_type": "markdown",
   "id": "80c2806c-99b5-4b06-bb10-8e0f203a92cc",
   "metadata": {},
   "source": [
    "Sample mean is calculated by the summation of the sample data divided by the number of samples.\n",
    "A= (2,3,4,5,6)\n",
    "Then Mean is 20/5 = 4"
   ]
  },
  {
   "cell_type": "markdown",
   "id": "668a32b0-bcd2-4d5c-9807-3617343e6047",
   "metadata": {},
   "source": [
    "Q12. For a normal distribution data what is the relationship between its measure of central tendency?\n"
   ]
  },
  {
   "cell_type": "markdown",
   "id": "63add691-c37d-4af7-b07e-2a92dcf566de",
   "metadata": {},
   "source": [
    "Any normal distribution has a graph that is perfectly symmetric about a vertical line through its peak. Therefore, all measures of central tendency mean,median, mode are same."
   ]
  },
  {
   "cell_type": "markdown",
   "id": "61844c22-0a89-4703-a07a-43d0d90a74d2",
   "metadata": {},
   "source": [
    "Q13. How is covariance different from correlation?\n"
   ]
  },
  {
   "cell_type": "markdown",
   "id": "3fac2247-a071-44e6-9b20-9b00fe77a106",
   "metadata": {},
   "source": [
    "Covariance is the measure of corelation whereas corelation is the scaled version of covariance.\n",
    "Corelation has the limit of -1 to +1 where as covariance is -infinity to +infinity."
   ]
  },
  {
   "cell_type": "markdown",
   "id": "6f415a58-7ac0-4ed8-9554-5e1eea7382b9",
   "metadata": {},
   "source": [
    "Q14. How do outliers affect measures of central tendency and dispersion? Provide an example."
   ]
  },
  {
   "cell_type": "markdown",
   "id": "0b08364f-3f7a-47c0-8867-6ea703b01f88",
   "metadata": {},
   "source": [
    "When a outlier is present in a data set, it can effect the shape of the graph, if we have outliers to the right of the graph. These outliers are causing the mean to increase, but if we have outliers to the left of the graph these outliers are dragging down the mean. This causes a conflict because the mean and it is no longer provides a good representation of the data, alternatively we would much rather use the median. The median on the other hand is less likely to be affect by outliers."
   ]
  }
 ],
 "metadata": {
  "kernelspec": {
   "display_name": "Python 3 (ipykernel)",
   "language": "python",
   "name": "python3"
  },
  "language_info": {
   "codemirror_mode": {
    "name": "ipython",
    "version": 3
   },
   "file_extension": ".py",
   "mimetype": "text/x-python",
   "name": "python",
   "nbconvert_exporter": "python",
   "pygments_lexer": "ipython3",
   "version": "3.10.8"
  }
 },
 "nbformat": 4,
 "nbformat_minor": 5
}
