{
 "cells": [
  {
   "cell_type": "markdown",
   "id": "ebcdae89-1812-4358-82de-a533bb553520",
   "metadata": {},
   "source": [
    "Q1. What is an API? Give an example, where an API is used in real life.\n"
   ]
  },
  {
   "cell_type": "markdown",
   "id": "b2fe10a1-ff98-4b0b-8777-ff39862bf141",
   "metadata": {},
   "source": [
    "Application Programming Interface (API) is a software interface that allows two applications to interact with each other without any user intervention.\n",
    "\n",
    "Example- We are going to the movie site, where we enter our movie, name, and credit card information, and behold, our print out tickets.\n",
    "\n",
    "Here the tickete application are collaborating with other applications. This integration is called “seamless,” as you never have a clue when a software role is passed from one application to another."
   ]
  },
  {
   "cell_type": "markdown",
   "id": "cec2b92a-ae24-42a8-8894-4066614620ac",
   "metadata": {},
   "source": [
    "Q2. Give advantages and disadvantages of using API.\n"
   ]
  },
  {
   "cell_type": "markdown",
   "id": "3a3eb809-df32-4839-aaef-1332c9b69338",
   "metadata": {},
   "source": [
    "Advantages:\n",
    "        1. API helps two different software’s to communicate and exchange data with each other.\n",
    "        2. It helps you to embed content from any site or application more efficiently.\n",
    "        3.It allows the user or a company to customize the content and services which they use the most.\n",
    "        4.Software needs to change over time, and APIs help to anticipate changes.\n",
    "        \n",
    "Disadvantages:\n",
    "        1.As a single point of entry, an API is a gateway and can become a hacker's primary target.\n",
    "        2.Once the API is compromised, all other applications and systems become vulnerable.\n",
    "        3.APIs are vulnerable to man-in-the-middle attacks, SQL injection, and DDoS attacks."
   ]
  },
  {
   "cell_type": "markdown",
   "id": "26e46ef9-b9ac-4a24-9707-511c98db270b",
   "metadata": {},
   "source": [
    "Q3. What is a Web API? Differentiate between API and Web API.\n"
   ]
  },
  {
   "cell_type": "markdown",
   "id": "7f60f24c-e31c-4b42-a173-7033d60bcbce",
   "metadata": {},
   "source": [
    "A Web API is an application programming interface which is use either for web server or a web browser.\n",
    "\n",
    "To be more simple, API is some kind of interface which has a set of functions that allow programmers to access specific features or data of an application, operating system or other services.\n",
    "\n",
    "Web API as the name suggests, is an API over the web which can be accessed using HTTP protocol."
   ]
  },
  {
   "cell_type": "markdown",
   "id": "5759e07a-5863-473f-8fbc-e95bf0dc2a8d",
   "metadata": {},
   "source": [
    "Q4. Explain REST and SOAP Architecture. Mention shortcomings of SOAP.\n",
    "\n",
    "REST - (Representational State Transfer) is an architectural style that doesn’t follow any strict standard but follows six constraints defined by Roy Fielding in 2000. Those constraints are – Uniform Interface, Client-Server, Stateless, Cacheable, Layered System, Code on Demand..It works with GET, POST, PUT, DELETE. Works over HTTP and HTTPS.\n",
    "\n",
    "SOAP - (Simple Object Access Protocol) is a protocol, it follows a strict standard to allow communication between the client and the server \n",
    "\n",
    "\n",
    "Shortcomings of SOAP:\n",
    "1.Transports data only in standard XML format.\n",
    "\n",
    "2.Highly structured/typed,designed with large enterprise applications in mind"
   ]
  },
  {
   "cell_type": "markdown",
   "id": "32f1fb20-4d25-4b4f-a83d-b1d651e7cc6b",
   "metadata": {},
   "source": [
    "Q5. Differentiate between REST and SOAP."
   ]
  },
  {
   "cell_type": "markdown",
   "id": "d2809627-bbce-4c50-9fd0-92ea4c7266e3",
   "metadata": {},
   "source": [
    "SOAP API:\n",
    "    1.Relies on SOAP (Simple Object Access Protocol)\t\n",
    "    2.Transports data in standard XML format.\t.\n",
    "    3.Because it is XML based and relies on SOAP, it works with WSDL\t\n",
    "    4.Works over HTTP, HTTPS, SMTP, XMPP\t\n",
    "    5.Highly structured/typed data.\n",
    "\n",
    "\n",
    "\n",
    "REST API:\n",
    "    1.Relies on REST (Representational State Transfer) architecture using HTTP.\n",
    "    2.Generally transports data in JSON. It is based on URI. Because REST follows stateless model, REST does not enforces message format as XML or JSON etc\n",
    "    3.It works with GET, POST, PUT, DELETE\n",
    "    4.Works over HTTP and HTTPS\n",
    "    5.Less structured -> less bulky data\n"
   ]
  }
 ],
 "metadata": {
  "kernelspec": {
   "display_name": "Python 3 (ipykernel)",
   "language": "python",
   "name": "python3"
  },
  "language_info": {
   "codemirror_mode": {
    "name": "ipython",
    "version": 3
   },
   "file_extension": ".py",
   "mimetype": "text/x-python",
   "name": "python",
   "nbconvert_exporter": "python",
   "pygments_lexer": "ipython3",
   "version": "3.10.8"
  }
 },
 "nbformat": 4,
 "nbformat_minor": 5
}
