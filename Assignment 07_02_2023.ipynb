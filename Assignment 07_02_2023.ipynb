{
 "cells": [
  {
   "cell_type": "code",
   "execution_count": 32,
   "id": "ada13170-7e51-4462-aa61-3cadd0947f4f",
   "metadata": {},
   "outputs": [
    {
     "name": "stdin",
     "output_type": "stream",
     "text": [
      "Enter your password.... UUkk@#$1236\n"
     ]
    },
    {
     "name": "stdout",
     "output_type": "stream",
     "text": [
      "Valid Password....  Password set successfully....\n",
      " Your password contains...Upcase 2 Lowcase 2 Specialcase 3 Number4\n"
     ]
    }
   ],
   "source": [
    "a = input(\"Enter your password....\")\n",
    "Up_case = 0\n",
    "low_case = 0\n",
    "special_case =0\n",
    "num =0\n",
    "for i in a:\n",
    "    if(i.isupper()):\n",
    "        Up_case = Up_case+1\n",
    "    elif(i.islower()):\n",
    "        low_case = low_case+1   \n",
    "    elif(i.isnumeric()):\n",
    "        num = num+1\n",
    "    elif(i.isascii()):\n",
    "        special_case = special_case+1\n",
    "    else:\n",
    "        print(i)\n",
    "if ((Up_case >=2) and (low_case >=2) and (special_case >=3) and (num >=1) and (len(a) >10)):\n",
    "    print(\"Valid Password....  Password set successfully....\")\n",
    "else:\n",
    "    print(\"InValid Password.... \\n 1. The Password should contain at least two uppercase letters and at least two lowercase letters. \\n 2. The Password should contain at least a number and three special characters.\\n 3. The length of the password should be 10 characters long.\")\n",
    "print(\" Your password contains...Upcase {} Lowcase {} Specialcase {} Number{}\".format(Up_case,low_case,special_case,num))\n"
   ]
  },
  {
   "cell_type": "markdown",
   "id": "feb26288-2126-42cc-a8b2-46d6a90f9d16",
   "metadata": {},
   "source": [
    "1.Check if the string starts with a particular letter\n",
    "2.Check if the string is numeric\n",
    "3. Sort a list of tuples having fruit names and their quantity. [(\"mango\",99),(\"orange\",80), (\"grapes\", 1000)]\n",
    "4.Find the squares of numbers from 1 to 10\n",
    "5. Find the cube root of numbers from 1 to 10\n",
    "6. Check if a given number is even\n",
    "7.Filter odd numbers from the given list.\n",
    "[1,2,3,4,5,6,7,8,9,10-\n",
    "8. Sort a list of integers into positive and negative integers lists.\n",
    "[1,2,3,4,5,6,-1,-2,-3,-4,-5,0]"
   ]
  },
  {
   "cell_type": "code",
   "execution_count": 57,
   "id": "6521d7e8-33fc-4f69-a3b3-2d16603dd0fa",
   "metadata": {},
   "outputs": [
    {
     "name": "stdin",
     "output_type": "stream",
     "text": [
      "enter the string.. Ukk\n",
      "enter the letter to check that the string startwith... U\n"
     ]
    },
    {
     "data": {
      "text/plain": [
       "['Yes. Your string starts with U']"
      ]
     },
     "execution_count": 57,
     "metadata": {},
     "output_type": "execute_result"
    }
   ],
   "source": [
    "a = input(\"enter the string..\")\n",
    "b = input(\"enter the letter to check that the string startwith...\")\n",
    "\n",
    "[(\"Yes. Your string starts with {}\".format(b)) if (a.startswith(b)) else \"No Your string not starts with {}\".format(b)\"]\n",
    "\n",
    "\n",
    "    "
   ]
  },
  {
   "cell_type": "code",
   "execution_count": 59,
   "id": "486d3976-5a60-4d12-a01c-1692b57411d4",
   "metadata": {},
   "outputs": [
    {
     "name": "stdin",
     "output_type": "stream",
     "text": [
      "enter the string.. uk120\n"
     ]
    },
    {
     "data": {
      "text/plain": [
       "['No... Your string is not numeric']"
      ]
     },
     "execution_count": 59,
     "metadata": {},
     "output_type": "execute_result"
    }
   ],
   "source": [
    "a = input(\"enter the string..\")\n",
    "[\"Yes... Your string is numeric\" if (a.isnumeric()) else \"No... Your string is not numeric\"]"
   ]
  },
  {
   "cell_type": "code",
   "execution_count": 68,
   "id": "d0319459-3ce7-4207-9b0a-37c125207d47",
   "metadata": {},
   "outputs": [
    {
     "name": "stdout",
     "output_type": "stream",
     "text": [
      "[('grapes', 1000), ('mango', 99), ('orange', 80)]\n"
     ]
    }
   ],
   "source": [
    "Lst1 =[(\"mango\",99),(\"orange\",80), (\"grapes\", 1000)]\n",
    "Sorting = lambda x: x.sort(reverse=False)\n",
    "Sorting(Lst1)\n",
    "print (Lst1)"
   ]
  },
  {
   "cell_type": "code",
   "execution_count": 72,
   "id": "03f63ac7-5849-4bcd-8c52-27ba5429d2be",
   "metadata": {},
   "outputs": [
    {
     "data": {
      "text/plain": [
       "[1, 4, 9, 16, 25, 36, 49, 64, 81]"
      ]
     },
     "execution_count": 72,
     "metadata": {},
     "output_type": "execute_result"
    }
   ],
   "source": [
    "list(map(lambda x: x*x,range (1,10)))"
   ]
  },
  {
   "cell_type": "code",
   "execution_count": 73,
   "id": "26592a3e-46ab-466c-9d97-e29e659608cb",
   "metadata": {},
   "outputs": [
    {
     "data": {
      "text/plain": [
       "[1, 8, 27, 64, 125, 216, 343, 512, 729]"
      ]
     },
     "execution_count": 73,
     "metadata": {},
     "output_type": "execute_result"
    }
   ],
   "source": [
    "list(map(lambda x: x**3,range (1,10)))"
   ]
  },
  {
   "cell_type": "code",
   "execution_count": 77,
   "id": "dca73e30-08d1-45d3-b7f4-5976ba46bd4a",
   "metadata": {},
   "outputs": [
    {
     "name": "stdin",
     "output_type": "stream",
     "text": [
      "Enter the numbr... 6\n"
     ]
    },
    {
     "data": {
      "text/plain": [
       "['Even']"
      ]
     },
     "execution_count": 77,
     "metadata": {},
     "output_type": "execute_result"
    }
   ],
   "source": [
    "a =int(input(\"Enter the numbr...\"))\n",
    "[\"Even\" if(a % 2 ==0) else \"odd\"]"
   ]
  },
  {
   "cell_type": "code",
   "execution_count": 79,
   "id": "d4f92e09-f952-4405-a6c0-ff89437f2b47",
   "metadata": {},
   "outputs": [
    {
     "data": {
      "text/plain": [
       "[1, 3, 5, 7, 9]"
      ]
     },
     "execution_count": 79,
     "metadata": {},
     "output_type": "execute_result"
    }
   ],
   "source": [
    "lst1 = [1,2,3,4,5,6,7,8,9,10]\n",
    "list(filter(lambda x: x%2 !=0 , lst1))"
   ]
  },
  {
   "cell_type": "code",
   "execution_count": 84,
   "id": "17f6d3ec-f9c3-4a1b-803a-ad687db8d66b",
   "metadata": {},
   "outputs": [
    {
     "name": "stdout",
     "output_type": "stream",
     "text": [
      "Positive interger [1, 2, 3, 4, 5, 6, 0]\n",
      "Negative interger [-1, -2, -3, -4, -5]\n"
     ]
    }
   ],
   "source": [
    "list1 = [1,2,3,4,5,6,-1,-2,-3,-4,-5,0]\n",
    "print(\"Positive interger {}\".format(list(filter(lambda x: x>=0 , list1))))\n",
    "print(\"Negative interger {}\".format(list(filter(lambda x: x<0 , list1))))"
   ]
  },
  {
   "cell_type": "code",
   "execution_count": null,
   "id": "c983d21a-f12e-4aad-88fc-38756fba087a",
   "metadata": {},
   "outputs": [],
   "source": []
  }
 ],
 "metadata": {
  "kernelspec": {
   "display_name": "Python 3 (ipykernel)",
   "language": "python",
   "name": "python3"
  },
  "language_info": {
   "codemirror_mode": {
    "name": "ipython",
    "version": 3
   },
   "file_extension": ".py",
   "mimetype": "text/x-python",
   "name": "python",
   "nbconvert_exporter": "python",
   "pygments_lexer": "ipython3",
   "version": "3.10.8"
  }
 },
 "nbformat": 4,
 "nbformat_minor": 5
}
