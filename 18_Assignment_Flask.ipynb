{
 "cells": [
  {
   "cell_type": "markdown",
   "id": "4ffd7ca4-0d2d-4f85-970d-df1e91bfedd7",
   "metadata": {},
   "source": [
    "Q1. What is Flask Framework? What are the advantages of Flask Framework?\n"
   ]
  },
  {
   "cell_type": "markdown",
   "id": "7970d2ed-5b1d-4695-834c-8da784db2b6d",
   "metadata": {},
   "source": [
    "Flask is a web framework. Flask allows you to build a web application by providing tools, libraries, and technologies. This web application will be a web page, a wiki, or a big web-based calendar application or commercial website. \n",
    "Flask is classified into a micro-framework that means it has little to no dependencies on external libraries. \n",
    "\n",
    "Advantages of Flask:\n",
    "It includes that there are little dependencies to upgrade and to watch security bugs.\n",
    "Flask is extremely simple to deploy in production.\n",
    "Functionality for managing HTTP requests\n",
    "The high degree of adaptability"
   ]
  },
  {
   "cell_type": "markdown",
   "id": "dbc18af8-46eb-443d-beff-75576a449ca1",
   "metadata": {},
   "source": [
    "Q2. Create a simple Flask application to display ‘Hello World!!’. Attach the screenshot of the output in\n",
    "Jupyter Notebook.\n"
   ]
  },
  {
   "cell_type": "markdown",
   "id": "46eca9dd-8444-4268-b969-307694506acb",
   "metadata": {},
   "source": [
    "from flask import Flask\n",
    "from flask import request\n",
    "from IPython.display import Image\n",
    "app = Flask(__name__)\n",
    "\n",
    "@app.route(\"/\")\n",
    "def hello_world():\n",
    "    return \"<h1>Hello, World222!</h1>\"\n",
    "    "
   ]
  },
  {
   "cell_type": "markdown",
   "id": "a63bb8b7-7338-403f-b18a-0a39f548fe2d",
   "metadata": {},
   "source": [
    "Q3. What is App routing in Flask? Why do we use app routes?\n"
   ]
  },
  {
   "cell_type": "markdown",
   "id": "ad75a5b1-0cfa-4fd7-9551-d11ced2f8d1b",
   "metadata": {},
   "source": [
    "App Routing means mapping the URLs to a specific function that will handle the logic for that URL.\n",
    "\n",
    "App routing technique helps a user remember application URLs and is useful to access the desired page directly without having to navigate from the home page."
   ]
  },
  {
   "cell_type": "markdown",
   "id": "27062df7-4dc5-4abd-87fa-05cb08ca2d05",
   "metadata": {},
   "source": [
    "Q4. Create a “/welcome” route to display the welcome message “Welcome to ABC Corporation” and a “/”\n",
    "route to show the following details:\n",
    "Company Name: ABC Corporation\n",
    "Location: India\n",
    "Contact Detail: 999-999-9999\n",
    "Attach the screenshot of the output in Jupyter Notebook.\n"
   ]
  },
  {
   "cell_type": "markdown",
   "id": "00f13bb8-65c0-4d98-a7d0-4b7811a9bfb7",
   "metadata": {},
   "source": [
    "from flask import Flask\n",
    "from flask import request\n",
    "app = Flask(__name__)\n",
    "\n",
    "@app.route(\"/\")\n",
    "def hello_world():\n",
    "    return \"<h1>Company Name: ABC Corporation</h1>\\n <h1>Location: India</h1> \\n <h1>Contact Detail: 999-999-9999</h1>\"\n",
    "   \n",
    "\n",
    "@app.route(\"/welcome\")\n",
    "def hello_world1():\n",
    "    return \"<h1>Welcome to ABC Corporation</h1>\"\n",
    "\n",
    "if __name__==\"__main__\":\n",
    "    app.run(host=\"0.0.0.0\")"
   ]
  },
  {
   "cell_type": "markdown",
   "id": "9085b30d-15bf-46d8-8640-57393f0e8996",
   "metadata": {},
   "source": [
    "Q5. What function is used in Flask for URL Building? Write a Python code to demonstrate the working of the\n",
    "url_for() function."
   ]
  },
  {
   "cell_type": "markdown",
   "id": "c606f281-592f-49d6-8618-a0898939dd82",
   "metadata": {},
   "source": [
    "For building URLs in flask, we use the url_for() function."
   ]
  },
  {
   "cell_type": "markdown",
   "id": "885470b9-93c2-40e9-81c1-062a2e8c89ca",
   "metadata": {},
   "source": [
    "from flask import Flask,redirect, url_for\n",
    "from flask import request\n",
    "\n",
    "\n",
    "app = Flask(__name__)\n",
    "\n",
    "@app.route('/admin')\n",
    "def hello_admin():\n",
    "   return 'Hello Admin'\n",
    "\n",
    "@app.route('/guest/<guest>')\n",
    "def hello_guest(guest):\n",
    "   return 'Hello %s as Guest' % guest\n",
    "\n",
    "@app.route('/user/<name>')\n",
    "def hello_user(name):\n",
    "   if name =='admin':\n",
    "      return redirect(url_for('hello_admin'))\n",
    "   else:\n",
    "      return redirect(url_for('hello_guest',guest = name))\n",
    "\n",
    "if __name__==\"__main__\":\n",
    "    app.run(host=\"0.0.0.0\")"
   ]
  },
  {
   "cell_type": "code",
   "execution_count": null,
   "id": "4a927818-4148-4ceb-99c8-8e45e7b214aa",
   "metadata": {},
   "outputs": [],
   "source": []
  }
 ],
 "metadata": {
  "kernelspec": {
   "display_name": "Python 3 (ipykernel)",
   "language": "python",
   "name": "python3"
  },
  "language_info": {
   "codemirror_mode": {
    "name": "ipython",
    "version": 3
   },
   "file_extension": ".py",
   "mimetype": "text/x-python",
   "name": "python",
   "nbconvert_exporter": "python",
   "pygments_lexer": "ipython3",
   "version": "3.10.8"
  }
 },
 "nbformat": 4,
 "nbformat_minor": 5
}
