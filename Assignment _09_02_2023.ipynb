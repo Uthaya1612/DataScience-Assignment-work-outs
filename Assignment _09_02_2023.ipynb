{
 "cells": [
  {
   "cell_type": "code",
   "execution_count": 89,
   "id": "3f4a5e0c-d540-42ca-8e13-45f1bdc64429",
   "metadata": {},
   "outputs": [
    {
     "name": "stdout",
     "output_type": "stream",
     "text": [
      "The vechicle belongs to Hatch_back\n",
      "The vechicle has 5 seating capacity\n"
     ]
    }
   ],
   "source": [
    "class Vechicle_Class:\n",
    "    \n",
    "    def __init__(self,vechicle_name,max_speed,average_of_vechicle):\n",
    "        self.vechicle_name = vechicle_name\n",
    "        self.max_speed = max_speed\n",
    "        self.average_of_vechicle = average_of_vechicle\n",
    "        \n",
    "    def return_details(self):\n",
    "        return self.vechicle_name,self.max_speed,self.average_of_vechicle\n",
    "    \n",
    "class car(Vechicle_Class):\n",
    "      \n",
    "    def seating_capacity(self,capacity):\n",
    "        print(\"The vechicle belongs to {}\".format(self.vechicle_name))\n",
    "        print(\"The vechicle has %d seating capacity\" % (capacity)) \n",
    "\n",
    "\n",
    "car_class = car(\"Hatch_back\",\"120 rpm\", 80)\n",
    "#car_class.seating_capacity()\n",
    "car_class.seating_capacity(5) \n"
   ]
  },
  {
   "cell_type": "markdown",
   "id": "89ac1934-9d72-4bca-be38-d75ff94a6348",
   "metadata": {},
   "source": [
    "Multiple inheritance is defined as class that inherits the property from two or more than two classes."
   ]
  },
  {
   "cell_type": "code",
   "execution_count": 111,
   "id": "bd210d59-5336-45e7-b45e-083099f03a48",
   "metadata": {},
   "outputs": [],
   "source": [
    "class Studentname:\n",
    "\n",
    "    def __init__(cls,studentname = \"vijay\"):\n",
    "        cls.studentname = studentname\n",
    "        print(studentname)\n",
    "        \n",
    "class studentID():\n",
    "    def __init__(self,studentid = \"1265\"):\n",
    "        self.studentid = studentid\n",
    "        print(studentid)\n",
    "        \n",
    "class studentdetails(Studentname,studentID):\n",
    "    def __init__(self):\n",
    "        Studentname.__init__(self)\n",
    "        studentID.__init__(self)\n",
    "        print(\"deriver\")\n",
    "    def returndetails(self):\n",
    "            return (self.studentname,self.studentid)"
   ]
  },
  {
   "cell_type": "code",
   "execution_count": 112,
   "id": "f0987fb6-964b-4b0c-a284-37cffbd1beaf",
   "metadata": {},
   "outputs": [
    {
     "name": "stdout",
     "output_type": "stream",
     "text": [
      "vijay\n",
      "1265\n",
      "deriver\n"
     ]
    },
    {
     "data": {
      "text/plain": [
       "('vijay', '1265')"
      ]
     },
     "execution_count": 112,
     "metadata": {},
     "output_type": "execute_result"
    }
   ],
   "source": [
    "#name = Studentname(\"UK\")\n",
    "#ID = Studentname(\"1265\")\n",
    "details = studentdetails()\n",
    "details.returndetails()"
   ]
  },
  {
   "cell_type": "markdown",
   "id": "be602ba9-6112-4c82-89f4-02c44b8f5ce0",
   "metadata": {},
   "source": [
    "Getter and setter in python are built in property functions that are used to access private or protected variables.\n",
    "Getter and setter are generally used for encapsulation purpose in python.\n"
   ]
  },
  {
   "cell_type": "code",
   "execution_count": 142,
   "id": "517c5c52-da22-4cd3-920b-742b58a9a092",
   "metadata": {},
   "outputs": [],
   "source": [
    "class School:    \n",
    "    def __init__(self, school_id, school_name):\n",
    "        self.__school_id =  school_id\n",
    "        self.school_name = school_name\n",
    "        \n",
    "    @property\n",
    "    def school_id_access(self):\n",
    "        return self.__school_id\n",
    "    \n",
    "    @school_id_access.setter\n",
    "    def school_id_set(self ,newid):\n",
    "        self.__school_id = newid\n",
    "        "
   ]
  },
  {
   "cell_type": "code",
   "execution_count": 143,
   "id": "2d479679-b8ee-40f9-9d65-4c1f496b73d2",
   "metadata": {},
   "outputs": [],
   "source": [
    "schooldetails=School(126,\"Vidyothaya\")\n"
   ]
  },
  {
   "cell_type": "code",
   "execution_count": 144,
   "id": "81c16251-7bed-4b3e-b10a-61c315778807",
   "metadata": {},
   "outputs": [
    {
     "data": {
      "text/plain": [
       "126"
      ]
     },
     "execution_count": 144,
     "metadata": {},
     "output_type": "execute_result"
    }
   ],
   "source": [
    "schooldetails.school_id_access"
   ]
  },
  {
   "cell_type": "code",
   "execution_count": 145,
   "id": "41d52c91-7966-47f8-92f3-c66b458382db",
   "metadata": {},
   "outputs": [],
   "source": [
    "schooldetails.school_id_set = 135"
   ]
  },
  {
   "cell_type": "code",
   "execution_count": 146,
   "id": "1508942e-3bee-45bf-a01e-7fa0ad439256",
   "metadata": {},
   "outputs": [
    {
     "data": {
      "text/plain": [
       "135"
      ]
     },
     "execution_count": 146,
     "metadata": {},
     "output_type": "execute_result"
    }
   ],
   "source": [
    "schooldetails.school_id_access"
   ]
  },
  {
   "cell_type": "markdown",
   "id": "6396781b-7007-4e26-842e-917cdb10c331",
   "metadata": {},
   "source": [
    "Suppose a method is defined in a base class and when we define same named method in the derived class derived from that base class, then it is called Method Overriding."
   ]
  },
  {
   "cell_type": "code",
   "execution_count": 147,
   "id": "2938dead-72e7-4663-8500-85e1b64b1f16",
   "metadata": {},
   "outputs": [],
   "source": [
    "class Baseclass:\n",
    "    def details(self):\n",
    "        print(\"method is called from Base class\")\n",
    "        \n",
    "class Deriverclass(Baseclass):            \n",
    "    def details(self):\n",
    "        print(\"method is called from derived class\")"
   ]
  },
  {
   "cell_type": "code",
   "execution_count": 150,
   "id": "6f4cd3f2-7302-46fe-abf8-b4e373822606",
   "metadata": {},
   "outputs": [
    {
     "name": "stdout",
     "output_type": "stream",
     "text": [
      "method is called from Base class\n",
      "method is called from derived class\n"
     ]
    }
   ],
   "source": [
    "base1=Baseclass()\n",
    "base1.details()\n",
    "derived1=Deriverclass()\n",
    "derived1.details()"
   ]
  },
  {
   "cell_type": "code",
   "execution_count": null,
   "id": "79a5258c-3bbf-4217-b95e-a14898254ed7",
   "metadata": {},
   "outputs": [],
   "source": []
  },
  {
   "cell_type": "code",
   "execution_count": null,
   "id": "e25cd3dc-d6fa-48ee-ad9f-77316e707c26",
   "metadata": {},
   "outputs": [],
   "source": []
  }
 ],
 "metadata": {
  "kernelspec": {
   "display_name": "Python 3 (ipykernel)",
   "language": "python",
   "name": "python3"
  },
  "language_info": {
   "codemirror_mode": {
    "name": "ipython",
    "version": 3
   },
   "file_extension": ".py",
   "mimetype": "text/x-python",
   "name": "python",
   "nbconvert_exporter": "python",
   "pygments_lexer": "ipython3",
   "version": "3.10.8"
  }
 },
 "nbformat": 4,
 "nbformat_minor": 5
}
