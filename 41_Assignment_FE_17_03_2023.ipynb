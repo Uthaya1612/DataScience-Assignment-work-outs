{
 "cells": [
  {
   "cell_type": "markdown",
   "id": "9b9822a1-730d-4daa-af0f-8c31dc29d9d7",
   "metadata": {},
   "source": [
    "Q1: What are missing values in a dataset? Why is it essential to handle missing values? Name some \n",
    "algorithms that are not affected by missing values."
   ]
  },
  {
   "cell_type": "markdown",
   "id": "7533e75e-e346-4f37-a850-c03494d5d876",
   "metadata": {},
   "source": [
    "When the data sets have few empty/vacant spaces inbetween the filled datasets they are caled missing values.\n",
    "It is essential to handle the missing values as it will lead to wrong output prediction, High Bias, model failures\n",
    "\n",
    "Decision trees are one among multiple algorithms that are least affected with missing values. Simply ignoring the missing values or treating the missing values as another category "
   ]
  },
  {
   "cell_type": "markdown",
   "id": "ae1c0d85-7fed-4e6d-a709-e081077d3518",
   "metadata": {},
   "source": [
    "Q2: List down techniques used to handle missing data.  Give an example of each with python code."
   ]
  },
  {
   "cell_type": "markdown",
   "id": "f0fa8858-f254-46e0-8cf0-c7b170055a7c",
   "metadata": {},
   "source": [
    "Data Dropping - Dropping the rowa or columns that has missing data. - dropna()\n",
    "\n",
    "Mean/Median Imputation - Mean and median imputations are respectively used to replace missing values of a given column with the mean and median of the non-missing values in that column. \n",
    "\n",
    "Random Sample Imputation - First, it starts by creating two subsets from the original data. \n",
    "The first subset contains all the observations without missing data, and the second one contains those with missing data. \n",
    "Then, it randomly selects from each subset a random observation.\n",
    "Furthermore, the missing data from the previously selected observation is replaced with the existing ones from the observation having all the data available.\n",
    "Finally, the process continues until there is no more missing information."
   ]
  },
  {
   "cell_type": "markdown",
   "id": "98f9fad9-d37e-4f73-a78f-68283a82add0",
   "metadata": {},
   "source": [
    "Q3: Explain the imbalanced data. What will happen if imbalanced data is not handled?"
   ]
  },
  {
   "cell_type": "markdown",
   "id": "fa11dbfc-7431-4224-8100-9bc62224e1bc",
   "metadata": {},
   "source": [
    "Imbalanced data refers to those types of datasets where the target class has an uneven distribution of observations, i.e one class label has a very high number of observations and the other has a very low number of observations.\n",
    "\n",
    "If the imbalanced data is not handled properly it will leads to biased results towards majority votes."
   ]
  },
  {
   "cell_type": "markdown",
   "id": "d86bab95-8794-4648-b630-9c1c889ef29d",
   "metadata": {},
   "source": [
    "Q4: What are Up-sampling and Down-sampling? Explain with an example when up-sampling and down sampling are required."
   ]
  },
  {
   "cell_type": "markdown",
   "id": "3b931544-f7dd-4d27-b446-fad5735ab42e",
   "metadata": {},
   "source": [
    "When we are using an imbalanced dataset, we can oversample the minority class using replacement. This technique is called oversampling. \n",
    "Similarly, we can randomly delete rows from the majority class to match them with the minority class which is called undersampling. "
   ]
  },
  {
   "cell_type": "markdown",
   "id": "7bf5fc7f-1775-457c-ae37-468eecddcffa",
   "metadata": {},
   "source": [
    "Q5: What is data Augmentation? Explain SMOTE."
   ]
  },
  {
   "cell_type": "markdown",
   "id": "284cba8a-686e-46a0-9ca7-8a0aba19de3b",
   "metadata": {},
   "source": [
    "Data augmentation is a set of techniques to artificially increase the amount of data by creating modified sets of existing data.\n",
    "\n",
    "Synthetic Minority Oversampling Technique or SMOTE is another technique to oversample the minority class. Simply adding duplicate records of minority class often don’t add any new information to the model. In SMOTE new instances are synthesized from the existing data."
   ]
  },
  {
   "cell_type": "markdown",
   "id": "60a36cae-fdcb-46c5-a038-8585124e52a3",
   "metadata": {},
   "source": [
    "Q6: What are outliers in a dataset? Why is it essential to handle outliers?"
   ]
  },
  {
   "cell_type": "markdown",
   "id": "ace61e97-6d2c-40d7-82fb-35876a2c2988",
   "metadata": {},
   "source": [
    "Outliers are extreme values that differ from most other data points in a dataset. They can have a big impact on statistical analyses and skew the results of hypothesis tests. They will shift the central data to any one side from the true value, if it not effectively handled."
   ]
  },
  {
   "cell_type": "markdown",
   "id": "a54aed43-e5ee-4f9d-a189-f73c0747b02b",
   "metadata": {},
   "source": [
    "Q7: You are working on a project that requires analyzing customer data. However, you notice that some of \n",
    "the data is missing. What are some techniques you can use to handle the missing data in your analysis?"
   ]
  },
  {
   "cell_type": "markdown",
   "id": "62a0d9e1-1c55-4217-943b-3283f993ea86",
   "metadata": {},
   "source": [
    "Data Dropping\n",
    "Mean/Median Imputation\n",
    "Random Sample Imputation \n",
    "Multiple imputation"
   ]
  },
  {
   "cell_type": "markdown",
   "id": "efa2e826-cfb5-4188-a8fc-a6c23211e3c0",
   "metadata": {},
   "source": [
    "Q8: You are working with a large dataset and find that a small percentage of the data is missing. What are \n",
    "some strategies you can use to determine if the missing data is missing at random or if there is a pattern \n",
    "to the missing data?"
   ]
  },
  {
   "cell_type": "markdown",
   "id": "60c4ddc8-2796-4f6f-9187-d71569f418f0",
   "metadata": {},
   "source": [
    "1.First filter out the missing values and find is there any relationship between them with respect to any other data inputs.\n",
    "2.If we could able to find the missing values are from one category or have some relation it is termed as Missing at random."
   ]
  },
  {
   "cell_type": "markdown",
   "id": "19f1af6c-834d-431d-bb4c-ba8fd00c9124",
   "metadata": {},
   "source": [
    "Q9: Suppose you are working on a medical diagnosis project and find that the majority of patients in the \n",
    "dataset do not have the condition of interest, while a small percentage do. What are some strategies you \n",
    "can use to evaluate the performance of your machine learning model on this imbalanced dataset?"
   ]
  },
  {
   "cell_type": "markdown",
   "id": "ffc51c0b-9597-4bc7-9f71-72a8c3cb3fa4",
   "metadata": {},
   "source": [
    "First we will try to upsample or downsample the data set, by either adding some new lines with smaller interest percentage with same existing data and match with majority percentage or otherwise we will delete some lines from majority percentage and make it match with minority size."
   ]
  },
  {
   "cell_type": "markdown",
   "id": "e1fdd0b0-6a03-4b55-ad7c-1c8a468a54b6",
   "metadata": {},
   "source": [
    "Q10: When attempting to estimate customer satisfaction for a project, you discover that the dataset is \n",
    "unbalanced, with the bulk of customers reporting being satisfied. What methods can you employ to \n",
    "balance the dataset and down-sample the majority class?"
   ]
  },
  {
   "cell_type": "markdown",
   "id": "54802eed-0f18-4d79-8e44-09028e5ec087",
   "metadata": {},
   "source": [
    "We will randomly select the limited data from the majority class with equaling the population to minority class."
   ]
  },
  {
   "cell_type": "markdown",
   "id": "db97481f-bafa-42ba-923a-f6a9e7613731",
   "metadata": {},
   "source": [
    "Q11: You discover that the dataset is unbalanced with a low percentage of occurrences while working on a \n",
    "project that requires you to estimate the occurrence of a rare event. What methods can you employ to \n",
    "balance the dataset and up-sample the minority class"
   ]
  },
  {
   "cell_type": "markdown",
   "id": "378c3910-07e7-4447-aefb-70f9d31c2417",
   "metadata": {},
   "source": [
    "Upsampling the minority class by adding new entities with existing data for minority class without changing its inputs"
   ]
  }
 ],
 "metadata": {
  "kernelspec": {
   "display_name": "Python 3 (ipykernel)",
   "language": "python",
   "name": "python3"
  },
  "language_info": {
   "codemirror_mode": {
    "name": "ipython",
    "version": 3
   },
   "file_extension": ".py",
   "mimetype": "text/x-python",
   "name": "python",
   "nbconvert_exporter": "python",
   "pygments_lexer": "ipython3",
   "version": "3.10.8"
  }
 },
 "nbformat": 4,
 "nbformat_minor": 5
}
