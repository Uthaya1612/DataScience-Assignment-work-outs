{
 "cells": [
  {
   "cell_type": "markdown",
   "id": "29b508cb-5773-4511-bb49-0c42fa4135d4",
   "metadata": {},
   "source": [
    "Q1: What are the Probability Mass Function (PMF) and Probability Density Function (PDF)? Explain with an example."
   ]
  },
  {
   "cell_type": "markdown",
   "id": "c900f9d6-a25a-4dd2-b070-e6b4bfee60a5",
   "metadata": {},
   "source": [
    "Probability density function(PDF)is the probability distribution for continuous data/variables. Ex - Height of the students in the class.\n",
    "\n",
    "The Probability Mass Function (PMF) provides the probability distribution for discrete variables. For example, rolling dice"
   ]
  },
  {
   "cell_type": "markdown",
   "id": "a35d8e25-8fd1-4aaf-a6f0-2c3edeabe1f7",
   "metadata": {},
   "source": [
    "Q2: What is Cumulative Density Function (CDF)? Explain with an example. Why CDF is used?\n"
   ]
  },
  {
   "cell_type": "markdown",
   "id": "32abeb3d-21cc-49d3-9f17-c40977b11854",
   "metadata": {},
   "source": [
    "The Cumulative Density Function (CDF) is a function derived from the probability density function for a continuous random variable. It gives the probability of finding the random variable at a value less than or equal to a given cutoff.\n",
    "\n",
    "Probability of student height less than or equal to 150cm. \n",
    "\n",
    "It is used to get the cumulative sum of the probability upto the targeted value."
   ]
  },
  {
   "cell_type": "markdown",
   "id": "8f033fe1-8226-495b-9264-d6f333cbc00d",
   "metadata": {},
   "source": [
    "Q3: What are some examples of situations where the normal distribution might be used as a model? \n",
    "Explain how the parameters of the normal distribution relate to the shape of the distribution."
   ]
  },
  {
   "cell_type": "markdown",
   "id": "882febc7-7c17-4c6f-81ac-5b717f6ddbc4",
   "metadata": {},
   "source": [
    "The common uses of normal distribution are\n",
    "\n",
    "· Hypothesis testing (Comparing means and proportions)\n",
    "· Parameter inference (Confidence intervals)\n",
    "· It helps approximate the binomial distribution\n",
    "· Approximate the Poisson distribution\n",
    "\n",
    "The two main parameters of a (normal) distribution are the mean and standard deviation. The parameters determine the shape and probabilities of the distribution. The shape of the distribution changes as the parameter values change. \n",
    "\n",
    "In a normal distribution, data is symmetrically distributed with no skew. When plotted on a graph, the data follows a bell shape."
   ]
  },
  {
   "cell_type": "markdown",
   "id": "4e985868-4de1-431e-bb87-c5600522f9e2",
   "metadata": {},
   "source": [
    "Q4: Explain the importance of Normal Distribution. Give a few real-life examples of Normal Distribution. "
   ]
  },
  {
   "cell_type": "markdown",
   "id": "55e2aa33-fb3f-42de-b76c-120eb0c0d1ae",
   "metadata": {},
   "source": [
    "All kinds of variables in natural and social sciences are normally or approximately normally distributed. Height, birth weight, reading ability are just a few examples of such variables.\n",
    "\n",
    "Because normally distributed variables are so common, many statistical tests are designed for normally distributed populations."
   ]
  },
  {
   "cell_type": "markdown",
   "id": "2be57c72-0e85-4cfc-a3db-8c435e813b75",
   "metadata": {},
   "source": [
    "Q5: What is Bernaulli Distribution? Give an Example. What is the difference between Bernoulli Distribution and Binomial Distribution?"
   ]
  },
  {
   "cell_type": "markdown",
   "id": "d64276cb-4465-4751-a1d5-ec26057d77da",
   "metadata": {},
   "source": [
    "The Bernoulli distribution is a discrete probability indicator and it is the Probability Mass function. It is used for determining the possible outcome of a single random experiment (Bernoulli trial). Such a trial can only have two results, success or failure.\n",
    "\n",
    "It is different from Binomial distribution, which determines the probability for multiple Binomial trials. \n",
    "\n",
    "Bernoulli distribution is for single independent trial with possible outcome of success or failure.\n",
    "Binominal distribution is for sequence of independent trials with possible outcome of success or failure."
   ]
  },
  {
   "cell_type": "markdown",
   "id": "e977e031-fd6a-4bd1-a861-3a3bde78efc7",
   "metadata": {},
   "source": [
    "Q6. Consider a dataset with a mean of 50 and a standard deviation of 10. If we assume that the dataset is normally distributed, what is the probability that a randomly selected observation will be greater than 60? Use the appropriate formula and show your calculations."
   ]
  },
  {
   "cell_type": "markdown",
   "id": "80baea50-3e79-4e88-ad17-56f599132055",
   "metadata": {},
   "source": [
    "z-score = (x – μ) / σ\n",
    "Z-score = (60 - 50) /10 = 1\n",
    "from z table = 0.8413\n",
    "Probability greater than 60 = 1-0.8413 = .1587 \n",
    "15.87%"
   ]
  },
  {
   "cell_type": "markdown",
   "id": "0b34cae1-6843-4137-ad6b-53b457193026",
   "metadata": {},
   "source": [
    "Q7: Explain uniform Distribution with an example."
   ]
  },
  {
   "cell_type": "markdown",
   "id": "cc5bfd8d-6d48-4421-9dc6-a5e7c6201e9f",
   "metadata": {},
   "source": [
    "uniform distribution is a term used to describe a form of probability distribution where every possible outcome has an equal likelihood of happening. The probability is constant since each variable has equal chances of being the outcome.\n",
    "\n",
    "Ex - Rolling a dies where each number has probability of 1/6"
   ]
  },
  {
   "cell_type": "markdown",
   "id": "658dfe29-bf3d-41e2-b37b-750118b761b4",
   "metadata": {},
   "source": [
    "Q8: What is the z score? State the importance of the z score."
   ]
  },
  {
   "cell_type": "markdown",
   "id": "d71b3358-ef19-4ba3-9064-c75224823300",
   "metadata": {},
   "source": [
    "Z-score is also known as standard score gives us an idea of how far a data point is from the mean. It indicates how many standard deviations an element is from the mean. Hence, Z-Score is measured in terms of standard deviation from the mean. \n",
    "\n",
    "It is used to convert the normal distribution to standard normal distribution."
   ]
  },
  {
   "cell_type": "markdown",
   "id": "4702611d-f11d-4643-b8a8-555e878ac844",
   "metadata": {},
   "source": [
    "Q9: What is Central Limit Theorem? State the significance of the Central Limit Theorem."
   ]
  },
  {
   "cell_type": "markdown",
   "id": "c82da052-8960-49ff-af71-a64d7e895808",
   "metadata": {},
   "source": [
    "Central Limit theorem says the mean of the sampling distribution will always be normally distributed, as long as sample size is large enough.\n",
    "\n",
    "The use of an appropriate sample size and the central limit theorem help us to get around the problem of data from populations that are not normal."
   ]
  },
  {
   "cell_type": "markdown",
   "id": "7fac1e40-771c-4384-aaf9-ee8bb0565967",
   "metadata": {},
   "source": [
    "Q10: State the assumptions of the Central Limit Theorem"
   ]
  },
  {
   "cell_type": "markdown",
   "id": "a9aa4728-e9a9-473c-953b-cc21157658bd",
   "metadata": {},
   "source": [
    "The sample should be drawn randomly following the condition of randomization. \n",
    "The samples drawn should be independent of each other. \n",
    "They should not influence the other samples. \n",
    "When the sampling is done without replacement, the sample size shouldn’t exceed 10% of the total population."
   ]
  }
 ],
 "metadata": {
  "kernelspec": {
   "display_name": "Python 3 (ipykernel)",
   "language": "python",
   "name": "python3"
  },
  "language_info": {
   "codemirror_mode": {
    "name": "ipython",
    "version": 3
   },
   "file_extension": ".py",
   "mimetype": "text/x-python",
   "name": "python",
   "nbconvert_exporter": "python",
   "pygments_lexer": "ipython3",
   "version": "3.10.8"
  }
 },
 "nbformat": 4,
 "nbformat_minor": 5
}
