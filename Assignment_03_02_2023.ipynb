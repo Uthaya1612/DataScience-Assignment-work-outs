{
 "cells": [
  {
   "cell_type": "markdown",
   "id": "ee1b3585-6c0b-4569-9f96-eab219c18a41",
   "metadata": {},
   "source": [
    "1.Keyword def is used to create a function\n"
   ]
  },
  {
   "cell_type": "code",
   "execution_count": 1,
   "id": "a28dcd6f-8211-4a5a-ab64-09cbb9f6ebf8",
   "metadata": {},
   "outputs": [],
   "source": [
    "def odd_num(n):\n",
    "    list1 = []\n",
    "    for i in range (0,n+1):\n",
    "        if (i % 2 != 0):\n",
    "            list1.append(i)\n",
    "        else:\n",
    "            pass\n",
    "    print(\"Odd numbers are..\",list1)"
   ]
  },
  {
   "cell_type": "code",
   "execution_count": 2,
   "id": "ae4c7314-ee6a-42bd-93c8-fe207ccfb47b",
   "metadata": {},
   "outputs": [
    {
     "name": "stdout",
     "output_type": "stream",
     "text": [
      "Odd numbers are.. [1, 3, 5, 7, 9, 11, 13, 15, 17, 19, 21, 23, 25]\n"
     ]
    }
   ],
   "source": [
    "odd_num(25)"
   ]
  },
  {
   "cell_type": "markdown",
   "id": "ee6d66d4-6510-4a4e-8266-ea5fb5e67006",
   "metadata": {},
   "source": [
    "2.*args and **kwargs are special keyword which allows function to take any number of variables as input."
   ]
  },
  {
   "cell_type": "code",
   "execution_count": 13,
   "id": "8b0917c7-d0d6-4e71-9392-73f31d91abfd",
   "metadata": {},
   "outputs": [
    {
     "name": "stdout",
     "output_type": "stream",
     "text": [
      "Sum: 8\n",
      "Sum: 22\n"
     ]
    }
   ],
   "source": [
    "def addition(*num):\n",
    "    sum = 0   \n",
    "    for i in num:\n",
    "        sum = sum + i\n",
    "    print(\"Sum:\",sum)\n",
    "\n",
    "addition(3,5)\n",
    "addition(4,5,6,7)\n"
   ]
  },
  {
   "cell_type": "code",
   "execution_count": 25,
   "id": "df4c7254-8121-48b2-b724-5de7fa5dff44",
   "metadata": {},
   "outputs": [
    {
     "name": "stdout",
     "output_type": "stream",
     "text": [
      "Keyvalue1 == data\n",
      "Keyvalue2 == Science\n",
      "Keyvalue3 == Master\n",
      "Keyvalue4 == 5\n"
     ]
    }
   ],
   "source": [
    "def Dict_example(**kwargs):\n",
    "    for key, value in kwargs.items():\n",
    "        print(\"Key{} == {}\".format (key, value))\n",
    "        \n",
    "Dict_example(value1 = \"data\",value2 = \"Science\",value3 =\"Master\",value4 = 5)\n"
   ]
  },
  {
   "cell_type": "markdown",
   "id": "8d7932ab-7608-4fc2-8e63-d831ce19ec06",
   "metadata": {},
   "source": [
    "3.What is an iterator in python? Name the method used to initialise the iterator object and the method\n",
    "used for iteration. Use these methods to print the first five elements of the given list [2, 4, 6, 8, 10, 12, 14, 16,\n",
    "18, 20]."
   ]
  },
  {
   "cell_type": "markdown",
   "id": "4cbcfad8-6fe4-489b-9a9d-a2e69573e078",
   "metadata": {},
   "source": [
    "Iterator in Python is an object that is used to iterate over iterable objects like lists, tuples, dicts, and sets. The iterator object is initialized using the iter () method. It uses the next () method for iteration.\n"
   ]
  },
  {
   "cell_type": "code",
   "execution_count": 11,
   "id": "a302fe73-4111-4d00-bf06-0fb9a7ab10ff",
   "metadata": {},
   "outputs": [
    {
     "name": "stdout",
     "output_type": "stream",
     "text": [
      "2\n",
      "4\n",
      "6\n",
      "8\n",
      "10\n"
     ]
    }
   ],
   "source": [
    "list1=  [2, 4, 6, 8, 10, 12, 14, 16, 18, 20]\n",
    "mylist = iter(list1)\n",
    "print(next(mylist))\n",
    "print(next(mylist))\n",
    "print(next(mylist))\n",
    "print(next(mylist))\n",
    "print(next(mylist))"
   ]
  },
  {
   "cell_type": "markdown",
   "id": "e03492a2-ed4f-4726-9183-edbf735fe526",
   "metadata": {},
   "source": [
    "4.What is a generator function in python? Why yield keyword is used? Give an example of a generator\n",
    "function."
   ]
  },
  {
   "cell_type": "markdown",
   "id": "68424ad9-ef26-4ff4-8667-f8186e7e4277",
   "metadata": {},
   "source": [
    "A Generator is a function that returns an object (iterator) which we can iterate over, but one value at a time.\n",
    "To create a generator function, yield keyword is used instead of return statement in normal function.\n",
    "Yield is used to return a value one after the other."
   ]
  },
  {
   "cell_type": "markdown",
   "id": "8decc23e-e939-4845-872c-e9a72b5814da",
   "metadata": {},
   "source": [
    "5. Create a generator function for prime numbers less than 1000. Use the next() method to print the\n",
    "first 20 prime numbers."
   ]
  },
  {
   "cell_type": "code",
   "execution_count": 82,
   "id": "f9396c3c-dc9a-4477-a1db-94555d1d5a15",
   "metadata": {},
   "outputs": [
    {
     "name": "stdout",
     "output_type": "stream",
     "text": [
      "0\n",
      "1\n",
      "1\n",
      "2\n",
      "3\n",
      "5\n",
      "8\n",
      "13\n",
      "21\n",
      "34\n"
     ]
    }
   ],
   "source": [
    "def test_fib(n) :\n",
    "    a,b = 0,1\n",
    "    for i in range(n):\n",
    "        yield a \n",
    "        a,b = b ,a+b \n",
    "for i in test_fib(10) : \n",
    "    print(i)\n",
    "        "
   ]
  },
  {
   "cell_type": "code",
   "execution_count": 138,
   "id": "877edc7d-1345-4c29-bf24-3fb7baf95b3d",
   "metadata": {},
   "outputs": [],
   "source": [
    "def prime(n):\n",
    "    list3 = []\n",
    "    for i in range(1,n):\n",
    "        count = 0\n",
    "        for j in range(1,i+1):\n",
    "            if (i%j==0):\n",
    "                count = count+1\n",
    "            else:\n",
    "                pass\n",
    "        if (count>2):\n",
    "            pass\n",
    "        else:\n",
    "            print (i , end =\" \")\n",
    "            list3.append(i)\n",
    "    iterable = iter(list3)\n",
    "    n = 0\n",
    "    while n<20:\n",
    "        print (\"\\n\",next(iterable))\n",
    "        n=n+1"
   ]
  },
  {
   "cell_type": "code",
   "execution_count": 139,
   "id": "003d32e8-ee1c-4c4d-9013-4ac26a8954e6",
   "metadata": {},
   "outputs": [
    {
     "name": "stdout",
     "output_type": "stream",
     "text": [
      "1 2 3 5 7 11 13 17 19 23 29 31 37 41 43 47 53 59 61 67 71 73 79 83 89 97 \n",
      " 1\n",
      "\n",
      " 2\n",
      "\n",
      " 3\n",
      "\n",
      " 5\n",
      "\n",
      " 7\n",
      "\n",
      " 11\n",
      "\n",
      " 13\n",
      "\n",
      " 17\n",
      "\n",
      " 19\n",
      "\n",
      " 23\n",
      "\n",
      " 29\n",
      "\n",
      " 31\n",
      "\n",
      " 37\n",
      "\n",
      " 41\n",
      "\n",
      " 43\n",
      "\n",
      " 47\n",
      "\n",
      " 53\n",
      "\n",
      " 59\n",
      "\n",
      " 61\n",
      "\n",
      " 67\n"
     ]
    }
   ],
   "source": [
    "prime(100)"
   ]
  },
  {
   "cell_type": "code",
   "execution_count": null,
   "id": "8ab09ebf-4e5e-4958-864f-40f2ca576cf5",
   "metadata": {},
   "outputs": [],
   "source": [
    "prime(100)\n",
    "iterable = iter(list3)\n",
    "print (\"\\n\",next(iterable))\n",
    "print (\"\\n\",next(iterable))\n",
    "print (\"\\n\",next(iterable))\n",
    "print (\"\\n\",next(iterable))"
   ]
  }
 ],
 "metadata": {
  "kernelspec": {
   "display_name": "Python 3 (ipykernel)",
   "language": "python",
   "name": "python3"
  },
  "language_info": {
   "codemirror_mode": {
    "name": "ipython",
    "version": 3
   },
   "file_extension": ".py",
   "mimetype": "text/x-python",
   "name": "python",
   "nbconvert_exporter": "python",
   "pygments_lexer": "ipython3",
   "version": "3.10.8"
  }
 },
 "nbformat": 4,
 "nbformat_minor": 5
}
