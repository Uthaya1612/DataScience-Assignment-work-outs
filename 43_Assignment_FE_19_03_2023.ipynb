{
 "cells": [
  {
   "cell_type": "markdown",
   "id": "5bb23b9c-06ef-472f-aabb-f7dd4cdcdfe5",
   "metadata": {},
   "source": [
    "Ql. What is Min-Max scaling, and how is it used in data preprocessing? Provide an example to illustrate its application."
   ]
  },
  {
   "cell_type": "markdown",
   "id": "7cdebbb7-7386-44cb-a180-5d70f0ae5352",
   "metadata": {},
   "source": [
    "Min-Max scaling is the process of rescaling the given inputs to range between 0 to 1.It is used to scale the wide range of data into scalable limits. \n",
    "For example if we have weight of the people ranging between 50 to 100kgs.(50,55,60,75,80,95,100,85,80)\n",
    "For computation this large limits it takes time and complex process, so we reduce its scaling to 0 to 1.\n",
    "\n",
    "New x = x - min(x) / (max (x) - min(x))\n",
    "X= (50,55,60,75,80,95,100,85,80)\n",
    "New set = (0 ,0.1,0.2,0.5,0.6,0.9,1,0.7,0.6)"
   ]
  },
  {
   "cell_type": "markdown",
   "id": "4a9282ea-7998-4a7a-916a-0f64349ea6a9",
   "metadata": {},
   "source": [
    "2.What is the Unit Vector technique in feature scaling, and how does it differ from Min-Max scaling? Provide an example to illustrate its application."
   ]
  },
  {
   "cell_type": "markdown",
   "id": "b447c7a9-7ee6-4874-9a3c-0481af6fc4ec",
   "metadata": {},
   "source": [
    "Unit vector scaling is the process of scaling individual samples to have unit normal. It differs from Min-Max scaling in terms its normal(square root of the sum of its value squares) is equal to 1 . \n",
    "\n",
    "If we have a value as 3,4 then its unit vector conversion is (3/5,4/5) When we find normal for this we get 1."
   ]
  },
  {
   "cell_type": "markdown",
   "id": "169b7055-4613-4739-a481-60026e95c465",
   "metadata": {},
   "source": [
    "Q3.What is PCA {Principle Component Analysis), and how is it used in dimensionality reduction? Provide an example to illustrate its application. "
   ]
  },
  {
   "cell_type": "markdown",
   "id": "633f4c21-93c0-4a33-afda-9a50104e5c37",
   "metadata": {},
   "source": [
    "Principal component analysis, or PCA, is a dimensionality-reduction method that is often used to reduce the dimensionality of large data sets, by transforming a large set of variables into a smaller one that still contains most of the information in the large set.\n",
    "\n",
    "Principal Component Analysis (PCA) is a statistical procedure that uses an orthogonal transformation that converts a set of correlated variables to a set of uncorrelated variables."
   ]
  },
  {
   "cell_type": "markdown",
   "id": "a1c81dfa-e6a4-444f-b2b2-ac228766e5ee",
   "metadata": {},
   "source": [
    "Q4. What is the relationship between PCA and Feature Extraction, and how can PCA be used for Feature Extraction? Provide an example to illustrate this concept."
   ]
  },
  {
   "cell_type": "markdown",
   "id": "03a7062f-cb04-40ba-b339-fe67aad475d5",
   "metadata": {},
   "source": [
    "\n",
    "PCA is a technique for dimensionality reduction that identifies a set of orthogonal axes, called principal components, that capture the maximum variance in the data. Thus its support feature extraction.\n",
    "\n",
    "Principal Component Analysis (PCA) is used to reduce the dimensionality of a data set by finding a new set of variables, smaller than the original set of variables, retaining most of the sample’s information, and useful for the regression and classification of data."
   ]
  },
  {
   "cell_type": "markdown",
   "id": "c15e5c4d-cf51-4290-aecf-3e38d5d7e26e",
   "metadata": {},
   "source": [
    "Q5. You are working on a project to build a recommendation system for a food delivery service. The dataset contains features such as price, rating, and delivery time. Explain how you would use Min-Max scaling to preprocess the data.  "
   ]
  },
  {
   "cell_type": "markdown",
   "id": "9e338baa-9dd4-4c72-8764-d440e807160b",
   "metadata": {},
   "source": [
    "Here each column has different range and units. So if we feed this directly machine learning can be confused with larger values by giving maximum preferance to that. To avoid that we will convert entire table to range between 0 to 1. Thus allocating equal weightage to all columns.\n",
    "\n",
    "This is done by New x = x - min(x) / (max (x) - min(x))"
   ]
  },
  {
   "cell_type": "markdown",
   "id": "0de71eaf-e65d-47fe-9d38-b98983def84b",
   "metadata": {},
   "source": [
    "Q6.You are working on a project to build a model to predict stock prices. The dataset contains many features, such as company financial data and market trends. Explain how you would use PCA to reduce the dimensionality of the dataset."
   ]
  },
  {
   "cell_type": "markdown",
   "id": "f29eefac-60c1-4982-b879-70f3884481cb",
   "metadata": {},
   "source": [
    "The two dimensions are listed along the X-axis (Financial data) and Y-axis (Market trends). You can find the datasets being distributed across the graph.\n",
    "\n",
    "The components that are having a similar or greater amount of variance are grouped under a single category and the components that are having varying or smaller variance are grouped under the second category.\n",
    "\n",
    "Here, two vector components are defined as FIRST PRINCIPAL COMPONENT and SECOND PRINCIPAL COMPONENT and they are computed based on a simple principle. "
   ]
  },
  {
   "cell_type": "markdown",
   "id": "3a23cd76-13b1-47c7-bce4-721b195116dc",
   "metadata": {},
   "source": [
    "  Q7. For a dataset containing the following values: (1,5,10,15,20) Perform min-max scaling to convert the values to a range of-1to1.  "
   ]
  },
  {
   "cell_type": "markdown",
   "id": "03fdb21d-f04a-471e-b0c4-cb633314707c",
   "metadata": {},
   "source": [
    "x = x - mean(x) / (max (x) - min(x))\n"
   ]
  },
  {
   "cell_type": "code",
   "execution_count": 6,
   "id": "47d03430-fbed-428e-8ca4-f08f6d23823b",
   "metadata": {},
   "outputs": [
    {
     "name": "stdout",
     "output_type": "stream",
     "text": [
      "20\n",
      "1\n",
      "[0.0, 0.21052631578947367, 0.47368421052631576, 0.7368421052631579, 1.0]\n"
     ]
    }
   ],
   "source": [
    "X=[1,5,10,15,20]\n",
    "Y=[]\n",
    "max_value = max(X)\n",
    "min_value = min(X)\n",
    "print(max_value)\n",
    "print(min_value)\n",
    "for i in X:\n",
    "    x= (i-min_value)/(max_value - min_value)\n",
    "    Y.append(x)\n",
    "print(Y)"
   ]
  },
  {
   "cell_type": "markdown",
   "id": "7e3df9c5-0143-43c9-9704-3dfde01da2ed",
   "metadata": {},
   "source": [
    "Q8.For a dataset containing the following features:(height,weight,Age,gender,blood pressure), perform Feature Extraction using PCA. How many principal components would you choose to retain and Why?"
   ]
  },
  {
   "cell_type": "markdown",
   "id": "7a84ccf1-cb12-41db-b997-e8e6d0ea7d48",
   "metadata": {},
   "source": [
    "X and Y plot is made for each pair and find the correlation between each parameters and the features with maximum correlation value is choosen as principal axis."
   ]
  }
 ],
 "metadata": {
  "kernelspec": {
   "display_name": "Python 3 (ipykernel)",
   "language": "python",
   "name": "python3"
  },
  "language_info": {
   "codemirror_mode": {
    "name": "ipython",
    "version": 3
   },
   "file_extension": ".py",
   "mimetype": "text/x-python",
   "name": "python",
   "nbconvert_exporter": "python",
   "pygments_lexer": "ipython3",
   "version": "3.10.8"
  }
 },
 "nbformat": 4,
 "nbformat_minor": 5
}
