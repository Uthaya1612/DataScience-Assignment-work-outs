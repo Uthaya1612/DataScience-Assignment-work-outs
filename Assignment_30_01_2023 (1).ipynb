{
 "cells": [
  {
   "cell_type": "markdown",
   "id": "10f9b305-f260-4e0f-bce4-aabcbb61d5e6",
   "metadata": {},
   "source": [
    "Ques 1"
   ]
  },
  {
   "cell_type": "code",
   "execution_count": 27,
   "id": "438c7c58-6661-4b60-85f9-d07a6e3bc2eb",
   "metadata": {},
   "outputs": [],
   "source": [
    "def Grading():\n",
    "    marks = int(input(\"Enter your marks..\"))\n",
    "    if(marks>90):\n",
    "        print(\"Your Grade is..A\")\n",
    "    elif(marks>80 and marks<=90):\n",
    "        print(\"Your Grade is..B\")\n",
    "    elif(marks>=60 and marks<=80):\n",
    "        print(\"Your Grade is..C\")\n",
    "    else :\n",
    "        print(\"Your Grade is..D\")\n"
   ]
  },
  {
   "cell_type": "code",
   "execution_count": 30,
   "id": "d3aee4cf-1e1c-439e-b614-cdd1ce6bdcc1",
   "metadata": {},
   "outputs": [
    {
     "name": "stdin",
     "output_type": "stream",
     "text": [
      "Enter your marks.. 68\n"
     ]
    },
    {
     "name": "stdout",
     "output_type": "stream",
     "text": [
      "Your Grade is..C\n"
     ]
    }
   ],
   "source": [
    "Grading()"
   ]
  },
  {
   "cell_type": "markdown",
   "id": "0e897e04-077e-4fb9-b6ff-252d450c5f59",
   "metadata": {},
   "source": [
    "Ques 2"
   ]
  },
  {
   "cell_type": "code",
   "execution_count": 17,
   "id": "06445fe4-2ad5-491f-b3f9-26cbc635cfff",
   "metadata": {},
   "outputs": [
    {
     "name": "stdin",
     "output_type": "stream",
     "text": [
      "Enter the bike cost.. 25000\n"
     ]
    },
    {
     "name": "stdout",
     "output_type": "stream",
     "text": [
      "Tax rate is 5%\n"
     ]
    }
   ],
   "source": [
    "def Tax_fixation():\n",
    "    bike_cost = int(input(\"Enter the bike cost..\"))\n",
    "    if(bike_cost>100000):\n",
    "        print(\"Tax rate is 15%\")\n",
    "    elif(bike_cost>50000 and bike_cost<=100000):\n",
    "        print(\"Tax rate is 10%\")\n",
    "    else :\n",
    "        print(\"Tax rate is 5%\")\n",
    "\n",
    "Tax_fixation()"
   ]
  },
  {
   "cell_type": "markdown",
   "id": "411f5f22-3d7c-4483-af8f-0c673b48454d",
   "metadata": {},
   "source": [
    "Ques 3"
   ]
  },
  {
   "cell_type": "code",
   "execution_count": 30,
   "id": "4a1131ca-0281-4664-9368-b1d10a166b94",
   "metadata": {},
   "outputs": [
    {
     "name": "stdin",
     "output_type": "stream",
     "text": [
      "Choose the number(City) to display its monuments \n",
      " 1.Delhi \n",
      " 2.Agra \n",
      " 3.Jaipur 1\n"
     ]
    },
    {
     "data": {
      "text/plain": [
       "'Red fort'"
      ]
     },
     "execution_count": 30,
     "metadata": {},
     "output_type": "execute_result"
    }
   ],
   "source": [
    "def Monuments():\n",
    "    city = int(input(\"Choose the number(City) to display its monuments \\n 1.Delhi \\n 2.Agra \\n 3.Jaipur\"))\n",
    "    Lst = [\"Red fort\" , \"Taj mahal\" , \"Jal Mahal\" ]               \n",
    "    return (Lst[city-1])\n",
    "\n",
    "Monuments()"
   ]
  },
  {
   "cell_type": "markdown",
   "id": "11af34e1-3d6c-485b-b302-2cacce5e06f6",
   "metadata": {},
   "source": [
    "Ques 4 : Check how many times a given number can be divisible by 3 before it is less than or equal to 10."
   ]
  },
  {
   "cell_type": "code",
   "execution_count": 1,
   "id": "3448d048-d157-441e-b4bd-e51bf6c96328",
   "metadata": {},
   "outputs": [
    {
     "name": "stdin",
     "output_type": "stream",
     "text": [
      "Enter the number to check the divisible by 3.. 55\n"
     ]
    },
    {
     "name": "stdout",
     "output_type": "stream",
     "text": [
      "Total divisible of 55 by 3 is.. 15\n",
      "Remiander is.. 10\n"
     ]
    }
   ],
   "source": [
    "def calculus():\n",
    "    number = int(input(\"Enter the number to check the divisible by 3..\"))\n",
    "    Divisible = number/3\n",
    "    remainder = number%3\n",
    "    if (remainder<=1):\n",
    "        print(\"Total divisible of {} by 3 is.. {}\".format(number,int(Divisible-3)))\n",
    "        print(\"Remiander is.. {}\".format(remainder+9))\n",
    "    else:\n",
    "        print(\"Total divisible of {} by 3 is.. {}\".format(number,int(Divisible-2)))\n",
    "        print(\"Remiander is.. {}\".format(remainder+6))\n",
    "        \n",
    "calculus()\n",
    "       "
   ]
  },
  {
   "cell_type": "markdown",
   "id": "5a5ee8c4-7852-4629-8a1c-dd078be6111d",
   "metadata": {},
   "source": [
    "Ques 5: When and why to use While loop in python?"
   ]
  },
  {
   "cell_type": "markdown",
   "id": "85a35e9c-9d4e-41b8-b9a7-e20b4403d6da",
   "metadata": {},
   "source": [
    "While loop in Python is used to iterate over a block of code unless the test condition becomes false. We generally use this loop for indefinite iterable where we dont know the range of iteration before.In while loop, test expression is checked first."
   ]
  },
  {
   "cell_type": "code",
   "execution_count": 3,
   "id": "ff518c13-a519-4f20-9687-64e065172eeb",
   "metadata": {},
   "outputs": [
    {
     "name": "stdin",
     "output_type": "stream",
     "text": [
      "Enter a number (-1 to quit):  -1\n"
     ]
    }
   ],
   "source": [
    "a = int(input('Enter a number (-1 to quit): '))\n",
    "  \n",
    "while a != -1:\n",
    "    a = int(input('Enter a number (-1 to quit): '))"
   ]
  },
  {
   "cell_type": "code",
   "execution_count": 16,
   "id": "9121e510-0ade-465a-8800-7c3cc872e1a7",
   "metadata": {},
   "outputs": [
    {
     "name": "stdin",
     "output_type": "stream",
     "text": [
      "Enter a number between 10 to 25:  29\n"
     ]
    },
    {
     "name": "stdout",
     "output_type": "stream",
     "text": [
      "*\t*\t*\t*\t\n",
      "\n",
      "#\t#\t#\t#\t#\t#\t#\t#\t#\t#\t#\t#\t#\t#\t#\t\n",
      "\n",
      "%\t%\t%\t%\t%\t%\t%\t%\t%\t"
     ]
    }
   ],
   "source": [
    " a = int(input('Enter a number between 10 to 25: '))\n",
    "while (a>1):\n",
    "    while (a>10):\n",
    "        while (a>25):\n",
    "            print(\"*\", end = \"\\t\")\n",
    "            a = a-1\n",
    "            if(a == 25):\n",
    "                print(\"\\n\")\n",
    "                break\n",
    "        print(\"#\", end = \"\\t\")\n",
    "        a = a-1\n",
    "        if(a == 10):\n",
    "                print(\"\\n\")\n",
    "                break\n",
    "    print(\"%\", end = \"\\t\")\n",
    "    a = a-1\n",
    "    \n",
    "  "
   ]
  },
  {
   "cell_type": "markdown",
   "id": "8d8ebb1e-3e2f-4187-83a2-5f73bce181d8",
   "metadata": {},
   "source": [
    "Ques 7 : reverse a While loop to display numbers from 10 to 1"
   ]
  },
  {
   "cell_type": "code",
   "execution_count": 25,
   "id": "984400de-48c7-4e48-ad0a-f5e05d6655c5",
   "metadata": {},
   "outputs": [],
   "source": [
    "def reversing():\n",
    "    a = 10\n",
    "    while (a > 0):\n",
    "        print(a)\n",
    "        a = a-1"
   ]
  },
  {
   "cell_type": "code",
   "execution_count": 26,
   "id": "e33f940e-a5f7-4a2b-9fdd-babf9c95c624",
   "metadata": {},
   "outputs": [
    {
     "name": "stdout",
     "output_type": "stream",
     "text": [
      "10\n",
      "9\n",
      "8\n",
      "7\n",
      "6\n",
      "5\n",
      "4\n",
      "3\n",
      "2\n",
      "1\n"
     ]
    }
   ],
   "source": [
    "reversing()"
   ]
  }
 ],
 "metadata": {
  "kernelspec": {
   "display_name": "Python 3 (ipykernel)",
   "language": "python",
   "name": "python3"
  },
  "language_info": {
   "codemirror_mode": {
    "name": "ipython",
    "version": 3
   },
   "file_extension": ".py",
   "mimetype": "text/x-python",
   "name": "python",
   "nbconvert_exporter": "python",
   "pygments_lexer": "ipython3",
   "version": "3.10.8"
  }
 },
 "nbformat": 4,
 "nbformat_minor": 5
}
