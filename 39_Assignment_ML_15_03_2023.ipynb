{
 "cells": [
  {
   "cell_type": "markdown",
   "id": "19843b34-9241-4133-8c7d-71e3b6871a02",
   "metadata": {},
   "source": [
    "Q1. Explain the following with an example.\n",
    "a. Artificial Intelligence\n",
    "b. Machine Learning \n",
    "c. Deep learning"
   ]
  },
  {
   "cell_type": "markdown",
   "id": "102b8bbe-8d9a-4ec9-bc70-3c001815e8bd",
   "metadata": {},
   "source": [
    "a. Artificial Intelligence is the smart application that can perform its own task by itself without human interface. Ex - self driving car, Robots\n",
    "b. Machine learning is the subset of Artificial intelligence. It provides stats tool to learn,analysis,visualize and develop predictive models from the data. Eg - Predictive model in Amazon.\n",
    "c Deep learning is subset of ML. It tries to mimic human brain. Ex - Image Recognition, ChatGPT."
   ]
  },
  {
   "cell_type": "markdown",
   "id": "0716607d-a62d-466d-a897-68a2dd86b3a7",
   "metadata": {},
   "source": [
    "Q2. What is supervised learning? List some examples for supervised learning."
   ]
  },
  {
   "cell_type": "markdown",
   "id": "bbf2d510-2d47-4830-b432-3caf99d0eab7",
   "metadata": {},
   "source": [
    "Supervised learning is a type of machine learning that uses labeled data to train a model to map inputs to outputs.\n",
    "Examples of supervised learning include image and object recognition, predictive analytics, customer sentiment analysis, spam detection."
   ]
  },
  {
   "cell_type": "markdown",
   "id": "72176efd-0e3f-441e-9cb2-576ed1d3010c",
   "metadata": {},
   "source": [
    "Q3. What is unsupervised learning? List some examples for unsupervised learning."
   ]
  },
  {
   "cell_type": "markdown",
   "id": "05a671d5-c8ce-492e-bd83-7d09768a9614",
   "metadata": {},
   "source": [
    "Unsupervised learning is a type of machine learning that analyzes and finds patterns in unlabelled data. \n",
    "Some examples of unsupervised learning methods are recognising objects in image, categorising the news articles."
   ]
  },
  {
   "cell_type": "markdown",
   "id": "255fbc8a-9767-448a-8a51-84818dc11c31",
   "metadata": {},
   "source": [
    "Q4. What is the difference between AI, ML, DL and DS?"
   ]
  },
  {
   "cell_type": "markdown",
   "id": "774fc37e-9b15-4be1-8d40-e8442394ef30",
   "metadata": {},
   "source": [
    "Artificial intelligence is a thing/device/application that studies ways to build intelligent programs and machines that can creatively solve problems on its own.\n",
    "\n",
    "Machine learning is a subset of artificial intelligence (AI) that provides systems the ability to automatically learn and improve from experience without being explicitly programmed. \n",
    "\n",
    "Deep learning is a subset of machine learning, which uses the neural networks to analyze different factors with a structure that is similar to the human neural system.\n",
    "\n",
    "Data science is a discipline that uses various technologies and methods to analyze data. The main goal of data science is to find patterns in data."
   ]
  },
  {
   "cell_type": "markdown",
   "id": "633ec451-51fc-4ebe-a7bb-47a2759d7262",
   "metadata": {},
   "source": [
    "Q5. What are the main difference between supervised, unsupervised and semi-supervised learning?\n"
   ]
  },
  {
   "cell_type": "markdown",
   "id": "2a5d1ba2-2b67-4338-858f-75dc121e986b",
   "metadata": {},
   "source": [
    "Supervised Learning uses labelled data.\n",
    "Unsupervised Learning uses unlabelled data.\n",
    "Semi-supervised learning comprises of a small amount of labeled data and a large amount of unlabeled data."
   ]
  },
  {
   "cell_type": "markdown",
   "id": "f3c18cae-14fb-436e-90a9-320f71639217",
   "metadata": {},
   "source": [
    "Q6. What is train,test and validation split? Explain the importance of each term?"
   ]
  },
  {
   "cell_type": "markdown",
   "id": "b74826f1-2228-4586-9970-d696877e8001",
   "metadata": {},
   "source": [
    "Training split/dataset are the sets of data that are feed as input for training the models. Ex - Data we feed in image recognition\n",
    "Test split/dataset are the data that are being tested after training the model . Ex- Sample models feed for image recognition after training.\n",
    "Validation split are the dataset that are used to validate the system/device/application's accuracy based on its results. Ex- If a system has 75% accuracy, it means it passes 75% validation data correctly."
   ]
  },
  {
   "cell_type": "markdown",
   "id": "9b8ef48a-5d43-4acc-a5ee-cc4c2045e865",
   "metadata": {},
   "source": [
    "Q7. How the unsupervised learning can be used in anamoly detection?"
   ]
  },
  {
   "cell_type": "markdown",
   "id": "0d719080-58bd-475e-b8db-491ab57baaa0",
   "metadata": {},
   "source": [
    "Unsupervised learning can be used in anamoly detections by classifying the given unlabelled based on any keywords into some groups and others that doesnot match any keywords to pop as outliers by this way it is used in unsupervised learning process. "
   ]
  },
  {
   "cell_type": "markdown",
   "id": "973746ea-fd88-44b1-a81c-b34a8477fce7",
   "metadata": {},
   "source": [
    "Q8. List down some commonly used supervised learning algorithms and unsupervised learning algorithms."
   ]
  },
  {
   "cell_type": "markdown",
   "id": "ce6d1a6e-2017-4681-8b48-f4dc6a16a88b",
   "metadata": {},
   "source": [
    "Some popular examples of supervised machine learning algorithms are:\n",
    "Linear regression for regression problems.\n",
    "Random forest for classification and regression problems.\n",
    "Support vector machines for classification problems.\n",
    "\n",
    "Some popular examples of unsupervised learning algorithms are:\n",
    "k-means for clustering problems.\n",
    "Finding relationship between the data."
   ]
  }
 ],
 "metadata": {
  "kernelspec": {
   "display_name": "Python 3 (ipykernel)",
   "language": "python",
   "name": "python3"
  },
  "language_info": {
   "codemirror_mode": {
    "name": "ipython",
    "version": 3
   },
   "file_extension": ".py",
   "mimetype": "text/x-python",
   "name": "python",
   "nbconvert_exporter": "python",
   "pygments_lexer": "ipython3",
   "version": "3.10.8"
  }
 },
 "nbformat": 4,
 "nbformat_minor": 5
}
