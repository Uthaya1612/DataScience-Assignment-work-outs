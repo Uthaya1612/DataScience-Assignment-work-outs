{
 "cells": [
  {
   "cell_type": "markdown",
   "id": "38ac81d2-0145-4ec4-b0d3-bc225e905309",
   "metadata": {},
   "source": [
    "1.Characterisitcs of Tuples:\n",
    "Tuples are ordered, indexed collections of data, stored within round brackets.\n",
    "Tuples can store duplicate values.\n",
    "Tuples are immutable.\n",
    "\n",
    "Yes, tuples are immutable, Once data is assigned to a tuple, the values cannot be changed. \n",
    "\n",
    "\n",
    "\n",
    "\n"
   ]
  },
  {
   "cell_type": "markdown",
   "id": "c9399f2b-c7ee-454a-b56d-0139faa03f3e",
   "metadata": {},
   "source": [
    "2.count () and index () are the 2 methods for tuple in python.\n",
    "\n",
    "count(\"a\") - Gives the count (number of times) of a in a tuples.\n",
    "index(\"a\") - Gives the first index value of the letter \"a\" in a tuple. \n",
    "\n",
    "Tuples are immutables. Meaning, you cannot change items of a tuple once it is assigned. Therefor there are only two tuple methods count () and index () that a tuple object can call."
   ]
  },
  {
   "cell_type": "markdown",
   "id": "2abadf3d-7e6d-4050-bab0-e68282951597",
   "metadata": {},
   "source": [
    "3. Sets will not allow duplicate values in it in python.\n"
   ]
  },
  {
   "cell_type": "code",
   "execution_count": 8,
   "id": "2a40345d-cdc4-414e-b446-c940b9ead4a7",
   "metadata": {},
   "outputs": [
    {
     "data": {
      "text/plain": [
       "{1, 2, 3, 4}"
      ]
     },
     "execution_count": 8,
     "metadata": {},
     "output_type": "execute_result"
    }
   ],
   "source": [
    "List = [1, 1, 1, 2, 1, 3, 1, 4, 2, 1, 2, 2, 2, 3, 2, 4, 3, 1, 3, 2, 3, 3, 3, 4, 4, 1, 4, 2, 4, 3, 4, 4]\n",
    "set(List)"
   ]
  },
  {
   "cell_type": "markdown",
   "id": "8bdeb8c7-8eb4-46ec-8bba-425a45a4dc61",
   "metadata": {},
   "source": [
    "4. Union() method creates a new set with joining 2 set values without changing the old set values, whereas Update() adds the values in the existing set, so the old set value gets updated to new set value."
   ]
  },
  {
   "cell_type": "code",
   "execution_count": 19,
   "id": "f62466be-9143-48f1-89d1-dd52f518ba79",
   "metadata": {},
   "outputs": [
    {
     "name": "stdout",
     "output_type": "stream",
     "text": [
      "{1, 2, 3, 4, 5, 6}\n",
      "{4, 5, 6}\n",
      "{1, 2, 3, 4}\n"
     ]
    }
   ],
   "source": [
    "s = {1,2,3,4}\n",
    "U = {4,5,6}\n",
    "print(U.union(s))\n",
    "print(U)\n",
    "print(s)"
   ]
  },
  {
   "cell_type": "code",
   "execution_count": 22,
   "id": "af56f1dc-ea96-4e19-8029-aa79e6d02e9e",
   "metadata": {},
   "outputs": [
    {
     "name": "stdout",
     "output_type": "stream",
     "text": [
      "{1, 2, 3, 4, 5, 6}\n",
      "{1, 2, 3, 4}\n"
     ]
    }
   ],
   "source": [
    "s = {1,2,3,4}\n",
    "U = {4,5,6}\n",
    "U.update(s)\n",
    "print(U)\n",
    "print(s)"
   ]
  },
  {
   "cell_type": "markdown",
   "id": "f060f00f-2faf-47aa-9509-263d36f19974",
   "metadata": {},
   "source": [
    "5.Dictionary is the collection of Key - Value pair. Where Key should be a unique value. Each key should refer to a single data type.\n",
    "Dict = {1: 'Pw', 2: 'data science', 3: 'Skills'}\n",
    "Dictionary is an unordered collection of data."
   ]
  },
  {
   "cell_type": "markdown",
   "id": "4434d2d4-a7ba-4ebd-ad0d-4729e775fd6b",
   "metadata": {},
   "source": [
    "6.Yes, we can able to create nested Dictionary in python."
   ]
  },
  {
   "cell_type": "code",
   "execution_count": 46,
   "id": "44e54437-2605-4749-ad31-611b212e838e",
   "metadata": {},
   "outputs": [
    {
     "data": {
      "text/plain": [
       "5"
      ]
     },
     "execution_count": 46,
     "metadata": {},
     "output_type": "execute_result"
    }
   ],
   "source": [
    "Dict1 = {1: {1:2,2:2,4:5},2:\"PWskills\"}\n",
    "Dict1[1][4]"
   ]
  },
  {
   "cell_type": "code",
   "execution_count": 42,
   "id": "7e6b1dda-36c8-4dac-81ba-017ec3a9bdb7",
   "metadata": {},
   "outputs": [
    {
     "name": "stdout",
     "output_type": "stream",
     "text": [
      "{'language': 'Python', 'course': 'Data Science Masters', ' Used for': 'Machine Learning'}\n"
     ]
    },
    {
     "data": {
      "text/plain": [
       "dict_values(['Python', 'Data Science Masters', 'Machine Learning'])"
      ]
     },
     "execution_count": 42,
     "metadata": {},
     "output_type": "execute_result"
    }
   ],
   "source": [
    "dict1 = {'language' : 'Python', 'course': 'Data Science Masters'}\n",
    "dict1.setdefault(\" Used for\", \"Machine Learning\")\n",
    "print(dict1)\n",
    "dict1.values()\n"
   ]
  },
  {
   "cell_type": "markdown",
   "id": "0ee0ff0f-77c2-4808-a638-a3800d3af0cf",
   "metadata": {},
   "source": [
    "8.The three view objects in python Dictionary are values,keys,items."
   ]
  },
  {
   "cell_type": "code",
   "execution_count": 45,
   "id": "95b6bf59-2307-4d96-ae10-812fd4a35c66",
   "metadata": {},
   "outputs": [
    {
     "name": "stdout",
     "output_type": "stream",
     "text": [
      "dict_items([('Sport', 'Cricket'), ('Teams', ['India', 'Australia', 'England', 'South Africa', 'Sri Lanka', 'New Zealand'])])\n",
      "dict_keys(['Sport', 'Teams'])\n",
      "dict_values(['Cricket', ['India', 'Australia', 'England', 'South Africa', 'Sri Lanka', 'New Zealand']])\n"
     ]
    }
   ],
   "source": [
    "dict1 = {'Sport': 'Cricket' , 'Teams': ['India', 'Australia', 'England', 'South Africa', 'Sri Lanka', 'New Zealand']}\n",
    "print(dict1.items())\n",
    "print(dict1.keys())\n",
    "print(dict1.values())"
   ]
  },
  {
   "cell_type": "code",
   "execution_count": null,
   "id": "3f9cb470-241a-4799-8eba-b7a24a8ca309",
   "metadata": {},
   "outputs": [],
   "source": []
  }
 ],
 "metadata": {
  "kernelspec": {
   "display_name": "Python 3 (ipykernel)",
   "language": "python",
   "name": "python3"
  },
  "language_info": {
   "codemirror_mode": {
    "name": "ipython",
    "version": 3
   },
   "file_extension": ".py",
   "mimetype": "text/x-python",
   "name": "python",
   "nbconvert_exporter": "python",
   "pygments_lexer": "ipython3",
   "version": "3.10.8"
  }
 },
 "nbformat": 4,
 "nbformat_minor": 5
}
