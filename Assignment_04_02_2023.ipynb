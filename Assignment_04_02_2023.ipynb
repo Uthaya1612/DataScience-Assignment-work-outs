{
 "cells": [
  {
   "cell_type": "code",
   "execution_count": 16,
   "id": "51d83a7d-ac39-4a26-a234-31f844f320e1",
   "metadata": {},
   "outputs": [
    {
     "name": "stdout",
     "output_type": "stream",
     "text": [
      "[('Virat Kohli', 24936), ('Jack Kallis', 25534), ('Ricky Ponting', 27483), ('Sachin Tendulkar', 34357)]\n"
     ]
    }
   ],
   "source": [
    "list1 = [('Sachin Tendulkar', 34357), ('Ricky Ponting', 27483), ('Jack Kallis', 25534), ('Virat Kohli', 24936)]\n",
    "list1.sort(key = lambda a : a[1])\n",
    "print(list1)"
   ]
  },
  {
   "cell_type": "code",
   "execution_count": 18,
   "id": "6ac41489-0bac-4a99-84dc-b82f7fd6fcb9",
   "metadata": {},
   "outputs": [
    {
     "data": {
      "text/plain": [
       "[1, 4, 9, 16, 25, 36, 49, 64, 81, 100]"
      ]
     },
     "execution_count": 18,
     "metadata": {},
     "output_type": "execute_result"
    }
   ],
   "source": [
    "List2 = [1, 2, 3, 4, 5, 6, 7, 8, 9, 10]\n",
    "list(map(lambda x: x**2,List2))"
   ]
  },
  {
   "cell_type": "code",
   "execution_count": 19,
   "id": "602c4995-bbea-49e0-ba21-023d51809cfc",
   "metadata": {},
   "outputs": [
    {
     "data": {
      "text/plain": [
       "['1', '2', '3', '4', '5', '6', '7', '8', '9', '10']"
      ]
     },
     "execution_count": 19,
     "metadata": {},
     "output_type": "execute_result"
    }
   ],
   "source": [
    "List3=[1, 2, 3, 4, 5, 6, 7, 8, 9, 10]\n",
    "list(map(lambda x: str(x),List3))"
   ]
  },
  {
   "cell_type": "code",
   "execution_count": 21,
   "id": "3a6b9bf1-fba2-4d27-b216-7a68d4b6dffe",
   "metadata": {},
   "outputs": [
    {
     "data": {
      "text/plain": [
       "620448401733239439360000"
      ]
     },
     "execution_count": 21,
     "metadata": {},
     "output_type": "execute_result"
    }
   ],
   "source": [
    "from functools import reduce\n",
    "reduce(lambda x,y: x*y,range(1,25))"
   ]
  },
  {
   "cell_type": "code",
   "execution_count": 30,
   "id": "d8f29ad7-2615-426f-a100-e3497a0a9563",
   "metadata": {},
   "outputs": [
    {
     "name": "stdout",
     "output_type": "stream",
     "text": [
      "Divisible by 2 are [2, 6, 60, 90, 120, 46]\n",
      "Divisible by 3 are [3, 6, 9, 27, 60, 90, 120]\n"
     ]
    }
   ],
   "source": [
    "List4= [2, 3, 6, 9, 27, 60, 90, 120, 55, 46]\n",
    "print(\"Divisible by 2 are {}\".format(list(filter(lambda x: x%2==0 ,List4))))\n",
    "print(\"Divisible by 3 are {}\".format(list(filter(lambda x: x%3==0 ,List4))))"
   ]
  },
  {
   "cell_type": "code",
   "execution_count": 36,
   "id": "636e9314-08a9-4886-8d26-b5734e794f07",
   "metadata": {},
   "outputs": [
    {
     "name": "stdout",
     "output_type": "stream",
     "text": [
      "Palindromes in list are ...['php', 'aba', 'radar', 'level']\n"
     ]
    }
   ],
   "source": [
    "list5 = ['python', 'php', 'aba', 'radar', 'level']\n",
    "print (\"Palindromes in list are ...{}\".format(list(filter(lambda x: x[::-1]==x,list5))))"
   ]
  },
  {
   "cell_type": "code",
   "execution_count": null,
   "id": "36e66118-8310-499f-b183-5094d5b1c7e6",
   "metadata": {},
   "outputs": [],
   "source": []
  }
 ],
 "metadata": {
  "kernelspec": {
   "display_name": "Python 3 (ipykernel)",
   "language": "python",
   "name": "python3"
  },
  "language_info": {
   "codemirror_mode": {
    "name": "ipython",
    "version": 3
   },
   "file_extension": ".py",
   "mimetype": "text/x-python",
   "name": "python",
   "nbconvert_exporter": "python",
   "pygments_lexer": "ipython3",
   "version": "3.10.8"
  }
 },
 "nbformat": 4,
 "nbformat_minor": 5
}
